{
 "cells": [
  {
   "cell_type": "markdown",
   "id": "16be9069-a3bd-4904-88e2-f5890b7c0342",
   "metadata": {},
   "source": [
    "## Import Packages"
   ]
  },
  {
   "cell_type": "code",
   "execution_count": 1,
   "id": "305cccab-9e02-4213-a9a1-6aaa4e834c7c",
   "metadata": {},
   "outputs": [],
   "source": [
    "import jupyterlab_nodeeditor as jlne\n",
    "from yggdrasil import yamlfile"
   ]
  },
  {
   "cell_type": "markdown",
   "id": "bb142843-d9b3-4450-86ba-d5ff85993626",
   "metadata": {},
   "source": [
    "## Preparation"
   ]
  },
  {
   "cell_type": "markdown",
   "id": "17a1d85b-86f8-4cd6-a03c-9d130348ed8f",
   "metadata": {},
   "source": [
    "**set up socket types for node editor**"
   ]
  },
  {
   "cell_type": "code",
   "execution_count": 2,
   "id": "b88107df-eac9-4ad0-80a4-b7e87ed35b4d",
   "metadata": {},
   "outputs": [],
   "source": [
    "schema = yamlfile.get_schema()\n",
    "socket_types = tuple(schema.form_schema['definitions']['schema']['definitions']['simpleTypes']['enum'])\n",
    "coll = jlne.SocketCollection(socket_types = socket_types)"
   ]
  },
  {
   "cell_type": "markdown",
   "id": "52caca4c-2e6b-4019-be45-131c9ad1c7b9",
   "metadata": {},
   "source": [
    "**load yml file**"
   ]
  },
  {
   "cell_type": "code",
   "execution_count": 3,
   "id": "0a401bc9-0e3f-4dc4-b93e-e9f7f575b560",
   "metadata": {},
   "outputs": [],
   "source": [
    "filename = \"./gs_lesson4/gs_lesson4_python.yml\"\n",
    "model_set = yamlfile.parse_yaml(filename, model_only=True)"
   ]
  },
  {
   "cell_type": "code",
   "execution_count": 4,
   "id": "47f4776a-bbd0-41b6-87b3-6556b2fd9ca0",
   "metadata": {},
   "outputs": [],
   "source": [
    "# model_set[\"models\"][0].keys()"
   ]
  },
  {
   "cell_type": "code",
   "execution_count": 5,
   "id": "51f72d5d-e999-4153-82bd-756a628d8f67",
   "metadata": {},
   "outputs": [],
   "source": [
    "# model_set[\"models\"][0][\"inputs\"]"
   ]
  },
  {
   "cell_type": "markdown",
   "id": "ffaf3c2f-68a2-41c3-a5ad-4b0c916c9790",
   "metadata": {},
   "source": [
    "## Transformation"
   ]
  },
  {
   "cell_type": "code",
   "execution_count": 6,
   "id": "7ab72485-6309-4398-a5af-cb22c5aeb96f",
   "metadata": {},
   "outputs": [],
   "source": [
    "def transform(model_set,coll):\n",
    "    all_nodes=[]\n",
    "    node_id=1\n",
    "    for model in model_set[\"models\"]:\n",
    "        inputs=[]\n",
    "        outputs=[]\n",
    "        \n",
    "        ## currently we only consider inputs/outputs contains on input/output\n",
    "        for input__ in model[\"inputs\"]:\n",
    "            inputs.append(input__[\"name\"].split(\":\")[1])\n",
    "        \n",
    "        for output__ in model[\"outputs\"]:\n",
    "            outputs.append(output__[\"name\"].split(\":\")[1])\n",
    "        \n",
    "        ## we create the ints and outs below. at the end return the nodes\n",
    "        input_param=1\n",
    "        output_parm=1\n",
    "        input_ls=[]\n",
    "        output_ls=[]\n",
    "        for input_ in inputs:\n",
    "            locals()['int_{}'.format(input_param)] = jlne.InputSlot(title = input_, key='int_{}'.format(input_param) ,sockets = coll,  multi_connection=True)\n",
    "            input_ls.append(locals()['int_{}'.format(input_param)])\n",
    "            input_param=input_param+1\n",
    "            \n",
    "        for output_ in outputs:\n",
    "            locals()['out_{}'.format(output_parm)] = jlne.OutputSlot(title = output_, key='out_{}'.format(output_parm),sockets = coll,  multi_connection=True)\n",
    "            output_ls.append(locals()['out_{}'.format(output_parm)] )\n",
    "            output_parm=output_parm+1\n",
    "        \n",
    "        \n",
    "        locals()['node_{}'.format(node_id)]=jlne.node_editor.NodeInstanceModel(title=\"Custom Node {}\".format(node_id),inputs=input_ls, outputs=output_ls)\n",
    "        all_nodes.append(locals()['node_{}'.format(node_id)])\n",
    "        node_id=node_id+1\n",
    "\n",
    "    return(all_nodes)"
   ]
  },
  {
   "cell_type": "code",
   "execution_count": 7,
   "id": "4894f320-9633-4241-805b-df2493dd5ccb",
   "metadata": {},
   "outputs": [],
   "source": [
    "new_nodes=transform(model_set,coll)"
   ]
  },
  {
   "cell_type": "markdown",
   "id": "34d35259-b4ec-4209-b3b8-a121b00bc56d",
   "metadata": {},
   "source": [
    "## [Editor] Visualize the Components"
   ]
  },
  {
   "cell_type": "code",
   "execution_count": 8,
   "id": "3186dde3-9ae4-48cd-99b5-360238e3698b",
   "metadata": {
    "tags": []
   },
   "outputs": [
    {
     "data": {
      "application/vnd.jupyter.widget-view+json": {
       "model_id": "a2c8bc706abf43f4b065ab33a0597884",
       "version_major": 2,
       "version_minor": 0
      },
      "text/plain": [
       "HBox(children=(NodeEditorModel(selected_node=None), Tab()))"
      ]
     },
     "metadata": {},
     "output_type": "display_data"
    }
   ],
   "source": [
    "editor = jlne.NodeEditor(socket_types=socket_types)\n",
    "editor"
   ]
  },
  {
   "cell_type": "code",
   "execution_count": 9,
   "id": "28910769-1ecd-44ea-99e1-c42ebe9d8dc1",
   "metadata": {},
   "outputs": [],
   "source": [
    "for node in new_nodes:\n",
    "    editor.node_editor.nodes=editor.node_editor.nodes+[node]"
   ]
  }
 ],
 "metadata": {
  "kernelspec": {
   "display_name": "Python 3 (ipykernel)",
   "language": "python",
   "name": "python3"
  },
  "language_info": {
   "codemirror_mode": {
    "name": "ipython",
    "version": 3
   },
   "file_extension": ".py",
   "mimetype": "text/x-python",
   "name": "python",
   "nbconvert_exporter": "python",
   "pygments_lexer": "ipython3",
   "version": "3.8.13"
  },
  "vscode": {
   "interpreter": {
    "hash": "883132ca0208232183317e537f0f2edc5b4fb590f95fd4a60402cab9f6522e71"
   }
  }
 },
 "nbformat": 4,
 "nbformat_minor": 5
}
