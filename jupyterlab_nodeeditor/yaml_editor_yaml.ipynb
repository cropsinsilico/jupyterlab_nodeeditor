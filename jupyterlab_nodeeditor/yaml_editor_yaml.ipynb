{
 "cells": [
  {
   "cell_type": "markdown",
   "id": "039f2b58-2572-46f2-af6c-579f82636243",
   "metadata": {},
   "source": [
    "## Preparation"
   ]
  },
  {
   "cell_type": "markdown",
   "id": "ddfae637-a2e2-459f-8482-a219d7f37103",
   "metadata": {},
   "source": [
    "users need to first import the jupyterlab_nodeeditor and specify the address of the YAML files"
   ]
  },
  {
   "cell_type": "code",
   "execution_count": 1,
   "id": "89bf320b-3577-4652-a6ce-0f522c1ada51",
   "metadata": {},
   "outputs": [],
   "source": [
    "import jupyterlab_nodeeditor as jlne"
   ]
  },
  {
   "cell_type": "code",
   "execution_count": 2,
   "id": "80fae6c8-bae0-47b6-9d68-2ca678f3d8f9",
   "metadata": {},
   "outputs": [],
   "source": [
    "sample_3 = \"./sample_models/sample_3.yml\"\n",
    "photosynthesis =  \"./sample_models/photosynthesis.yml\""
   ]
  },
  {
   "cell_type": "markdown",
   "id": "14981871-443b-4df9-aad0-639176d14b8d",
   "metadata": {},
   "source": [
    "## Workspace"
   ]
  },
  {
   "cell_type": "code",
   "execution_count": 3,
   "id": "3c12c8a2-010c-4497-8a7a-7006a14c4c96",
   "metadata": {
    "tags": []
   },
   "outputs": [
    {
     "data": {
      "application/vnd.jupyter.widget-view+json": {
       "model_id": "45f48627bb7b4a4aaa7a542d2ce7cc50",
       "version_major": 2,
       "version_minor": 0
      },
      "text/plain": [
       "AppLayout(children=(Label(value='Node Editor', layout=Layout(grid_area='header')), Accordion(layout=Layout(gri…"
      ]
     },
     "metadata": {},
     "output_type": "display_data"
    }
   ],
   "source": [
    "editor=jlne.yml_trans([sample_3, photosynthesis])\n",
    "editor"
   ]
  },
  {
   "cell_type": "markdown",
   "id": "527041fc-f938-439d-a106-158bd23a568b",
   "metadata": {
    "tags": []
   },
   "source": [
    "## Export the YAML file"
   ]
  },
  {
   "cell_type": "code",
   "execution_count": 7,
   "id": "e8dc9715-80bf-4321-bf7d-655f02e59bd0",
   "metadata": {},
   "outputs": [],
   "source": [
    "jlne.editor_yaml(editor, \"./sample_models/export_test.yml\")"
   ]
  },
  {
   "cell_type": "markdown",
   "id": "c0058cf8-ac27-4ff9-974c-c90fdf580b1e",
   "metadata": {},
   "source": [
    "## Import Test"
   ]
  },
  {
   "cell_type": "code",
   "execution_count": 8,
   "id": "262c374a-9963-41b5-aebc-39d1dedf059f",
   "metadata": {},
   "outputs": [],
   "source": [
    "export_test=\"./sample_models/export_test.yml\""
   ]
  },
  {
   "cell_type": "code",
   "execution_count": 9,
   "id": "903cb0b8-dc8d-4b3a-bee1-3af4d2296771",
   "metadata": {},
   "outputs": [
    {
     "data": {
      "application/vnd.jupyter.widget-view+json": {
       "model_id": "f4a286fa9860486d824e38833cc9bb82",
       "version_major": 2,
       "version_minor": 0
      },
      "text/plain": [
       "AppLayout(children=(Label(value='Node Editor', layout=Layout(grid_area='header')), Accordion(children=(VBox(ch…"
      ]
     },
     "metadata": {},
     "output_type": "display_data"
    }
   ],
   "source": [
    "editor_test=jlne.yml_trans(export_test, show_instance=True)\n",
    "editor_test"
   ]
  },
  {
   "cell_type": "code",
   "execution_count": null,
   "id": "942f9cc8-e6ce-4804-b3b4-c8e7c474fd05",
   "metadata": {},
   "outputs": [],
   "source": []
  }
 ],
 "metadata": {
  "kernelspec": {
   "display_name": "schema",
   "language": "python",
   "name": "schema"
  },
  "language_info": {
   "codemirror_mode": {
    "name": "ipython",
    "version": 3
   },
   "file_extension": ".py",
   "mimetype": "text/x-python",
   "name": "python",
   "nbconvert_exporter": "python",
   "pygments_lexer": "ipython3",
   "version": "3.8.13"
  }
 },
 "nbformat": 4,
 "nbformat_minor": 5
}
