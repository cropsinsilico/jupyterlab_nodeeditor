{
 "cells": [
  {
   "cell_type": "markdown",
   "id": "039f2b58-2572-46f2-af6c-579f82636243",
   "metadata": {},
   "source": [
    "## Preparation"
   ]
  },
  {
   "cell_type": "markdown",
   "id": "ddfae637-a2e2-459f-8482-a219d7f37103",
   "metadata": {},
   "source": [
    "users need to first import the jupyterlab_nodeeditor and specify the address of the YAML files"
   ]
  },
  {
   "cell_type": "code",
   "execution_count": 1,
   "id": "89bf320b-3577-4652-a6ce-0f522c1ada51",
   "metadata": {},
   "outputs": [],
   "source": [
    "import jupyterlab_nodeeditor as jlne\n",
    "from yggdrasil import yamlfile"
   ]
  },
  {
   "cell_type": "code",
   "execution_count": 2,
   "id": "80fae6c8-bae0-47b6-9d68-2ca678f3d8f9",
   "metadata": {},
   "outputs": [],
   "source": [
    "sample_1 = \"./sample_models/sample_1.yml\"\n",
    "photosynthesis =  \"./sample_models/photosynthesis.yml\""
   ]
  },
  {
   "cell_type": "code",
   "execution_count": 3,
   "id": "39244159-219f-4da9-9a14-224fff24d8d1",
   "metadata": {},
   "outputs": [],
   "source": [
    "# yaml_temp_dict=yamlfile.parse_yaml(sample_1,model_only=True)"
   ]
  },
  {
   "cell_type": "code",
   "execution_count": 4,
   "id": "3d16a061-ef83-4299-aec0-74b84beaff7f",
   "metadata": {},
   "outputs": [],
   "source": [
    "# yaml_temp_dict[\"models\"][0]"
   ]
  },
  {
   "cell_type": "markdown",
   "id": "14981871-443b-4df9-aad0-639176d14b8d",
   "metadata": {},
   "source": [
    "## Workspace"
   ]
  },
  {
   "cell_type": "code",
   "execution_count": 5,
   "id": "3c12c8a2-010c-4497-8a7a-7006a14c4c96",
   "metadata": {},
   "outputs": [
    {
     "data": {
      "application/vnd.jupyter.widget-view+json": {
       "model_id": "69f96fb000304903a493e657a654d052",
       "version_major": 2,
       "version_minor": 0
      },
      "text/plain": [
       "AppLayout(children=(Label(value='Node Editor', layout=Layout(grid_area='header')), Accordion(layout=Layout(gri…"
      ]
     },
     "metadata": {},
     "output_type": "display_data"
    }
   ],
   "source": [
    "editor=jlne.yml_trans([sample_1,photosynthesis])\n",
    "editor"
   ]
  },
  {
   "cell_type": "markdown",
   "id": "527041fc-f938-439d-a106-158bd23a568b",
   "metadata": {},
   "source": [
    "## Export the YAML file"
   ]
  },
  {
   "cell_type": "code",
   "execution_count": 7,
   "id": "18615486-3168-45b0-873a-3134b8fc3389",
   "metadata": {},
   "outputs": [
    {
     "data": {
      "text/plain": [
       "{'f11faeea-eaf8-417b-a40b-afd105c66383': {'id': 'jupyterlab_nodeeditor@0.1.0',\n",
       "  'nodes': {'17': {'id': 17,\n",
       "    'data': {},\n",
       "    'inputs': {},\n",
       "    'outputs': {'out_1': {'connections': [{'node': 20,\n",
       "        'input': 'int_1',\n",
       "        'data': {}}]}},\n",
       "    'position': [176.781494140625, 35.823944091796875],\n",
       "    'name': 'modelA1'},\n",
       "   '18': {'id': 18,\n",
       "    'data': {},\n",
       "    'inputs': {'int_1': {'connections': [{'node': 21,\n",
       "        'output': 'out_1',\n",
       "        'data': {}}]}},\n",
       "    'outputs': {'out_1': {'connections': [{'node': 20,\n",
       "        'input': 'int_2',\n",
       "        'data': {}}]}},\n",
       "    'position': [316.43798828125, 214.89874267578125],\n",
       "    'name': 'modelB'},\n",
       "   '19': {'id': 19,\n",
       "    'data': {},\n",
       "    'inputs': {'int_1': {'connections': [{'node': 20,\n",
       "        'output': 'out_1',\n",
       "        'data': {}}]}},\n",
       "    'outputs': {},\n",
       "    'position': [952.6257934570312, 121.81475830078125],\n",
       "    'name': 'modelC'},\n",
       "   '20': {'id': 20,\n",
       "    'data': {},\n",
       "    'inputs': {'int_1': {'connections': [{'node': 17,\n",
       "        'output': 'out_1',\n",
       "        'data': {}}]},\n",
       "     'int_2': {'connections': [{'node': 18, 'output': 'out_1', 'data': {}}]},\n",
       "     'int_3': {'connections': [{'node': 23, 'output': 'out_1', 'data': {}}]}},\n",
       "    'outputs': {'out_1': {'connections': [{'node': 19,\n",
       "        'input': 'int_1',\n",
       "        'data': {}}]}},\n",
       "    'position': [654.45849609375, 70.90158081054688],\n",
       "    'name': 'PhotosynthesisModel'},\n",
       "   '21': {'id': 21,\n",
       "    'data': {},\n",
       "    'inputs': {},\n",
       "    'outputs': {'out_1': {'connections': [{'node': 18,\n",
       "        'input': 'int_1',\n",
       "        'data': {}}]}},\n",
       "    'position': [11.104583740234375, 233.46514892578125],\n",
       "    'name': 'modelA2'},\n",
       "   '23': {'id': 23,\n",
       "    'data': {},\n",
       "    'inputs': {},\n",
       "    'outputs': {'out_1': {'connections': [{'node': 20,\n",
       "        'input': 'int_3',\n",
       "        'data': {}}]}},\n",
       "    'position': [265.05088246105123, 475.8245299372628],\n",
       "    'name': 'modelA3'}}}}"
      ]
     },
     "execution_count": 7,
     "metadata": {},
     "output_type": "execute_result"
    }
   ],
   "source": [
    "editor.node_editor.sync_config()\n",
    "temp_str=editor.node_editor.editorConfig\n",
    "# temp_str"
   ]
  },
  {
   "cell_type": "code",
   "execution_count": 8,
   "id": "aa167a01-ed2f-46df-8556-fccd2d330604",
   "metadata": {},
   "outputs": [],
   "source": [
    "yml_dict={} # the keywords for yml_dict include \"models\" and \"connections\"\n",
    "model_ls=[]\n",
    "if len(list(temp_str.keys()))==0:\n",
    "    print(\"No component/instance has been detected in the workspace\")\n",
    "else:\n",
    "    node_ids=temp_str[list(temp_str.keys())[0]][\"nodes\"].keys()\n",
    "    added_models=[]\n",
    "    for node_id in node_ids:\n",
    "        # {\n",
    "        #        \"name\":\"PhotosynthesisModel\",\n",
    "        #        \"args\":[],\n",
    "        #        \"inputs\":[],\n",
    "        #        \"outputs\":[],\n",
    "        #        \"working_dir\":\"\",   #user defined\n",
    "        #        \"driver\":\"\",        #user defined\n",
    "        #        \"model_index\":      #auto-generate\n",
    "        #     }\n",
    "        single_model_dict={}  #store a single model\n",
    "        \n",
    "        \n",
    "        #extracted instance\n",
    "        inst=temp_str[list(temp_str.keys())[0]][\"nodes\"][node_id]\n",
    "        \n",
    "        model_id=inst[\"id\"]\n",
    "        model_name=inst[\"name\"]\n",
    "        #store all the node_id and associated model name for later connection match\n",
    "        inst_dict={}  \n",
    "        inst_dict[model_id]=model_name\n",
    "        \n",
    "        # {\n",
    "        #        \"name\":\"PhotosynthesisModel:light_intensity\",\n",
    "        #        \"default_file\":{\n",
    "        #           \"name\":\"./Input/light_intensity.txt\",\n",
    "        #           \"filetype\":\"table\",\n",
    "        #           \"working_dir\":\"/Users/yilinxia/jupyterlab_nodeeditor/jupyterlab_nodeeditor/sample_models\"\n",
    "        #        },\n",
    "        #        \"commtype\":\"default\",\n",
    "        #        \"datatype\":{\n",
    "        #           \"type\":\"bytes\"\n",
    "        #        },\n",
    "        #        \"model_driver\":[\n",
    "        #           \"PhotosynthesisModel\"\n",
    "        #        ],\n",
    "        #        \"partner_model\":\"PhotosynthesisModel\",\n",
    "        #        \"partner_language\":\"python\"\n",
    "        #     }\n",
    "        input_ls=[]\n",
    "        output_ls=[]\n",
    "        \n",
    "        inputs=list(inst[\"inputs\"].keys())\n",
    "        for model_input in inputs:\n",
    "            single_port={}\n",
    "            single_port[\"name\"]=model_name+\":\"+model_input\n",
    "            input_ls.append(single_port)\n",
    "        \n",
    "        outputs=list(inst[\"outputs\"].keys())\n",
    "        for model_output in outputs:\n",
    "            single_port={}\n",
    "            single_port[\"name\"]=model_name+\":\"+model_output\n",
    "            output_ls.append(single_port)\n",
    "        \n",
    "        # print(inst)\n",
    "        # print(model_name)\n",
    "        # print(inputs)\n",
    "        # print(outputs)\n",
    "        # print(\"=====================\")\n",
    "        single_model_dict[\"name\"]=model_name\n",
    "        if len(input_ls)!=0:\n",
    "            single_model_dict[\"inputs\"]=input_ls\n",
    "        if len(output_ls)!=0:\n",
    "            single_model_dict[\"outputs\"]=output_ls\n",
    "        \n",
    "        #for test purpose\n",
    "        single_model_dict[\"language\"]=\"python\"\n",
    "        single_model_dict[\"args\"]=\"./src/modelA.py\"\n",
    "        \n",
    "        \n",
    "        if model_name not in added_models:\n",
    "            added_models.append(model_name)\n",
    "            model_ls.append(single_model_dict)\n",
    "        \n",
    "yml_dict[\"models\"]=model_ls"
   ]
  },
  {
   "cell_type": "code",
   "execution_count": 9,
   "id": "320dfc49-11e7-4667-bb18-7cc2a427898d",
   "metadata": {},
   "outputs": [],
   "source": [
    "# yml_dict[\"models\"]"
   ]
  },
  {
   "cell_type": "code",
   "execution_count": 10,
   "id": "e8dc9715-80bf-4321-bf7d-655f02e59bd0",
   "metadata": {},
   "outputs": [],
   "source": [
    "import yaml"
   ]
  },
  {
   "cell_type": "code",
   "execution_count": 11,
   "id": "0db84132-c879-4908-96e9-c32aae6105e7",
   "metadata": {},
   "outputs": [],
   "source": [
    "stream = open(\"./sample_models/export_test.yml\", 'w')"
   ]
  },
  {
   "cell_type": "code",
   "execution_count": 12,
   "id": "0fbc53c8-1b4c-427d-9ae9-16c3fb196c29",
   "metadata": {},
   "outputs": [],
   "source": [
    "yaml.dump(yml_dict,stream)"
   ]
  },
  {
   "cell_type": "markdown",
   "id": "c0058cf8-ac27-4ff9-974c-c90fdf580b1e",
   "metadata": {},
   "source": [
    "## Import Test"
   ]
  },
  {
   "cell_type": "code",
   "execution_count": 13,
   "id": "262c374a-9963-41b5-aebc-39d1dedf059f",
   "metadata": {},
   "outputs": [],
   "source": [
    "export_test=\"./sample_models/export_test.yml\""
   ]
  },
  {
   "cell_type": "code",
   "execution_count": 14,
   "id": "e8434f15-147c-4568-ae81-727d63500549",
   "metadata": {},
   "outputs": [],
   "source": [
    "# yamlfile.parse_yaml(export_test,model_only=True)"
   ]
  },
  {
   "cell_type": "code",
   "execution_count": 15,
   "id": "903cb0b8-dc8d-4b3a-bee1-3af4d2296771",
   "metadata": {},
   "outputs": [
    {
     "data": {
      "application/vnd.jupyter.widget-view+json": {
       "model_id": "38f09e40876f4d7781b6a737803e981b",
       "version_major": 2,
       "version_minor": 0
      },
      "text/plain": [
       "AppLayout(children=(Label(value='Node Editor', layout=Layout(grid_area='header')), Accordion(layout=Layout(gri…"
      ]
     },
     "metadata": {},
     "output_type": "display_data"
    }
   ],
   "source": [
    "editor=jlne.yml_trans(export_test)\n",
    "editor"
   ]
  },
  {
   "cell_type": "code",
   "execution_count": null,
   "id": "462a6f0b-4da2-4151-b9c0-1f1e7c1373bb",
   "metadata": {},
   "outputs": [],
   "source": []
  }
 ],
 "metadata": {
  "kernelspec": {
   "display_name": "schema",
   "language": "python",
   "name": "schema"
  },
  "language_info": {
   "codemirror_mode": {
    "name": "ipython",
    "version": 3
   },
   "file_extension": ".py",
   "mimetype": "text/x-python",
   "name": "python",
   "nbconvert_exporter": "python",
   "pygments_lexer": "ipython3",
   "version": "3.8.13"
  }
 },
 "nbformat": 4,
 "nbformat_minor": 5
}
