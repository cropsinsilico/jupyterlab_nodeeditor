{
 "cells": [
  {
   "cell_type": "markdown",
   "id": "039f2b58-2572-46f2-af6c-579f82636243",
   "metadata": {},
   "source": [
    "## Preparation"
   ]
  },
  {
   "cell_type": "markdown",
   "id": "ddfae637-a2e2-459f-8482-a219d7f37103",
   "metadata": {},
   "source": [
    "users need to first import the jupyterlab_nodeeditor and specify the address of the YAML files"
   ]
  },
  {
   "cell_type": "code",
   "execution_count": 1,
   "id": "89bf320b-3577-4652-a6ce-0f522c1ada51",
   "metadata": {},
   "outputs": [],
   "source": [
    "import jupyterlab_nodeeditor as jlne\n",
    "from yggdrasil import yamlfile"
   ]
  },
  {
   "cell_type": "code",
   "execution_count": 2,
   "id": "80fae6c8-bae0-47b6-9d68-2ca678f3d8f9",
   "metadata": {},
   "outputs": [],
   "source": [
    "sample_1 = \"./sample_models/sample_1.yml\"\n",
    "photosynthesis =  \"./sample_models/photosynthesis.yml\""
   ]
  },
  {
   "cell_type": "markdown",
   "id": "14981871-443b-4df9-aad0-639176d14b8d",
   "metadata": {},
   "source": [
    "## Workspace"
   ]
  },
  {
   "cell_type": "code",
   "execution_count": 3,
   "id": "3c12c8a2-010c-4497-8a7a-7006a14c4c96",
   "metadata": {},
   "outputs": [
    {
     "data": {
      "application/vnd.jupyter.widget-view+json": {
       "model_id": "7a0d313f45284c36b76a610081da51e2",
       "version_major": 2,
       "version_minor": 0
      },
      "text/plain": [
       "AppLayout(children=(Label(value='Node Editor', layout=Layout(grid_area='header')), Accordion(layout=Layout(gri…"
      ]
     },
     "metadata": {},
     "output_type": "display_data"
    }
   ],
   "source": [
    "editor=jlne.yml_trans([sample_1,photosynthesis])\n",
    "editor"
   ]
  },
  {
   "cell_type": "markdown",
   "id": "527041fc-f938-439d-a106-158bd23a568b",
   "metadata": {},
   "source": [
    "## Export the YAML file"
   ]
  },
  {
   "cell_type": "markdown",
   "id": "d56967d2-3161-47a5-ab0e-11b9930d2491",
   "metadata": {},
   "source": [
    "### Pre-processing Editor"
   ]
  },
  {
   "cell_type": "code",
   "execution_count": 4,
   "id": "57205606-be1f-4da4-a14e-cc8e46da6824",
   "metadata": {},
   "outputs": [],
   "source": [
    "def parse_editor_config(py_models_dict,editor_json):\n",
    "    if \"id\" in editor_json.keys():\n",
    "        node_ids=editor_json[\"nodes\"].keys()\n",
    "    else:\n",
    "        node_ids=editor_json[list(editor_json.keys())[0]][\"nodes\"].keys()\n",
    "    added_models=[]\n",
    "\n",
    "    for node_id in node_ids:\n",
    "\n",
    "        single_model_dict={}  #store a single model\n",
    "\n",
    "        #extracted instance\n",
    "        if \"id\" in editor_json.keys():\n",
    "            inst=editor_json[\"nodes\"][node_id]\n",
    "        else:\n",
    "            inst=editor_json[list(editor_json.keys())[0]][\"nodes\"][node_id]\n",
    "        \n",
    "\n",
    "        model_id=inst[\"id\"]\n",
    "        model_name=inst[\"name\"]\n",
    "\n",
    "        #store all the node_id and associated model name for later connection match\n",
    "        inst_dict={}  \n",
    "        inst_dict[model_id]=model_name\n",
    "\n",
    "\n",
    "        input_ls=[]\n",
    "        output_ls=[]\n",
    "\n",
    "        inputs=list(py_models_dict[model_name][\"inputs\"])\n",
    "        for model_input in inputs:\n",
    "            single_port={}\n",
    "            single_port[\"name\"]=model_name+\":\"+model_input.title\n",
    "            input_ls.append(single_port)\n",
    "\n",
    "        outputs=list(py_models_dict[model_name][\"outputs\"])\n",
    "        for model_output in outputs:\n",
    "            single_port={}\n",
    "            single_port[\"name\"]=model_name+\":\"+model_output.title\n",
    "            output_ls.append(single_port)\n",
    "\n",
    "\n",
    "        single_model_dict[\"name\"]=model_name\n",
    "        if len(input_ls)!=0:\n",
    "            single_model_dict[\"inputs\"]=input_ls\n",
    "        if len(output_ls)!=0:\n",
    "            single_model_dict[\"outputs\"]=output_ls\n",
    "\n",
    "        #for test purpose\n",
    "        single_model_dict[\"language\"]=\"python\"\n",
    "        single_model_dict[\"args\"]=py_models_dict[model_name][\"args\"]\n",
    "\n",
    "\n",
    "        if model_name not in added_models:\n",
    "            added_models.append(model_name)\n",
    "            model_ls.append(single_model_dict)\n",
    "    return(model_ls)"
   ]
  },
  {
   "cell_type": "code",
   "execution_count": 5,
   "id": "aa167a01-ed2f-46df-8556-fccd2d330604",
   "metadata": {},
   "outputs": [],
   "source": [
    "editor.node_editor.sync_config()\n",
    "editor_json=editor.node_editor.editorConfig\n",
    "editor_py=editor.node_editor.nodes\n",
    "\n",
    "\n",
    "py_models_dict=dict()   # extract outputs/inputs/ args information from editor_py\n",
    "for model_id in range(len(editor_py)):\n",
    "    single_model=dict()\n",
    "    single_model[\"args\"]=editor_py[model_id].controls[0].value\n",
    "    single_model[\"inputs\"]=editor_py[model_id].inputs\n",
    "    single_model[\"outputs\"]=editor_py[model_id].outputs\n",
    "    py_models_dict[editor_py[model_id].title]=single_model\n",
    "\n",
    "\n",
    "yml_dict={} # the keywords for yml_dict include \"models\" and \"connections\"\n",
    "model_ls=[]\n",
    "\n",
    "if len(list(editor_json.keys()))==0:\n",
    "    print(\"No component/instance has been detected in the workspace\")\n",
    "else:\n",
    "    model_ls=parse_editor_config(py_models_dict,editor_json)  \n",
    "    yml_dict[\"models\"]=model_ls"
   ]
  },
  {
   "cell_type": "markdown",
   "id": "2f49aea4-60c1-4f97-b1df-ca45149dfe1a",
   "metadata": {},
   "source": [
    "### Dump YAML file"
   ]
  },
  {
   "cell_type": "code",
   "execution_count": 6,
   "id": "e8dc9715-80bf-4321-bf7d-655f02e59bd0",
   "metadata": {},
   "outputs": [],
   "source": [
    "import yaml\n",
    "stream = open(\"./sample_models/export_test.yml\", 'w')\n",
    "yaml.dump(yml_dict,stream)"
   ]
  },
  {
   "cell_type": "markdown",
   "id": "c0058cf8-ac27-4ff9-974c-c90fdf580b1e",
   "metadata": {},
   "source": [
    "## Import Test"
   ]
  },
  {
   "cell_type": "code",
   "execution_count": 7,
   "id": "262c374a-9963-41b5-aebc-39d1dedf059f",
   "metadata": {},
   "outputs": [],
   "source": [
    "export_test=\"./sample_models/export_test.yml\""
   ]
  },
  {
   "cell_type": "code",
   "execution_count": 8,
   "id": "e8434f15-147c-4568-ae81-727d63500549",
   "metadata": {},
   "outputs": [],
   "source": [
    "# yamlfile.parse_yaml(export_test,model_only=True)"
   ]
  },
  {
   "cell_type": "code",
   "execution_count": 9,
   "id": "903cb0b8-dc8d-4b3a-bee1-3af4d2296771",
   "metadata": {},
   "outputs": [
    {
     "data": {
      "application/vnd.jupyter.widget-view+json": {
       "model_id": "b80627b5009c48b1b94d0094d91f9749",
       "version_major": 2,
       "version_minor": 0
      },
      "text/plain": [
       "AppLayout(children=(Label(value='Node Editor', layout=Layout(grid_area='header')), Accordion(layout=Layout(gri…"
      ]
     },
     "metadata": {},
     "output_type": "display_data"
    }
   ],
   "source": [
    "editor=jlne.yml_trans(export_test)\n",
    "editor"
   ]
  }
 ],
 "metadata": {
  "kernelspec": {
   "display_name": "schema",
   "language": "python",
   "name": "schema"
  },
  "language_info": {
   "codemirror_mode": {
    "name": "ipython",
    "version": 3
   },
   "file_extension": ".py",
   "mimetype": "text/x-python",
   "name": "python",
   "nbconvert_exporter": "python",
   "pygments_lexer": "ipython3",
   "version": "3.8.13"
  }
 },
 "nbformat": 4,
 "nbformat_minor": 5
}
