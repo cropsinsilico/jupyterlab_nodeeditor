{
 "cells": [
  {
   "cell_type": "code",
   "execution_count": null,
   "id": "split-december",
   "metadata": {},
   "outputs": [],
   "source": [
    "import jupyterlab_nodeeditor as jlne"
   ]
  },
  {
   "cell_type": "code",
   "execution_count": null,
   "id": "shaped-amsterdam",
   "metadata": {},
   "outputs": [],
   "source": [
    "coll = jlne.SocketCollection(socket_types = ('Temperature', 'Rainfall', 'Delta Time', 'Results'))"
   ]
  },
  {
   "cell_type": "code",
   "execution_count": null,
   "id": "0cde11a6-8936-404d-85a3-06248895a089",
   "metadata": {},
   "outputs": [],
   "source": [
    "in1 = jlne.InputSlot(title = \"Temperature Morning\", key = \"temp1\", socket_type = \"Temperature\", sockets = coll)\n",
    "in2 = jlne.InputSlot(title = \"Temperature Afternoon\", key = \"temp2\", socket_type = \"Temperature\", sockets = coll)\n",
    "in3 = jlne.InputSlot(title = \"Temperature Evening\", key = \"temp3\", socket_type = \"Temperature\", sockets = coll)"
   ]
  },
  {
   "cell_type": "code",
   "execution_count": null,
   "id": "3c981b65-88e3-4f01-b679-4862e86135bf",
   "metadata": {},
   "outputs": [],
   "source": [
    "out1 = jlne.OutputSlot(title = \"Average Temperature\", key = \"avg_temp\", socket_type=\"Temperature\", sockets = coll)"
   ]
  },
  {
   "cell_type": "code",
   "execution_count": null,
   "id": "ba28ba98-6398-43de-aead-e4bdf7f3f675",
   "metadata": {},
   "outputs": [],
   "source": [
    "in4 = jlne.InputSlot(title = \"Daily Rainfall\", key=\"rainfall\", socket_type=\"Rainfall\", sockets=coll)\n",
    "in5 = jlne.InputSlot(title = \"Daily Temperature\", key=\"temp\", socket_type=\"Temperature\", sockets=coll)\n",
    "in6 = jlne.InputSlot(title = \"Time at Sunrise\", key=\"time\", socket_type=\"Delta Time\", sockets=coll)\n",
    "out2 = jlne.OutputSlot(title = \"Results\", key=\"results\", socket_type=\"Results\", sockets=coll)"
   ]
  },
  {
   "cell_type": "code",
   "execution_count": null,
   "id": "7a974a1b-fdf7-474b-881d-d8b7f7d6c1e2",
   "metadata": {},
   "outputs": [],
   "source": [
    "c1 = jlne.Component(sockets=coll, inputs = [in1, in2, in3], outputs = [out1], title=\"Temperature Averaging\")\n",
    "c2 = jlne.Component(sockets=coll, inputs = [in4, in5, in6], outputs = [out2], title=\"My Model\")"
   ]
  },
  {
   "cell_type": "code",
   "execution_count": null,
   "id": "comprehensive-advertiser",
   "metadata": {},
   "outputs": [],
   "source": [
    "editor = jlne.NodeEditorModel()"
   ]
  },
  {
   "cell_type": "code",
   "execution_count": null,
   "id": "aquatic-hormone",
   "metadata": {},
   "outputs": [],
   "source": [
    "editor.add_component(c1)"
   ]
  },
  {
   "cell_type": "code",
   "execution_count": null,
   "id": "192a320d-9aec-4f16-a56d-e6bd3e6d8181",
   "metadata": {},
   "outputs": [],
   "source": [
    "editor.add_component(c2)"
   ]
  },
  {
   "cell_type": "code",
   "execution_count": null,
   "id": "08667ce2-4502-4316-886a-464f89dc0555",
   "metadata": {},
   "outputs": [],
   "source": [
    "editor.send_config({'a14a0c84-8f57-4904-a989-f385d398feae': {'id': 'jupyterlab_nodeeditor@0.1.0',\n",
    "  'nodes': {'7': {'id': 7,\n",
    "    'data': {},\n",
    "    'inputs': {'temp1': {'connections': []},\n",
    "     'temp2': {'connections': []},\n",
    "     'temp3': {'connections': []}},\n",
    "    'outputs': {'avg_temp': {'connections': [{'node': 9,\n",
    "        'input': 'temp',\n",
    "        'data': {}}]}},\n",
    "    'position': [-32.26091002098711, 209.57835110393947],\n",
    "    'name': 'Temperature Averaging'},\n",
    "   '8': {'id': 8,\n",
    "    'data': {},\n",
    "    'inputs': {},\n",
    "    'outputs': {},\n",
    "    'position': [389.29637401810436, 82.77778168871276],\n",
    "    'name': 'DefaultComponent'},\n",
    "   '9': {'id': 9,\n",
    "    'data': {},\n",
    "    'inputs': {'rainfall': {'connections': []},\n",
    "     'temp': {'connections': [{'node': 7, 'output': 'avg_temp', 'data': {}}]},\n",
    "     'time': {'connections': []}},\n",
    "    'outputs': {'results': {'connections': []}},\n",
    "    'position': [370.77779306113496, 171.66663527679302],\n",
    "    'name': 'My Model'}}}})"
   ]
  },
  {
   "cell_type": "code",
   "execution_count": 11,
   "id": "aded3656-07c8-4b47-8058-4d0c7ee7a3dd",
   "metadata": {},
   "outputs": [
    {
     "data": {
      "application/vnd.jupyter.widget-view+json": {
       "model_id": "",
       "version_major": 2,
       "version_minor": 0
      },
      "text/plain": [
       "NodeEditorModel(selected_node=None)"
      ]
     },
     "metadata": {},
     "output_type": "display_data"
    }
   ],
   "source": [
    "display(editor)"
   ]
  },
  {
   "cell_type": "code",
   "execution_count": null,
   "id": "indirect-venture",
   "metadata": {},
   "outputs": [],
   "source": [
    "display(editor)"
   ]
  },
  {
   "cell_type": "code",
   "execution_count": null,
   "id": "e8ec7c3d-3c0b-47e4-bac1-e3d5242aca89",
   "metadata": {},
   "outputs": [],
   "source": [
    "editor.sync_config()"
   ]
  },
  {
   "cell_type": "code",
   "execution_count": null,
   "id": "46fc7e53-2820-4518-92b5-743725eb32cf",
   "metadata": {},
   "outputs": [],
   "source": [
    "editor.editorConfig"
   ]
  },
  {
   "cell_type": "code",
   "execution_count": null,
   "id": "b778ff09-65ea-436b-b4af-b2f6a5c50ec0",
   "metadata": {},
   "outputs": [],
   "source": [
    "coll.socket_types"
   ]
  },
  {
   "cell_type": "code",
   "execution_count": null,
   "id": "ba91cfd9-e7dc-4401-84f9-5a747f097503",
   "metadata": {},
   "outputs": [],
   "source": []
  }
 ],
 "metadata": {
  "kernelspec": {
   "display_name": "yggJLNE",
   "language": "python",
   "name": "yggjlne"
  },
  "language_info": {
   "codemirror_mode": {
    "name": "ipython",
    "version": 3
   },
   "file_extension": ".py",
   "mimetype": "text/x-python",
   "name": "python",
   "nbconvert_exporter": "python",
   "pygments_lexer": "ipython3",
   "version": "3.8.12"
  }
 },
 "nbformat": 4,
 "nbformat_minor": 5
}
