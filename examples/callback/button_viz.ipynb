{
 "cells": [
  {
   "cell_type": "code",
   "execution_count": 1,
   "id": "3ce4bce4-5b75-4e75-9886-fce53eaae807",
   "metadata": {},
   "outputs": [
    {
     "data": {
      "application/vnd.jupyter.widget-view+json": {
       "model_id": "018156ad8c434286ab2f8fdf16bc6f9b",
       "version_major": 2,
       "version_minor": 0
      },
      "text/plain": [
       "Button(description='Update Graph', style=ButtonStyle())"
      ]
     },
     "metadata": {},
     "output_type": "display_data"
    },
    {
     "data": {
      "application/vnd.jupyter.widget-view+json": {
       "model_id": "2bfdf743a6ce4753881077b1ec193d56",
       "version_major": 2,
       "version_minor": 0
      },
      "text/plain": [
       "Output()"
      ]
     },
     "metadata": {},
     "output_type": "display_data"
    }
   ],
   "source": [
    "import matplotlib.pyplot as plt\n",
    "import numpy as np\n",
    "from ipywidgets import Button, Output\n",
    "import ipywidgets as widgets\n",
    "from IPython.display import display, clear_output\n",
    "\n",
    "# Initialize x and y lists to store values\n",
    "x = [0]\n",
    "y = [np.random.randn()]\n",
    "\n",
    "# Create Output widget to capture and display plot\n",
    "out = Output()\n",
    "\n",
    "# Create a button\n",
    "button = Button(description=\"Update Graph\")\n",
    "\n",
    "def update_graph(change):\n",
    "    # Add new point to the graph\n",
    "    new_x = x[-1] + 1\n",
    "    new_y = np.random.randn()\n",
    "    \n",
    "    x.append(new_x)\n",
    "    y.append(new_y)\n",
    "    \n",
    "    # Display updated graph\n",
    "    with out:\n",
    "        clear_output(wait=True)\n",
    "        plt.plot(x, y)\n",
    "        plt.show()\n",
    "\n",
    "button.on_click(update_graph)\n",
    "\n",
    "# Display button and initial graph\n",
    "display(button)\n",
    "display(out)\n",
    "\n",
    "# Plot initial graph\n",
    "with out:\n",
    "    plt.plot(x, y)\n",
    "    plt.show()"
   ]
  }
 ],
 "metadata": {
  "kernelspec": {
   "display_name": "Python 3 (ipykernel)",
   "language": "python",
   "name": "python3"
  },
  "language_info": {
   "codemirror_mode": {
    "name": "ipython",
    "version": 3
   },
   "file_extension": ".py",
   "mimetype": "text/x-python",
   "name": "python",
   "nbconvert_exporter": "python",
   "pygments_lexer": "ipython3",
   "version": "3.10.12"
  }
 },
 "nbformat": 4,
 "nbformat_minor": 5
}
