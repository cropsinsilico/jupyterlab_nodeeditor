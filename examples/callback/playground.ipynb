{
 "cells": [
  {
   "cell_type": "code",
   "execution_count": 1,
   "id": "158bd058-cff6-4e79-aba3-c3d1e7f02a98",
   "metadata": {},
   "outputs": [],
   "source": [
    "import jupyterlab_nodeeditor as jlne\n",
    "from yggdrasil import tools\n",
    "from yggdrasil.runner import run"
   ]
  },
  {
   "cell_type": "code",
   "execution_count": 2,
   "id": "23aaf5c3-4f5b-4506-8aef-04fec168f4cc",
   "metadata": {},
   "outputs": [],
   "source": [
    "callback=\"./callback_python.yml\""
   ]
  },
  {
   "cell_type": "code",
   "execution_count": 3,
   "id": "bc842c3c-1950-4fd2-a775-d5bbe15488d0",
   "metadata": {},
   "outputs": [
    {
     "data": {
      "application/vnd.jupyter.widget-view+json": {
       "model_id": "60612a6ce523493b851c9f21cef02fb4",
       "version_major": 2,
       "version_minor": 0
      },
      "text/plain": [
       "Output()"
      ]
     },
     "metadata": {},
     "output_type": "display_data"
    },
    {
     "name": "stdout",
     "output_type": "stream",
     "text": [
      "INFO:5286:runner.startDrivers[819]:YggRunner(runner): Starting I/O drivers and models on system Yilins-MacBook-Pro-2.local in namespace yggdrasil with rank 0\n",
      "/Users/yilinxia/opt/miniconda3/envs/jlne/bin/python /Users/yilinxia/jupyterlab_nodeeditor/examples/callback/src/ygg_callback_modelA_python_modelA.py\n",
      "/Users/yilinxia/opt/miniconda3/envs/jlne/bin/python /Users/yilinxia/jupyterlab_nodeeditor/examples/callback/src/ygg_callback_modelB_python_modelB.py\n",
      "ERROR:5286:multitasking.run_error[1515]:ConnectionDriver(python_modelA:output_to_python_modelB:input): THREAD ERROR\n",
      "Traceback (most recent call last):\n",
      "  File \"/Users/yilinxia/opt/miniconda3/envs/jlne/lib/python3.10/site-packages/yggdrasil/multitasking.py\", line 1491, in run\n",
      "    self.call_target()\n",
      "  File \"/Users/yilinxia/opt/miniconda3/envs/jlne/lib/python3.10/site-packages/yggdrasil/multitasking.py\", line 1777, in call_target\n",
      "    self.run_loop()\n",
      "  File \"/Users/yilinxia/opt/miniconda3/envs/jlne/lib/python3.10/site-packages/yggdrasil/drivers/ConnectionDriver.py\", line 1127, in run_loop\n",
      "    msg = self.on_message(msg)\n",
      "  File \"/Users/yilinxia/opt/miniconda3/envs/jlne/lib/python3.10/site-packages/yggdrasil/drivers/ConnectionDriver.py\", line 956, in on_message\n",
      "    x(msg)\n",
      "  File \"/Users/yilinxia/opt/miniconda3/envs/jlne/lib/python3.10/site-packages/yggdrasil/drivers/ConnectionDriver.py\", line 145, in __call__\n",
      "    self.function(msg)\n",
      "  File \"/Users/yilinxia/jupyterlab_nodeeditor/examples/callback/src/callback.py\", line 30, in callback_function\n",
      "    update_plot(x,y)\n",
      "  File \"/Users/yilinxia/jupyterlab_nodeeditor/examples/callback/src/callback.py\", line 24, in update_plot\n",
      "    timer = threading.Timer(1.0, update_plot)\n",
      "NameError: name 'threading' is not defined\n",
      "ERROR:5286:runner.waitModels[879]:YggRunner(runner): Error in input/output driver for model python_modelB\n",
      "ERROR:5286:runner.waitModels[908]:YggRunner(runner): One or more models generated errors.\n",
      "ConnectionDriver(python_modelA:input):            \n",
      "\tlast action: receiving        is_open(True, True),     107 received,  107 processed, 107 sent,      0 ready to recv     28 ready to send    \n",
      "ConnectionDriver(python_modelA:output_to_python_modelB:input): \n",
      "\tlast action: after loop       is_open(True, True),     1 received,    0 processed,   0 sent,        63 ready to recv    0 ready to send     \n",
      "ConnectionDriver(python_modelB:output):           \n",
      "\tlast action: receiving        is_open(True, True),     0 received,    0 processed,   0 sent,        0 ready to recv     0 ready to send     \n",
      "INFO:5286:multitasking.printStatus[1438]:PythonModelDriver(python_modelA): yggdrasil.drivers.PythonModelDriver(python_modelA): state: running\n",
      "INFO:5286:multitasking.printStatus[1438]:PythonModelDriver(python_modelB): yggdrasil.drivers.PythonModelDriver(python_modelB): state: running\n",
      "modelA_function(1.0 g*(s**-1)) = 1.0 g*(s**-1)\n",
      "Traceback (most recent call last):\n",
      "modelA_function(52.0 g*(s**-1)) = 52.0 g*(s**-1)\n",
      "  File \"/Users/yilinxia/jupyterlab_nodeeditor/examples/callback/src/ygg_callback_modelB_python_modelB.py\", line 31, in <module>\n",
      "modelA_function(87.0 g*(s**-1)) = 87.0 g*(s**-1)\n",
      "    main()\n",
      "modelA_function(123.0 g*(s**-1)) = 123.0 g*(s**-1)\n",
      "  File \"/Users/yilinxia/jupyterlab_nodeeditor/examples/callback/src/ygg_callback_modelB_python_modelB.py\", line 13, in main\n",
      "modelA_function(34.0 g*(s**-1)) = 34.0 g*(s**-1)\n",
      "    raise Exception(\"No input from in_val.\")\n",
      "modelA_function(65.0 g*(s**-1)) = 65.0 g*(s**-1)\n",
      "Exception: No input from in_val.\n",
      "modelA_function(29.0 g*(s**-1)) = 29.0 g*(s**-1)\n",
      "modelA_function(109.0 g*(s**-1)) = 109.0 g*(s**-1)\n",
      "modelA_function(97.0 g*(s**-1)) = 97.0 g*(s**-1)\n",
      "modelA_function(142.0 g*(s**-1)) = 142.0 g*(s**-1)\n",
      "modelA_function(49.0 g*(s**-1)) = 49.0 g*(s**-1)\n",
      "modelA_function(79.0 g*(s**-1)) = 79.0 g*(s**-1)\n",
      "modelA_function(164.0 g*(s**-1)) = 164.0 g*(s**-1)\n",
      "modelA_function(11.0 g*(s**-1)) = 11.0 g*(s**-1)\n",
      "modelA_function(43.0 g*(s**-1)) = 43.0 g*(s**-1)\n",
      "modelA_function(200.0 g*(s**-1)) = 200.0 g*(s**-1)\n",
      "modelA_function(18.0 g*(s**-1)) = 18.0 g*(s**-1)\n",
      "modelA_function(94.0 g*(s**-1)) = 94.0 g*(s**-1)\n",
      "modelA_function(61.0 g*(s**-1)) = 61.0 g*(s**-1)\n",
      "modelA_function(139.0 g*(s**-1)) = 139.0 g*(s**-1)\n",
      "modelA_function(74.0 g*(s**-1)) = 74.0 g*(s**-1)\n",
      "modelA_function(152.0 g*(s**-1)) = 152.0 g*(s**-1)\n",
      "modelA_function(36.0 g*(s**-1)) = 36.0 g*(s**-1)\n",
      "modelA_function(177.0 g*(s**-1)) = 177.0 g*(s**-1)\n",
      "modelA_function(126.0 g*(s**-1)) = 126.0 g*(s**-1)\n",
      "modelA_function(83.0 g*(s**-1)) = 83.0 g*(s**-1)\n",
      "modelA_function(148.0 g*(s**-1)) = 148.0 g*(s**-1)\n",
      "modelA_function(45.0 g*(s**-1)) = 45.0 g*(s**-1)\n",
      "modelA_function(91.0 g*(s**-1)) = 91.0 g*(s**-1)\n",
      "modelA_function(172.0 g*(s**-1)) = 172.0 g*(s**-1)\n",
      "modelA_function(23.0 g*(s**-1)) = 23.0 g*(s**-1)\n",
      "modelA_function(100.0 g*(s**-1)) = 100.0 g*(s**-1)\n",
      "modelA_function(130.0 g*(s**-1)) = 130.0 g*(s**-1)\n",
      "modelA_function(15.0 g*(s**-1)) = 15.0 g*(s**-1)\n",
      "modelA_function(59.0 g*(s**-1)) = 59.0 g*(s**-1)\n",
      "modelA_function(70.0 g*(s**-1)) = 70.0 g*(s**-1)\n",
      "modelA_function(32.0 g*(s**-1)) = 32.0 g*(s**-1)\n",
      "modelA_function(113.0 g*(s**-1)) = 113.0 g*(s**-1)\n",
      "modelA_function(147.0 g*(s**-1)) = 147.0 g*(s**-1)\n",
      "modelA_function(88.0 g*(s**-1)) = 88.0 g*(s**-1)\n",
      "modelA_function(56.0 g*(s**-1)) = 56.0 g*(s**-1)\n",
      "modelA_function(121.0 g*(s**-1)) = 121.0 g*(s**-1)\n",
      "modelA_function(135.0 g*(s**-1)) = 135.0 g*(s**-1)\n",
      "modelA_function(14.0 g*(s**-1)) = 14.0 g*(s**-1)\n",
      "modelA_function(81.0 g*(s**-1)) = 81.0 g*(s**-1)\n",
      "modelA_function(68.0 g*(s**-1)) = 68.0 g*(s**-1)\n",
      "modelA_function(24.0 g*(s**-1)) = 24.0 g*(s**-1)\n",
      "modelA_function(101.0 g*(s**-1)) = 101.0 g*(s**-1)\n",
      "modelA_function(95.0 g*(s**-1)) = 95.0 g*(s**-1)\n",
      "modelA_function(137.0 g*(s**-1)) = 137.0 g*(s**-1)\n",
      "modelA_function(50.0 g*(s**-1)) = 50.0 g*(s**-1)\n",
      "modelA_function(76.0 g*(s**-1)) = 76.0 g*(s**-1)\n",
      "modelA_function(171.0 g*(s**-1)) = 171.0 g*(s**-1)\n",
      "modelA_function(12.0 g*(s**-1)) = 12.0 g*(s**-1)\n",
      "modelA_function(42.0 g*(s**-1)) = 42.0 g*(s**-1)\n",
      "modelA_function(196.0 g*(s**-1)) = 196.0 g*(s**-1)\n",
      "modelA_function(19.0 g*(s**-1)) = 19.0 g*(s**-1)\n",
      "modelA_function(93.0 g*(s**-1)) = 93.0 g*(s**-1)\n",
      "modelA_function(62.0 g*(s**-1)) = 62.0 g*(s**-1)\n",
      "modelA_function(138.0 g*(s**-1)) = 138.0 g*(s**-1)\n",
      "modelA_function(75.0 g*(s**-1)) = 75.0 g*(s**-1)\n",
      "modelA_function(150.0 g*(s**-1)) = 150.0 g*(s**-1)\n",
      "modelA_function(37.0 g*(s**-1)) = 37.0 g*(s**-1)\n",
      "modelA_function(176.0 g*(s**-1)) = 176.0 g*(s**-1)\n",
      "modelA_function(127.0 g*(s**-1)) = 127.0 g*(s**-1)\n",
      "modelA_function(84.0 g*(s**-1)) = 84.0 g*(s**-1)\n",
      "modelA_function(149.0 g*(s**-1)) = 149.0 g*(s**-1)\n",
      "modelA_function(46.0 g*(s**-1)) = 46.0 g*(s**-1)\n",
      "modelA_function(90.0 g*(s**-1)) = 90.0 g*(s**-1)\n",
      "modelA_function(174.0 g*(s**-1)) = 174.0 g*(s**-1)\n",
      "modelA_function(22.0 g*(s**-1)) = 22.0 g*(s**-1)\n",
      "modelA_function(103.0 g*(s**-1)) = 103.0 g*(s**-1)\n",
      "modelA_function(129.0 g*(s**-1)) = 129.0 g*(s**-1)\n",
      "ERROR:5286:ModelDriver.kill_process[1908]:PythonModelDriver(python_modelA): return code of -9 indicates model error. (sent messages: {'python_modelA:output_to_python_modelB:input': 1})\n",
      "INFO:5286:runner.run[465]:YggRunner(runner):                 init\t0.000001\n",
      "INFO:5286:runner.run[465]:YggRunner(runner):         load drivers\t1.009437\n",
      "INFO:5286:runner.run[465]:YggRunner(runner):        start drivers\t0.107550\n",
      "INFO:5286:runner.run[465]:YggRunner(runner):           run models\t1.780410\n",
      "INFO:5286:runner.run[465]:YggRunner(runner):              at exit\t0.014761\n",
      "INFO:5286:runner.run[467]:YggRunner(runner): ========================================\n",
      "INFO:5286:runner.run[468]:YggRunner(runner):                Total\t2.912159\n"
     ]
    },
    {
     "ename": "IntegrationError",
     "evalue": "Error running the integration.",
     "output_type": "error",
     "traceback": [
      "\u001b[0;31m---------------------------------------------------------------------------\u001b[0m",
      "\u001b[0;31mIntegrationError\u001b[0m                          Traceback (most recent call last)",
      "Cell \u001b[0;32mIn[3], line 1\u001b[0m\n\u001b[0;32m----> 1\u001b[0m \u001b[43mrun\u001b[49m\u001b[43m(\u001b[49m\u001b[43mcallback\u001b[49m\u001b[43m)\u001b[49m\n",
      "File \u001b[0;32m~/opt/miniconda3/envs/jlne/lib/python3.10/site-packages/yggdrasil/runner.py:1068\u001b[0m, in \u001b[0;36mrun\u001b[0;34m(*args, **kwargs)\u001b[0m\n\u001b[1;32m   1066\u001b[0m run_kwargs \u001b[38;5;241m=\u001b[39m kwargs\u001b[38;5;241m.\u001b[39mpop(\u001b[38;5;124m'\u001b[39m\u001b[38;5;124mrun_kwargs\u001b[39m\u001b[38;5;124m'\u001b[39m, {})\n\u001b[1;32m   1067\u001b[0m yggRunner \u001b[38;5;241m=\u001b[39m get_runner(\u001b[38;5;241m*\u001b[39margs, \u001b[38;5;241m*\u001b[39m\u001b[38;5;241m*\u001b[39mkwargs)\n\u001b[0;32m-> 1068\u001b[0m \u001b[43myggRunner\u001b[49m\u001b[38;5;241;43m.\u001b[39;49m\u001b[43mrun\u001b[49m\u001b[43m(\u001b[49m\u001b[38;5;241;43m*\u001b[39;49m\u001b[38;5;241;43m*\u001b[39;49m\u001b[43mrun_kwargs\u001b[49m\u001b[43m)\u001b[49m\n\u001b[1;32m   1069\u001b[0m yggRunner\u001b[38;5;241m.\u001b[39mdebug(\u001b[38;5;124m\"\u001b[39m\u001b[38;5;124mrunner returns, exiting\u001b[39m\u001b[38;5;124m\"\u001b[39m)\n",
      "File \u001b[0;32m~/opt/miniconda3/envs/jlne/lib/python3.10/site-packages/yggdrasil/runner.py:470\u001b[0m, in \u001b[0;36mYggRunner.run\u001b[0;34m(self, signal_handler, timer, t0)\u001b[0m\n\u001b[1;32m    468\u001b[0m     \u001b[38;5;28mself\u001b[39m\u001b[38;5;241m.\u001b[39minfo(\u001b[38;5;124m'\u001b[39m\u001b[38;5;132;01m%20s\u001b[39;00m\u001b[38;5;130;01m\\t\u001b[39;00m\u001b[38;5;132;01m%f\u001b[39;00m\u001b[38;5;124m'\u001b[39m, \u001b[38;5;124m\"\u001b[39m\u001b[38;5;124mTotal\u001b[39m\u001b[38;5;124m\"\u001b[39m, tprev \u001b[38;5;241m-\u001b[39m t0)\n\u001b[1;32m    469\u001b[0m \u001b[38;5;28;01mif\u001b[39;00m \u001b[38;5;28mself\u001b[39m\u001b[38;5;241m.\u001b[39merror_flag:\n\u001b[0;32m--> 470\u001b[0m     \u001b[38;5;28;01mraise\u001b[39;00m IntegrationError(\u001b[38;5;124m\"\u001b[39m\u001b[38;5;124mError running the integration.\u001b[39m\u001b[38;5;124m\"\u001b[39m)\n\u001b[1;32m    471\u001b[0m \u001b[38;5;28;01mif\u001b[39;00m \u001b[38;5;28mself\u001b[39m\u001b[38;5;241m.\u001b[39mvalidate:\n\u001b[1;32m    472\u001b[0m     \u001b[38;5;28;01mfor\u001b[39;00m v \u001b[38;5;129;01min\u001b[39;00m \u001b[38;5;28mself\u001b[39m\u001b[38;5;241m.\u001b[39mmodeldrivers\u001b[38;5;241m.\u001b[39mvalues():\n",
      "\u001b[0;31mIntegrationError\u001b[0m: Error running the integration."
     ]
    }
   ],
   "source": [
    "run(callback)"
   ]
  }
 ],
 "metadata": {
  "kernelspec": {
   "display_name": "Python 3 (ipykernel)",
   "language": "python",
   "name": "python3"
  },
  "language_info": {
   "codemirror_mode": {
    "name": "ipython",
    "version": 3
   },
   "file_extension": ".py",
   "mimetype": "text/x-python",
   "name": "python",
   "nbconvert_exporter": "python",
   "pygments_lexer": "ipython3",
   "version": "3.10.12"
  }
 },
 "nbformat": 4,
 "nbformat_minor": 5
}
