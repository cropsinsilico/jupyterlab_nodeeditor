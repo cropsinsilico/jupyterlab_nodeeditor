{
 "cells": [
  {
   "cell_type": "code",
   "execution_count": 1,
   "id": "68260137-8efe-4631-8778-70fbfa44234f",
   "metadata": {
    "tags": []
   },
   "outputs": [],
   "source": [
    "from yggdrasil_to_editor import *\n",
    "from yggdrasil import yamlfile"
   ]
  },
  {
   "cell_type": "code",
   "execution_count": 2,
   "id": "1424a5c5-48f1-44c1-b5b2-06dbff84beb3",
   "metadata": {},
   "outputs": [],
   "source": [
    "schema = yamlfile.get_schema()\n",
    "socket_types = tuple(\n",
    "    schema.form_schema[\"definitions\"][\"schema\"][\"definitions\"][\"simpleTypes\"][\n",
    "        \"enum\"\n",
    "    ]\n",
    ")\n",
    "coll = jlne.SocketCollection(socket_types=socket_types)\n",
    "model_set = yamlfile.parse_yaml(\"./yamls/co2.yml\", model_only=True)\n",
    "editor = jlne.NodeEditor(socket_collection=coll)"
   ]
  },
  {
   "cell_type": "code",
   "execution_count": 3,
   "id": "19768304-51ec-43e0-9ab7-d6afd52a344a",
   "metadata": {},
   "outputs": [
    {
     "data": {
      "text/plain": [
       "{'models': [{'name': 'co2',\n",
       "   'args': ['../models/co2.py', 5.0, 23.0, 126.0],\n",
       "   'inputs': [{'name': 'co2:height',\n",
       "     'vars': [{'name': 'doy'}, {'name': 'height'}],\n",
       "     'default_file': {'name': '../input/height.txt',\n",
       "      'filetype': 'table',\n",
       "      'working_dir': '/Users/yilinxia/jupyterlab_nodeeditor/examples/yggdrasil/yamls'},\n",
       "     'datatype': {'subtype': 'string', 'type': 'scalar'},\n",
       "     'commtype': 'default',\n",
       "     'model_driver': ['co2'],\n",
       "     'partner_model': 'co2',\n",
       "     'partner_language': 'python'}],\n",
       "   'outputs': [{'name': 'co2:co2',\n",
       "     'vars': [{'name': 'doy'}, {'name': 'co2'}],\n",
       "     'default_file': {'name': '../output/co2.txt',\n",
       "      'filetype': 'table',\n",
       "      'field_names': ['doy', 'concentration'],\n",
       "      'working_dir': '/Users/yilinxia/jupyterlab_nodeeditor/examples/yggdrasil/yamls'},\n",
       "     'datatype': {'subtype': 'string', 'type': 'scalar'},\n",
       "     'commtype': 'default',\n",
       "     'model_driver': ['co2'],\n",
       "     'partner_model': 'co2',\n",
       "     'partner_language': 'python'}],\n",
       "   'working_dir': '/Users/yilinxia/jupyterlab_nodeeditor/examples/yggdrasil/yamls',\n",
       "   'driver': 'PythonModelDriver',\n",
       "   'model_index': 0}],\n",
       " 'connections': []}"
      ]
     },
     "execution_count": 3,
     "metadata": {},
     "output_type": "execute_result"
    }
   ],
   "source": [
    "model_set"
   ]
  },
  {
   "cell_type": "code",
   "execution_count": 4,
   "id": "770d3386-9f58-4cd9-a337-bc9506605f64",
   "metadata": {},
   "outputs": [
    {
     "data": {
      "text/plain": [
       "{'name': '../input/height.txt',\n",
       " 'filetype': 'table',\n",
       " 'working_dir': '/Users/yilinxia/jupyterlab_nodeeditor/examples/yggdrasil/yamls'}"
      ]
     },
     "execution_count": 4,
     "metadata": {},
     "output_type": "execute_result"
    }
   ],
   "source": []
  },
  {
   "cell_type": "code",
   "execution_count": 5,
   "id": "4f5a99b0-5630-41b4-a8ae-2103c20cab11",
   "metadata": {},
   "outputs": [
    {
     "ename": "NameError",
     "evalue": "name 'comps' is not defined",
     "output_type": "error",
     "traceback": [
      "\u001b[0;31m---------------------------------------------------------------------------\u001b[0m",
      "\u001b[0;31mNameError\u001b[0m                                 Traceback (most recent call last)",
      "Cell \u001b[0;32mIn[5], line 1\u001b[0m\n\u001b[0;32m----> 1\u001b[0m \u001b[43mcomps\u001b[49m\n",
      "\u001b[0;31mNameError\u001b[0m: name 'comps' is not defined"
     ]
    }
   ],
   "source": [
    "comps"
   ]
  },
  {
   "cell_type": "code",
   "execution_count": null,
   "id": "c74b0c14-5364-4ee9-9f0e-9ab5f05218ba",
   "metadata": {},
   "outputs": [],
   "source": []
  }
 ],
 "metadata": {
  "kernelspec": {
   "display_name": "Python 3 (ipykernel)",
   "language": "python",
   "name": "python3"
  },
  "language_info": {
   "codemirror_mode": {
    "name": "ipython",
    "version": 3
   },
   "file_extension": ".py",
   "mimetype": "text/x-python",
   "name": "python",
   "nbconvert_exporter": "python",
   "pygments_lexer": "ipython3",
   "version": "3.10.12"
  }
 },
 "nbformat": 4,
 "nbformat_minor": 5
}
