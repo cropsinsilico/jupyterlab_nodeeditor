{
 "cells": [
  {
   "cell_type": "markdown",
   "id": "e6901885-9dd6-4435-ad33-5b5f36b4d369",
   "metadata": {},
   "source": [
    "# JLNE Tutorial"
   ]
  },
  {
   "cell_type": "markdown",
   "id": "619eea18-92f3-422d-be61-1daa280c3c56",
   "metadata": {},
   "source": [
    "this series of notebooks aim to get users familiar with the package Jupyterlab Nodeeditor (JLNE)"
   ]
  },
  {
   "cell_type": "markdown",
   "id": "73d8cbd2-ebd6-4d98-831e-1dc7795668ce",
   "metadata": {},
   "source": [
    "## Inferface"
   ]
  },
  {
   "cell_type": "markdown",
   "id": "693535d2-f7b4-4bd8-85a3-ebc09fb44796",
   "metadata": {},
   "source": [
    "In this section, you can get more insights about the JLNE interface <br>\n",
    "The main area of JLNE is called **workspace**, where most of the operations happen <br>\n",
    "You can trigger the toolbox by right clicking the blank area and then you can choose the component you want to add"
   ]
  },
  {
   "cell_type": "markdown",
   "id": "89b45da9-6ca3-43b4-8461-68dc073ee469",
   "metadata": {},
   "source": [
    "![](./img/interface_1.png)"
   ]
  },
  {
   "cell_type": "markdown",
   "id": "7c519ad7-3aa0-40f8-86c2-826f3439cff1",
   "metadata": {},
   "source": [
    "> **Note**: the item in the toolbox is called `components` (which is more like a template) and once you added them to the workspace, we will call those added components `instances`. In other words, multiple instances can be derived from one component"
   ]
  },
  {
   "cell_type": "markdown",
   "id": "3a6ae97e-9da2-4bf0-8726-122c74eb258f",
   "metadata": {},
   "source": [
    "After you added the component to workspace, it will trigger another panel on the rightside of the workspace, which we name it as **expanded widgets**. Within Expanded Widget panel, you can find detailed information including: inputs and their types, outputs and their types, the instance name (which can be changeable)"
   ]
  },
  {
   "cell_type": "markdown",
   "id": "889b8557-1806-4610-96d5-8f088f51e065",
   "metadata": {},
   "source": [
    "![](./img/interface_2.png)"
   ]
  },
  {
   "cell_type": "markdown",
   "id": "fde0b0d1-d98e-40a4-8191-373a58be3bea",
   "metadata": {},
   "source": [
    "Now it's time for you to give a try\n",
    "> **Note**: You dont have to understand every single line of the script below. We will cover them later : )"
   ]
  },
  {
   "cell_type": "code",
   "execution_count": 1,
   "id": "0f2e562d-5f99-4bf8-818b-bd5072f170c8",
   "metadata": {},
   "outputs": [],
   "source": [
    "# import JLNE package\n",
    "import jupyterlab_nodeeditor as jlne\n",
    "\n",
    "# create a NodeEditor instance\n",
    "ne = jlne.NodeEditor()\n",
    "\n",
    "# specify the socket_types\n",
    "coll = jlne.SocketCollection(socket_types=(\"song\", \"number\", \"string\"))\n",
    "\n",
    "# define input ports\n",
    "in1 = jlne.InputSlot(\n",
    "    title=\"Number 1\", key=\"num1\", socket_type=\"number\", sockets=coll\n",
    ")\n",
    "in2 = jlne.InputSlot(\n",
    "    title=\"Song 1\", key=\"song1\", socket_type=\"song\", sockets=coll\n",
    ")\n",
    "in3 = jlne.InputSlot(\n",
    "    title=\"String 1\", key=\"str1\", socket_type=\"string\", sockets=coll\n",
    ")\n",
    "\n",
    "# define output ports\n",
    "out1 = jlne.OutputSlot(\n",
    "    title=\"Number 2\", key=\"num2\", socket_type=\"number\", sockets=coll\n",
    ")\n",
    "out2 = jlne.OutputSlot(\n",
    "    title=\"Song 2\", key=\"song2\", socket_type=\"song\", sockets=coll\n",
    ")\n",
    "out3 = jlne.OutputSlot(\n",
    "    title=\"String 2\", key=\"str2\", socket_type=\"string\", sockets=coll\n",
    ")\n",
    "\n",
    "# define NumberInput Control\n",
    "con1 = jlne.NumberInputControlModel(key=\"my_key\", editor=ne.node_editor)\n",
    "\n",
    "# construct the component, which will show in the dropdown menu\n",
    "c = jlne.Component(\n",
    "    title=\"NumberInput\",\n",
    "    sockets=coll,\n",
    "    inputs=[in1, in2, in3],\n",
    "    outputs=[out1, out2, out3],\n",
    "    controls=[con1],\n",
    ")\n",
    "\n",
    "# add component to the editor\n",
    "ne.node_editor.add_component(c)"
   ]
  },
  {
   "cell_type": "code",
   "execution_count": 2,
   "id": "15162e18-443a-48ac-85c7-ac7b96a696e8",
   "metadata": {},
   "outputs": [
    {
     "data": {
      "application/vnd.jupyter.widget-view+json": {
       "model_id": "86cadaa7fe164de1ad04fd8610d60a9f",
       "version_major": 2,
       "version_minor": 0
      },
      "text/plain": [
       "AppLayout(children=(Label(value='Node Editor', layout=Layout(grid_area='header')), Accordion(layout=Layout(gri…"
      ]
     },
     "metadata": {},
     "output_type": "display_data"
    }
   ],
   "source": [
    "ne"
   ]
  }
 ],
 "metadata": {
  "kernelspec": {
   "display_name": "Python 3 (ipykernel)",
   "language": "python",
   "name": "python3"
  },
  "language_info": {
   "codemirror_mode": {
    "name": "ipython",
    "version": 3
   },
   "file_extension": ".py",
   "mimetype": "text/x-python",
   "name": "python",
   "nbconvert_exporter": "python",
   "pygments_lexer": "ipython3",
   "version": "3.8.13"
  }
 },
 "nbformat": 4,
 "nbformat_minor": 5
}
