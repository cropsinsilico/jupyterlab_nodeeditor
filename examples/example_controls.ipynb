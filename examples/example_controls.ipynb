{
 "cells": [
  {
   "cell_type": "code",
   "execution_count": null,
   "id": "ead71406-67e5-4e72-bfb9-1f568b30abed",
   "metadata": {},
   "outputs": [],
   "source": [
    "import jupyterlab_nodeeditor as jlne\n",
    "ne = jlne.NodeEditor()\n",
    "ne"
   ]
  },
  {
   "cell_type": "code",
   "execution_count": null,
   "id": "a174f53e-31ef-415b-a779-12285f70716a",
   "metadata": {},
   "outputs": [],
   "source": [
    "coll = jlne.SocketCollection(socket_types = ('song', 'number', 'string'))\n",
    "in1 = jlne.InputSlot(title = \"Number 1\", key = \"num1\", socket_type = \"number\", sockets = coll)\n",
    "in2 = jlne.InputSlot(title = \"Song 1\", key = \"song1\", socket_type = \"song\", sockets = coll)\n",
    "in3 = jlne.InputSlot(title = \"String 1\", key = \"str1\", socket_type = \"string\", sockets = coll)\n",
    "out1 = jlne.OutputSlot(title = \"Number 2\", key = \"num2\", socket_type=\"number\", sockets = coll)\n",
    "out2 = jlne.OutputSlot(title = \"Song 2\", key = \"song2\", socket_type=\"song\", sockets = coll)\n",
    "out3 = jlne.OutputSlot(title = \"String 2\", key = \"str2\", socket_type=\"string\", sockets = coll)\n",
    "con1 = jlne.InputControlModel(key = 'my_key', editor = ne.node_editor)\n",
    "c = jlne.Component(sockets=coll, inputs = [in1, in2, in3], outputs = [out1, out2, out3],\n",
    "                   controls = [con1])\n",
    "ne.node_editor.add_component(c)"
   ]
  },
  {
   "cell_type": "code",
   "execution_count": null,
   "id": "aea17b2c-3e7f-42d8-b636-0102d58bca3f",
   "metadata": {},
   "outputs": [],
   "source": []
  }
 ],
 "metadata": {
  "kernelspec": {
   "display_name": "schema",
   "language": "python",
   "name": "schema"
  },
  "language_info": {
   "codemirror_mode": {
    "name": "ipython",
    "version": 3
   },
   "file_extension": ".py",
   "mimetype": "text/x-python",
   "name": "python",
   "nbconvert_exporter": "python",
   "pygments_lexer": "ipython3",
   "version": "3.8.13"
  }
 },
 "nbformat": 4,
 "nbformat_minor": 5
}
