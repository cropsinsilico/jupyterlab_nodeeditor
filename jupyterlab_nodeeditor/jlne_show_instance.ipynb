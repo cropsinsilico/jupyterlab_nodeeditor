{
 "cells": [
  {
   "cell_type": "code",
   "execution_count": 1,
   "id": "8d3afdf9-4072-4fc6-8f06-4cf78b732201",
   "metadata": {},
   "outputs": [],
   "source": [
    "import jupyterlab_nodeeditor as jlne\n",
    "coll = jlne.SocketCollection(socket_types = ('Temperature', 'Rainfall', 'Delta Time', 'Results'))\n",
    "editor = jlne.NodeEditor(socket_collection=coll)\n",
    "in1 = jlne.InputSlot(title = \"inputA\", key = \"in_1\", sockets = coll,  multi_connection=True)\n",
    "out1 = jlne.OutputSlot(title = \"outputA\", key = \"out_1\", sockets = coll,multi_connection=True)\n",
    "contrl1=jlne.TextInputControlModel(key = 'my_key', editor = editor.node_editor, value=\"./src/gs_lesson4_modelA.py\")\n",
    "in2 = jlne.InputSlot(title = \"inputB\", key = \"in_1\", sockets = coll,  multi_connection=True)\n",
    "out2 = jlne.OutputSlot(title = \"outputB\", key = \"out_1\", sockets = coll,multi_connection=True)\n",
    "contrl2=jlne.TextInputControlModel(key = 'my_key', editor = editor.node_editor, value=\"./src/gs_lesson4_modelB.py\")\n",
    "\n",
    "new_comp1=jlne.Component(sockets=coll, inputs=[],outputs=[out1], controls=[contrl1],title=\"ModelA\")\n",
    "new_comp2=jlne.Component(sockets=coll,inputs=[in2], outputs=[out2], controls=[contrl2],title=\"ModelB\")\n",
    "\n",
    "new_node1=jlne.node_editor.NodeInstanceModel(sockets=coll,title=\"ModelA\",inputs=[in1], outputs=[out1], controls=[contrl1])\n",
    "new_node2=jlne.node_editor.NodeInstanceModel(sockets=coll,title=\"ModelB\",inputs=[in2], outputs=[out2], controls=[contrl2])"
   ]
  },
  {
   "cell_type": "code",
   "execution_count": 2,
   "id": "754c4830-45de-4b1d-b978-65054c02a967",
   "metadata": {},
   "outputs": [],
   "source": [
    "new_connection1=jlne.node_editor.ConnectionModel(\n",
    "    source_node=new_node1, \n",
    "    source_key=\"out_1\", \n",
    "    destination_node=new_node2, \n",
    "    destination_key=\"in_1\") "
   ]
  },
  {
   "cell_type": "code",
   "execution_count": 3,
   "id": "d018f70e-2b1a-4ea0-8214-40cdb509964c",
   "metadata": {},
   "outputs": [],
   "source": [
    "editor.add_component(new_comp1)\n",
    "editor.add_component(new_comp2)"
   ]
  },
  {
   "cell_type": "code",
   "execution_count": 4,
   "id": "e881bd31-81ee-49b4-841c-af3fc051aaa1",
   "metadata": {},
   "outputs": [],
   "source": [
    "# editor.node_editor.nodes=editor.node_editor.nodes+[new_node1, new_node2]\n",
    "# editor.node_editor.connections=editor.node_editor.connections+[new_connection1]"
   ]
  },
  {
   "cell_type": "code",
   "execution_count": 5,
   "id": "996b4a73-8a8a-40ae-b0ae-c7bb27fb69c7",
   "metadata": {},
   "outputs": [
    {
     "data": {
      "application/vnd.jupyter.widget-view+json": {
       "model_id": "405216964d114fa3bc13292558d56091",
       "version_major": 2,
       "version_minor": 0
      },
      "text/plain": [
       "AppLayout(children=(Label(value='Node Editor', layout=Layout(grid_area='header')), Accordion(layout=Layout(gri…"
      ]
     },
     "metadata": {},
     "output_type": "display_data"
    }
   ],
   "source": [
    "editor"
   ]
  },
  {
   "cell_type": "code",
   "execution_count": 7,
   "id": "b78e8bd5-5dfb-44fd-bcad-991ee249e905",
   "metadata": {},
   "outputs": [
    {
     "data": {
      "text/plain": [
       "2"
      ]
     },
     "execution_count": 7,
     "metadata": {},
     "output_type": "execute_result"
    }
   ],
   "source": [
    "len(editor.node_editor.nodes)"
   ]
  }
 ],
 "metadata": {
  "kernelspec": {
   "display_name": "schema",
   "language": "python",
   "name": "schema"
  },
  "language_info": {
   "codemirror_mode": {
    "name": "ipython",
    "version": 3
   },
   "file_extension": ".py",
   "mimetype": "text/x-python",
   "name": "python",
   "nbconvert_exporter": "python",
   "pygments_lexer": "ipython3",
   "version": "3.8.13"
  }
 },
 "nbformat": 4,
 "nbformat_minor": 5
}
