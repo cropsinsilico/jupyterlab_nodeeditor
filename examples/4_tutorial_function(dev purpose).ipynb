{
 "cells": [
  {
   "cell_type": "markdown",
   "id": "40fcec8d-a2b4-418d-9ab4-541bad07ea91",
   "metadata": {},
   "source": [
    "## Function (For Development Purpose)"
   ]
  },
  {
   "cell_type": "markdown",
   "id": "5ece4113-3f72-4493-9871-f80699d56457",
   "metadata": {},
   "source": [
    "JLNE has multiple functions you can use to further interact the workspace or expanded widgets"
   ]
  },
  {
   "cell_type": "code",
   "execution_count": 1,
   "id": "b4b7bf83-dbcf-4a5d-bd31-82dd38c564bf",
   "metadata": {},
   "outputs": [],
   "source": [
    "# import JLNE package\n",
    "import jupyterlab_nodeeditor as jlne\n",
    "\n",
    "# create a NodeEditor instance\n",
    "ne = jlne.NodeEditor()\n",
    "\n",
    "# specify the socket_types\n",
    "coll = jlne.SocketCollection(socket_types = ('song', 'number', 'string'))\n",
    "\n",
    "# define input ports\n",
    "in1 = jlne.InputSlot(title = \"Number 1\", key = \"num1\", socket_type = \"number\", sockets = coll)\n",
    "in2 = jlne.InputSlot(title = \"Song 1\", key = \"song1\", socket_type = \"song\", sockets = coll)\n",
    "in3 = jlne.InputSlot(title = \"String 1\", key = \"str1\", socket_type = \"string\", sockets = coll)\n",
    "\n",
    "# define output ports\n",
    "out1 = jlne.OutputSlot(title = \"Number 2\", key = \"num2\", socket_type=\"number\", sockets = coll)\n",
    "out2 = jlne.OutputSlot(title = \"Song 2\", key = \"song2\", socket_type=\"song\", sockets = coll)\n",
    "out3 = jlne.OutputSlot(title = \"String 2\", key = \"str2\", socket_type=\"string\", sockets = coll)\n",
    "\n",
    "# define NumberInput Control\n",
    "ctrl_num = jlne.NumberInputControlModel(key = 'num_key', editor = ne.node_editor)\n",
    "ctrl_text = jlne.TextInputControlModel(key = 'text_key', editor = ne.node_editor, value=\"demonstration\")\n",
    "ctrl_dropdown = jlne.DropDownInputControlModel(key = 'dropdown_key', editor = ne.node_editor, options=[ {\"text\": \"apple\",\"value\": \"apple\", },  \n",
    "                                                                                                 {\"text\": \"orange\",\"value\": \"orange\"},  \n",
    "                                                                                                 {\"text\": \"kiwi\", \"value\": \"orange\"}])\n",
    "\n",
    "# construct the component, which will show in the dropdown menu\n",
    "comp_num = jlne.Component(title = \"NumberInput\", sockets=coll, inputs = [in1, in2, in3], outputs = [out1, out2, out3],\n",
    "                   controls = [ctrl_num])\n",
    "\n",
    "comp_text = jlne.Component(title = \"TextInput\", sockets=coll, inputs = [in1], outputs = [out1],\n",
    "                   controls = [ctrl_text])\n",
    "\n",
    "comp_dropdown = jlne.Component(title = \"DropDownInput\", sockets=coll, outputs = [out1, out2],\n",
    "                   controls = [ctrl_dropdown])\n",
    "\n",
    "# add component to the editor\n",
    "ne.node_editor.add_component(comp_num)\n",
    "ne.node_editor.add_component(comp_text)\n",
    "ne.node_editor.add_component(comp_dropdown)"
   ]
  },
  {
   "cell_type": "code",
   "execution_count": 2,
   "id": "521f9f2f-c2c0-4a43-83c8-0eba4e85e555",
   "metadata": {},
   "outputs": [
    {
     "data": {
      "application/vnd.jupyter.widget-view+json": {
       "model_id": "a3f9844f13ca4eb9bf87f1a42f88b9cf",
       "version_major": 2,
       "version_minor": 0
      },
      "text/plain": [
       "AppLayout(children=(Label(value='Node Editor', layout=Layout(grid_area='header')), Accordion(layout=Layout(gri…"
      ]
     },
     "metadata": {},
     "output_type": "display_data"
    }
   ],
   "source": [
    "ne"
   ]
  },
  {
   "cell_type": "markdown",
   "id": "87c0205b-7274-4a54-89f0-970d0ec63431",
   "metadata": {},
   "source": [
    "Please add a component to the workspace first then we will introduce multiple functions you can used"
   ]
  },
  {
   "cell_type": "markdown",
   "id": "013792cc-0ee2-430d-b02f-9382ba8222fe",
   "metadata": {},
   "source": [
    "## sync_config"
   ]
  },
  {
   "cell_type": "markdown",
   "id": "f6641dbb-85df-43bd-a78a-a9db34e13d2f",
   "metadata": {},
   "source": [
    "function `sync_config` enables you to extract the information from the current status of the workspace"
   ]
  },
  {
   "cell_type": "code",
   "execution_count": 3,
   "id": "7cde78c4-f955-4126-8396-c201baa63d1f",
   "metadata": {},
   "outputs": [
    {
     "data": {
      "text/plain": [
       "<bound method NodeEditorModel.sync_config of NodeEditorModel(editorConfig={'id': 'jupyterlab_nodeeditor@0.1.0', 'nodes': {}}, layout=Layout(grid_area='center'), selected_node=None)>"
      ]
     },
     "execution_count": 3,
     "metadata": {},
     "output_type": "execute_result"
    }
   ],
   "source": [
    "ne.node_editor.sync_config"
   ]
  },
  {
   "cell_type": "markdown",
   "id": "c6ac408e-c9de-4360-8f9d-7001b71ccb98",
   "metadata": {},
   "source": [
    "## editorConfig"
   ]
  },
  {
   "cell_type": "markdown",
   "id": "f7ce5330-1389-4f7f-b2d0-c2882b6160b2",
   "metadata": {},
   "source": [
    "`editorConfig` can provide much more brief information than `sync_config`. But in order to run `editorConfig`, you need run `ne.node_editor.sync_config()` first"
   ]
  },
  {
   "cell_type": "code",
   "execution_count": 4,
   "id": "00d9ef82-203c-4a70-953a-fa755afb2342",
   "metadata": {},
   "outputs": [
    {
     "data": {
      "text/plain": [
       "{'id': 'jupyterlab_nodeeditor@0.1.0', 'nodes': {}}"
      ]
     },
     "execution_count": 4,
     "metadata": {},
     "output_type": "execute_result"
    }
   ],
   "source": [
    "ne.node_editor.sync_config()\n",
    "ne.node_editor.editorConfig"
   ]
  },
  {
   "cell_type": "markdown",
   "id": "4d47f4d1-e657-4f80-8d00-105852bc95cb",
   "metadata": {},
   "source": [
    "## send_config"
   ]
  },
  {
   "cell_type": "code",
   "execution_count": 5,
   "id": "d972ff64-b535-4301-a6d6-b163a2197b0c",
   "metadata": {},
   "outputs": [],
   "source": [
    "ne.node_editor.send_config(\n",
    "    {'id': 'jupyterlab_nodeeditor@0.1.0',\n",
    "     'nodes': {'19': {'id': 19, 'data': {}, 'inputs': {}, 'outputs': {'num': {'connections': []}}, 'position': [247, 118], 'name': 'Number'}}\n",
    "    }\n",
    ")"
   ]
  },
  {
   "cell_type": "markdown",
   "id": "7a94d5a6-955b-45e0-aace-495b39aa5256",
   "metadata": {},
   "source": [
    "## send"
   ]
  },
  {
   "cell_type": "markdown",
   "id": "1f22b42a-cb89-4a37-ac1f-70b59e412be6",
   "metadata": {},
   "source": [
    "We also provide the feature for you to quick re-arrange the node instances.\n",
    "\n",
    "> **Note**: this approach only works if there are some connections between the node instances"
   ]
  },
  {
   "cell_type": "code",
   "execution_count": 6,
   "id": "0587ba18-a6cb-4c3c-bf91-279c008bdd82",
   "metadata": {},
   "outputs": [],
   "source": [
    "ne.node_editor.send({'name': 'arrangeNodes'})"
   ]
  },
  {
   "cell_type": "markdown",
   "id": "fe577c13-9de7-4713-9433-c10588a71a8a",
   "metadata": {},
   "source": [
    "## nodes"
   ]
  },
  {
   "cell_type": "code",
   "execution_count": 7,
   "id": "5662c374-4d38-4282-a72b-462b2c4573bd",
   "metadata": {},
   "outputs": [
    {
     "data": {
      "text/plain": [
       "[]"
      ]
     },
     "execution_count": 7,
     "metadata": {},
     "output_type": "execute_result"
    }
   ],
   "source": [
    "ne.node_editor.nodes"
   ]
  }
 ],
 "metadata": {
  "kernelspec": {
   "display_name": "Python 3 (ipykernel)",
   "language": "python",
   "name": "python3"
  },
  "language_info": {
   "codemirror_mode": {
    "name": "ipython",
    "version": 3
   },
   "file_extension": ".py",
   "mimetype": "text/x-python",
   "name": "python",
   "nbconvert_exporter": "python",
   "pygments_lexer": "ipython3",
   "version": "3.8.13"
  }
 },
 "nbformat": 4,
 "nbformat_minor": 5
}
