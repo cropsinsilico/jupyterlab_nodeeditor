{
 "cells": [
  {
   "cell_type": "markdown",
   "id": "e5517132-c344-4055-a84b-ce03c470e812",
   "metadata": {},
   "source": [
    "## Connections"
   ]
  },
  {
   "cell_type": "markdown",
   "id": "aede9aad-379e-4cb2-a74e-509d99b2301d",
   "metadata": {},
   "source": [
    "In addition to `components`, users should acquaint themselves with another fundamental concept known as `connections`, which serves to establish links between two instances. JLNE supports an array of connection types such as one-to-one, one-to-many, many-to-one, and many-to-many where 'one' and 'many' pertain to the number of input sockets or output sockets.\n",
    "> **Note**: JLNE does not currently allow for connecting multiple output sockets from a single instance to the same input socket, nor does it support connecting one output socket to several input sockets within the same instance."
   ]
  },
  {
   "cell_type": "markdown",
   "id": "748f0ef2-5e5f-41f0-94a6-6dd69e9a3bef",
   "metadata": {},
   "source": [
    "### Add/Remove Connection"
   ]
  },
  {
   "cell_type": "markdown",
   "id": "477406f3-658d-47c2-896d-8ccfb04cea27",
   "metadata": {},
   "source": [
    "Please refer to the following animation to learn how to add/remove connections in JLNE<br>\n",
    "![](./img/add_rm_con.gif)"
   ]
  },
  {
   "cell_type": "markdown",
   "id": "548094b4-6e12-4838-8d3d-105637f96218",
   "metadata": {},
   "source": [
    "### multi_connection"
   ]
  },
  {
   "cell_type": "markdown",
   "id": "ace7aeb0-5c84-4aa6-a540-514eae1c63fd",
   "metadata": {},
   "source": [
    "To distinguish between sockets that require a single connection and those that require multiple connections, we've introduced a parameter called `multi_connection` for both input and output sockets. Users can set this parameter to `True` if they need an input socket to accept multiple output sockets, or if they wish to connect a single output socket to multiple input sockets."
   ]
  },
  {
   "cell_type": "code",
   "execution_count": 1,
   "id": "9c0ce3df-f535-466d-a0c8-f74bb14d645b",
   "metadata": {},
   "outputs": [],
   "source": [
    "# import JLNE package\n",
    "import jupyterlab_nodeeditor as jlne\n",
    "\n",
    "# create a NodeEditor instance\n",
    "ne = jlne.NodeEditor()\n",
    "\n",
    "# specify the socket_types\n",
    "coll = jlne.SocketCollection(socket_types = ('song', 'number', 'string'))\n",
    "\n",
    "# define input ports\n",
    "in1 = jlne.InputSlot(title = \"Number 1\", key = \"num1\", socket_type = \"number\", sockets = coll, multi_connection=True)\n",
    "in2 = jlne.InputSlot(title = \"Song 1\", key = \"song1\", socket_type = \"song\", sockets = coll)\n",
    "in3 = jlne.InputSlot(title = \"String 1\", key = \"str1\", socket_type = \"string\", sockets = coll)\n",
    "\n",
    "# define output ports\n",
    "out1 = jlne.OutputSlot(title = \"Number 2\", key = \"num2\", socket_type=\"number\", sockets = coll, multi_connection=True)\n",
    "out2 = jlne.OutputSlot(title = \"Song 2\", key = \"song2\", socket_type=\"song\", sockets = coll)\n",
    "out3 = jlne.OutputSlot(title = \"String 2\", key = \"str2\", socket_type=\"string\", sockets = coll)\n",
    "\n",
    "# define NumberInput Control\n",
    "ctrl_num = jlne.NumberInputControlModel(key = 'num_key', editor = ne.node_editor)\n",
    "ctrl_text = jlne.TextInputControlModel(key = 'text_key', editor = ne.node_editor, value=\"demonstration\")\n",
    "ctrl_dropdown = jlne.DropDownInputControlModel(key = 'dropdown_key', editor = ne.node_editor, options=[ {\"text\": \"apple\",\"value\": \"apple\", },  \n",
    "                                                                                                 {\"text\": \"orange\",\"value\": \"orange\"},  \n",
    "                                                                                                 {\"text\": \"kiwi\", \"value\": \"orange\"}])\n",
    "\n",
    "# construct the component, which will show in the dropdown menu\n",
    "comp_num = jlne.Component(title = \"NumberInput\", sockets=coll, inputs = [in1, in2, in3], outputs = [out1, out2, out3],\n",
    "                   controls = [ctrl_num])\n",
    "\n",
    "comp_text = jlne.Component(title = \"TextInput\", sockets=coll, inputs = [in1], outputs = [out1],\n",
    "                   controls = [ctrl_text])\n",
    "\n",
    "comp_dropdown = jlne.Component(title = \"DropDownInput\", sockets=coll, outputs = [out1, out2],\n",
    "                   controls = [ctrl_dropdown])\n",
    "\n",
    "# add component to the editor\n",
    "ne.node_editor.add_component(comp_num)\n",
    "ne.node_editor.add_component(comp_text)\n",
    "ne.node_editor.add_component(comp_dropdown)"
   ]
  },
  {
   "cell_type": "markdown",
   "id": "9accb7d6-6316-4b96-af83-374a80673900",
   "metadata": {},
   "source": [
    "In this case, input socket `Number1` and output socket `Number2` can have multiple connnections"
   ]
  },
  {
   "cell_type": "markdown",
   "id": "c5dc2a74-e3b6-4ed2-ad44-40bf1fd04cca",
   "metadata": {},
   "source": [
    "e.g., you can add three components to the workspace, connect \n",
    "- `DropDownInput Number2` and `NumberInput Number1`\n",
    "- `TextInput Number2` and `NumberInput Number1`\n",
    "- `DropDownInput Number2` and `TextInput Number1`\n",
    "\n",
    "to understand this feature"
   ]
  },
  {
   "cell_type": "code",
   "execution_count": 2,
   "id": "915ae691-830e-4c68-ae22-b50515c3437b",
   "metadata": {},
   "outputs": [
    {
     "data": {
      "application/vnd.jupyter.widget-view+json": {
       "model_id": "3731ca449d5549c28930a0957ab49770",
       "version_major": 2,
       "version_minor": 0
      },
      "text/plain": [
       "AppLayout(children=(Label(value='Node Editor', layout=Layout(grid_area='header')), Accordion(layout=Layout(gri…"
      ]
     },
     "metadata": {},
     "output_type": "display_data"
    }
   ],
   "source": [
    "ne"
   ]
  },
  {
   "cell_type": "markdown",
   "id": "884215f0-6191-4480-9942-04831a75b1d6",
   "metadata": {},
   "source": [
    "### Add Connections by Scripts"
   ]
  },
  {
   "cell_type": "markdown",
   "id": "67fe11f6-6f0f-40ac-b9bd-0a33514c528c",
   "metadata": {},
   "source": [
    "Similar to add instances to workspace by scripts, we also implemented this approach for users to build connections by scripts"
   ]
  },
  {
   "cell_type": "markdown",
   "id": "6e24d11f-6f56-480a-8914-b7ac76b7b389",
   "metadata": {},
   "source": [
    "For instance, we tried to add connection to `DropDownInput Number2` and `NumberInput Number1`. First we need add instances to the workspace"
   ]
  },
  {
   "cell_type": "markdown",
   "id": "17dedb33-69c7-4759-b9d3-446716507749",
   "metadata": {},
   "source": [
    "**Add NodeInstance**"
   ]
  },
  {
   "cell_type": "code",
   "execution_count": 3,
   "id": "091cd6bb-3027-4ce1-b14e-f69ef85c6703",
   "metadata": {},
   "outputs": [],
   "source": [
    "dropdown_instance=jlne.node_editor.NodeInstanceModel(\n",
    "                                                    title = \"DropDownInput\",\n",
    "                                                    sockets=coll, \n",
    "                                                    outputs = [out1, out2],\n",
    "                                                    controls = [ctrl_dropdown]\n",
    "                                                    )"
   ]
  },
  {
   "cell_type": "code",
   "execution_count": 4,
   "id": "7984d9dd-4ab0-4645-b5a2-3398ae3ca8a3",
   "metadata": {},
   "outputs": [],
   "source": [
    "number_instance=jlne.node_editor.NodeInstanceModel(title = \"NumberInput\", \n",
    "                                                   sockets= coll, \n",
    "                                                   inputs = [in1, in2, in3],\n",
    "                                                   outputs = [out1, out2, out3],\n",
    "                                                   controls = [ctrl_num]\n",
    "                                                )"
   ]
  },
  {
   "cell_type": "code",
   "execution_count": 5,
   "id": "cb5953cc-6087-495e-8512-a073637ae361",
   "metadata": {},
   "outputs": [],
   "source": [
    "ne.node_editor.nodes = ne.node_editor.nodes + [dropdown_instance,number_instance]"
   ]
  },
  {
   "cell_type": "markdown",
   "id": "01931dbb-9caa-477a-a6f4-91f3dcfed3d5",
   "metadata": {},
   "source": [
    "**Add Connections**"
   ]
  },
  {
   "cell_type": "markdown",
   "id": "36b90653-ddad-497e-8cc3-9e21ce994b86",
   "metadata": {},
   "source": [
    "The `source_node` refers to the `dropdown_instance`, and the `source_key` is the key representing the `Number2` socket. On the other hand, the `destination_node` stands for the `number_instance`, and the `destination_key` represents the key for the `Number1` socket."
   ]
  },
  {
   "cell_type": "code",
   "execution_count": 6,
   "id": "0cc5e9fe-0e9e-43d7-b537-f0ac2aa2e7cc",
   "metadata": {},
   "outputs": [],
   "source": [
    "conn = jlne.node_editor.ConnectionModel(\n",
    "                    source_node=dropdown_instance,\n",
    "                    source_key=\"num2\",\n",
    "                    destination_node=number_instance,\n",
    "                    destination_key=\"num1\",\n",
    "                )"
   ]
  },
  {
   "cell_type": "code",
   "execution_count": 7,
   "id": "0a2aaea2-86c7-4401-8d15-98e8cdc1b14c",
   "metadata": {},
   "outputs": [],
   "source": [
    "ne.node_editor.connections = ne.node_editor.connections + [conn]"
   ]
  },
  {
   "cell_type": "markdown",
   "id": "efc541c0-bd53-47c2-9c9b-37b1b684e547",
   "metadata": {},
   "source": [
    "Now, if you go back to the workspace, you will find out that the connection is already there"
   ]
  }
 ],
 "metadata": {
  "kernelspec": {
   "display_name": "Python 3 (ipykernel)",
   "language": "python",
   "name": "python3"
  },
  "language_info": {
   "codemirror_mode": {
    "name": "ipython",
    "version": 3
   },
   "file_extension": ".py",
   "mimetype": "text/x-python",
   "name": "python",
   "nbconvert_exporter": "python",
   "pygments_lexer": "ipython3",
   "version": "3.8.13"
  }
 },
 "nbformat": 4,
 "nbformat_minor": 5
}
