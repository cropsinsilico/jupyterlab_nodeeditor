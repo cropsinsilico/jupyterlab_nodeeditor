{
 "cells": [
  {
   "cell_type": "code",
   "execution_count": null,
   "id": "68260137-8efe-4631-8778-70fbfa44234f",
   "metadata": {
    "tags": []
   },
   "outputs": [],
   "source": [
    "import jupyterlab_nodeeditor as jlne\n",
    "from yggdrasil import tools\n",
    "from yggdrasil.runner import run"
   ]
  },
  {
   "cell_type": "code",
   "execution_count": null,
   "id": "19bf69d7-5770-4c3b-a1e3-c150d0c6ddc2",
   "metadata": {
    "tags": []
   },
   "outputs": [],
   "source": [
    "fname = \"./yamls/co2.yml\""
   ]
  },
  {
   "cell_type": "code",
   "execution_count": null,
   "id": "45ba6f5a-4a42-4324-a395-313671f5d6e6",
   "metadata": {
    "tags": []
   },
   "outputs": [],
   "source": [
    "run([fname])"
   ]
  },
  {
   "cell_type": "code",
   "execution_count": null,
   "id": "28c4dc21-7520-4200-894c-aed247e4e577",
   "metadata": {
    "tags": []
   },
   "outputs": [],
   "source": [
    "editor=jlne.yml_trans([fname])\n",
    "editor"
   ]
  },
  {
   "cell_type": "code",
   "execution_count": null,
   "id": "fdb1d9ec-c585-43be-b8cf-1aff89ecbf61",
   "metadata": {
    "tags": []
   },
   "outputs": [],
   "source": [
    "jlne.editor_yaml(editor, \"jlne_ygg_export.yml\")"
   ]
  },
  {
   "cell_type": "code",
   "execution_count": null,
   "id": "dd9eef61-e3fa-4baf-a90a-1ee328c645ef",
   "metadata": {
    "tags": []
   },
   "outputs": [],
   "source": [
    "export_test=\"jlne_ygg_export.yml\""
   ]
  },
  {
   "cell_type": "code",
   "execution_count": null,
   "id": "d18313cc-0280-4d81-96b0-8408a87593d2",
   "metadata": {
    "tags": []
   },
   "outputs": [],
   "source": [
    "editor_test=jlne.yml_trans(export_test, show_instance=True)\n",
    "editor_test"
   ]
  },
  {
   "cell_type": "code",
   "execution_count": null,
   "id": "a4339c82-bf7e-4534-a31d-c2137b1d7360",
   "metadata": {
    "tags": []
   },
   "outputs": [],
   "source": [
    "run([export_test])"
   ]
  }
 ],
 "metadata": {
  "kernelspec": {
   "display_name": "Python 3 (ipykernel)",
   "language": "python",
   "name": "python3"
  },
  "language_info": {
   "codemirror_mode": {
    "name": "ipython",
    "version": 3
   },
   "file_extension": ".py",
   "mimetype": "text/x-python",
   "name": "python",
   "nbconvert_exporter": "python",
   "pygments_lexer": "ipython3",
   "version": "3.8.17"
  }
 },
 "nbformat": 4,
 "nbformat_minor": 5
}
