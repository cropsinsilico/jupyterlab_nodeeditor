{
 "cells": [
  {
   "cell_type": "markdown",
   "id": "039f2b58-2572-46f2-af6c-579f82636243",
   "metadata": {},
   "source": [
    "## Preparation"
   ]
  },
  {
   "cell_type": "markdown",
   "id": "ddfae637-a2e2-459f-8482-a219d7f37103",
   "metadata": {},
   "source": [
    "users need to first import the jupyterlab_nodeeditor and specify the address of the YAML files"
   ]
  },
  {
   "cell_type": "code",
   "execution_count": 1,
   "id": "89bf320b-3577-4652-a6ce-0f522c1ada51",
   "metadata": {},
   "outputs": [],
   "source": [
    "import jupyterlab_nodeeditor as jlne"
   ]
  },
  {
   "cell_type": "code",
   "execution_count": 2,
   "id": "80fae6c8-bae0-47b6-9d68-2ca678f3d8f9",
   "metadata": {},
   "outputs": [],
   "source": [
    "growth = \"./yamls/growth.yml\"\n",
    "light = \"./yamls/light.yml\"\n",
    "canopy = \"./yamls/canopy.yml\"\n",
    "photosynthesis = \"./yamls/photosynthesis.yml\""
   ]
  },
  {
   "cell_type": "markdown",
   "id": "14981871-443b-4df9-aad0-639176d14b8d",
   "metadata": {},
   "source": [
    "## Workspace"
   ]
  },
  {
   "cell_type": "code",
   "execution_count": 3,
   "id": "3c12c8a2-010c-4497-8a7a-7006a14c4c96",
   "metadata": {
    "tags": []
   },
   "outputs": [
    {
     "data": {
      "application/vnd.jupyter.widget-view+json": {
       "model_id": "19da226dea194cb59f3be02ad17b67b6",
       "version_major": 2,
       "version_minor": 0
      },
      "text/plain": [
       "AppLayout(children=(Label(value='Node Editor', layout=Layout(grid_area='header')), Accordion(layout=Layout(gri…"
      ]
     },
     "metadata": {},
     "output_type": "display_data"
    }
   ],
   "source": [
    "editor = jlne.yml_trans([light, growth, canopy, photosynthesis])\n",
    "editor"
   ]
  },
  {
   "cell_type": "code",
   "execution_count": 4,
   "id": "1c9ecf20-7851-46c9-b5df-ee6a950cfd46",
   "metadata": {},
   "outputs": [
    {
     "data": {
      "text/plain": [
       "{'id': 'jupyterlab_nodeeditor@0.2.0',\n",
       " 'nodes': {'1': {'id': 1,\n",
       "   'data': {},\n",
       "   'inputs': {'int_1': {'connections': []},\n",
       "    'int_2': {'connections': [{'node': 5, 'output': 'out_1', 'data': {}}]}},\n",
       "   'outputs': {'out_1': {'connections': []}},\n",
       "   'position': [480.76416015625, 27.411224365234375],\n",
       "   'name': 'LightModel'},\n",
       "  '2': {'id': 2,\n",
       "   'data': {},\n",
       "   'inputs': {'int_1': {'connections': []}},\n",
       "   'outputs': {'out_1': {'connections': []}},\n",
       "   'position': [56.5516357421875, 142.14239501953125],\n",
       "   'name': 'GrowthModel'},\n",
       "  '4': {'id': 4,\n",
       "   'data': {},\n",
       "   'inputs': {'int_1': {'connections': []},\n",
       "    'int_2': {'connections': []},\n",
       "    'int_3': {'connections': []}},\n",
       "   'outputs': {'out_1': {'connections': []}},\n",
       "   'position': [716.7003173828125, 41.5518798828125],\n",
       "   'name': 'PhotosynthesisModel'},\n",
       "  '5': {'id': 5,\n",
       "   'data': {},\n",
       "   'inputs': {'int_1': {'connections': []},\n",
       "    'int_2': {'connections': []},\n",
       "    'int_3': {'connections': []},\n",
       "    'int_4': {'connections': []}},\n",
       "   'outputs': {'out_1': {'connections': [{'node': 1,\n",
       "       'input': 'int_2',\n",
       "       'data': {}}]}},\n",
       "   'position': [275.85406494140625, 173.93490600585938],\n",
       "   'name': 'CanopyModel'}}}"
      ]
     },
     "execution_count": 4,
     "metadata": {},
     "output_type": "execute_result"
    }
   ],
   "source": [
    "editor.node_editor.sync_config()\n",
    "editor_json = editor.node_editor.editorConfig\n",
    "editor_json"
   ]
  },
  {
   "cell_type": "code",
   "execution_count": 9,
   "id": "8eda84cf-1a46-4333-84ee-b7730fa1c836",
   "metadata": {},
   "outputs": [],
   "source": [
    "# editor_py = editor.node_editor.nodes\n",
    "# editor_py"
   ]
  },
  {
   "cell_type": "markdown",
   "id": "527041fc-f938-439d-a106-158bd23a568b",
   "metadata": {
    "tags": []
   },
   "source": [
    "## Export the YAML file"
   ]
  },
  {
   "cell_type": "code",
   "execution_count": 5,
   "id": "e8dc9715-80bf-4321-bf7d-655f02e59bd0",
   "metadata": {},
   "outputs": [],
   "source": [
    "jlne.editor_yaml(editor, \"./yamls/export_test.yml\")"
   ]
  },
  {
   "cell_type": "markdown",
   "id": "c0058cf8-ac27-4ff9-974c-c90fdf580b1e",
   "metadata": {},
   "source": [
    "## Import Test"
   ]
  },
  {
   "cell_type": "code",
   "execution_count": null,
   "id": "262c374a-9963-41b5-aebc-39d1dedf059f",
   "metadata": {},
   "outputs": [],
   "source": [
    "export_test = \"./yamls/export_test.yml\""
   ]
  },
  {
   "cell_type": "code",
   "execution_count": null,
   "id": "903cb0b8-dc8d-4b3a-bee1-3af4d2296771",
   "metadata": {},
   "outputs": [],
   "source": [
    "editor_test = jlne.yml_trans(export_test, show_instance=True)\n",
    "editor_test"
   ]
  },
  {
   "cell_type": "code",
   "execution_count": null,
   "id": "4ad226c1-1f25-4d85-81b9-b008ab0d6f74",
   "metadata": {},
   "outputs": [],
   "source": [
    "editor_test.node_editor.send({\"name\": \"arrangeNodes\"})"
   ]
  }
 ],
 "metadata": {
  "kernelspec": {
   "display_name": "Python 3 (ipykernel)",
   "language": "python",
   "name": "python3"
  },
  "language_info": {
   "codemirror_mode": {
    "name": "ipython",
    "version": 3
   },
   "file_extension": ".py",
   "mimetype": "text/x-python",
   "name": "python",
   "nbconvert_exporter": "python",
   "pygments_lexer": "ipython3",
   "version": "3.10.12"
  }
 },
 "nbformat": 4,
 "nbformat_minor": 5
}
