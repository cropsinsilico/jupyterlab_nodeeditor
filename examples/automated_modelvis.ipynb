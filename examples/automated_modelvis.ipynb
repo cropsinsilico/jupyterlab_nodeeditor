{
 "cells": [
  {
   "cell_type": "code",
   "execution_count": null,
   "id": "989d4419-dcd1-465a-aa00-2deca223b7cd",
   "metadata": {},
   "outputs": [],
   "source": [
    "import jupyterlab_nodeeditor as jlne\n",
    "import ipywidgets\n",
    "import time\n",
    "import os\n",
    "from yggdrasil.runner import YggRunner\n",
    "\n",
    "ne = jlne.NodeEditor()\n",
    "\n",
    "# Change this to your model's filepath\n",
    "model_filepath = os.path.join(\"sample_test_models\", \"photosynthesis.yml\")\n",
    "\n",
    "ios = jlne.load_model(model_filepath)\n",
    "ne.add_component(jlne.Component(sockets = ios[2], inputs = ios[0], outputs = ios[1], title = \"Photosynthesis\"))\n",
    "ne"
   ]
  },
  {
   "cell_type": "code",
   "execution_count": null,
   "id": "dd6b2195-1b2d-4241-a434-55676fee3e44",
   "metadata": {},
   "outputs": [],
   "source": [
    "# Create a runner for the model, adjust the filepath for wherever the model is located\n",
    "runner = YggRunner(model_filepath)\n",
    "\n",
    "# Create the callback class and update the first tab with live information\n",
    "\n",
    "\n",
    "class VariableDisplay:\n",
    "    # We add in filler labels to overwrite with actual data later since it is automated\n",
    "    if len(ne.node_editor.nodes[0].display_element.children) <= 5:\n",
    "        for i in range(len(list(runner.connectiondrivers))):\n",
    "            ne.node_editor.nodes[0].display_element.children += (\n",
    "                ipywidgets.Label(\"Initializing\"),\n",
    "            )\n",
    "\n",
    "    # The initialization will have the label from ipywidgets but also the name of the variable and it's order in the list\n",
    "    def __init__(self, elem_number, name):\n",
    "        self.label = ipywidgets.Label()\n",
    "        self.elem_number = elem_number\n",
    "        self.name = name\n",
    "\n",
    "    # Display data will always show the relevant information taken from the dictionary itself and use the default dictionary key as it's name\n",
    "    # As of May 31st, 2022, the timesync bug still exists, so the time.sleep is necessary to see it run in realtime\n",
    "    # Otherwise, it still works as intended\n",
    "    # If you are only processing basic tings, you may opt to use the clean_bytes function with 'args[0].args' though it may be better to not use it as it may convolute the data being processed\n",
    "    def display_data(self, *args, **kwargs):\n",
    "        ne.node_editor.nodes[0].display_element.children[\n",
    "            self.elem_number\n",
    "        ].value = f\"{self.name}: {args[0].args}\"\n",
    "        time.sleep(1)\n",
    "\n",
    "\n",
    "# We pull the exact drivers from the dictionary keys from the model itself here\n",
    "for i, v in enumerate(list(runner.connectiondrivers)):\n",
    "    display = VariableDisplay(i + 3, v.split(\":\")[1])\n",
    "    runner.connectiondrivers[v][\"callbacks\"] = [display.display_data]\n",
    "\n",
    "# Run the runner to see the data update in realtime\n",
    "runner.run()"
   ]
  },
  {
   "cell_type": "code",
   "execution_count": null,
   "id": "a582ed70-cbbd-47e3-9b40-125aa36b56c9",
   "metadata": {},
   "outputs": [],
   "source": []
  }
 ],
 "metadata": {
  "kernelspec": {
   "display_name": "yggJLNE",
   "language": "python",
   "name": "yggjlne"
  },
  "language_info": {
   "codemirror_mode": {
    "name": "ipython",
    "version": 3
   },
   "file_extension": ".py",
   "mimetype": "text/x-python",
   "name": "python",
   "nbconvert_exporter": "python",
   "pygments_lexer": "ipython3",
   "version": "3.8.12"
  }
 },
 "nbformat": 4,
 "nbformat_minor": 5
}
