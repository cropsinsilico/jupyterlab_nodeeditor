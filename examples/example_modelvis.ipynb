{
 "cells": [
  {
   "cell_type": "markdown",
   "id": "74bb4a90-7a63-4b62-a939-39ae1bf65822",
   "metadata": {
    "tags": []
   },
   "source": [
    "## Yggdrasil Model Visualization"
   ]
  },
  {
   "cell_type": "markdown",
   "id": "27b8d143-d596-4d62-ae11-39e4ac67f0eb",
   "metadata": {
    "tags": []
   },
   "source": [
    "### Libraries Used"
   ]
  },
  {
   "cell_type": "code",
   "execution_count": null,
   "id": "fe92f85a-3456-47db-b154-80c9eb9e03dd",
   "metadata": {},
   "outputs": [],
   "source": [
    "import jupyterlab_nodeeditor as jlne\n",
    "import ipywidgets\n",
    "import time\n",
    "from yggdrasil.runner import YggRunner"
   ]
  },
  {
   "cell_type": "markdown",
   "id": "be8f959e-d5ea-45a1-9071-1ab1e199d171",
   "metadata": {},
   "source": [
    "### Optional Helper Function: Clean Bytes\n",
    "Input: A 'bytes' type of data\n",
    "\n",
    "Output: A cleaned 'string' conversion of the input\n",
    "\n",
    "The reason behind this is just to make the output legible by removing quotations and any useless characters.\n",
    "Note: Only works on some models"
   ]
  },
  {
   "cell_type": "code",
   "execution_count": null,
   "id": "8ff8c742-75ac-45c8-9d73-775420e7f068",
   "metadata": {},
   "outputs": [],
   "source": [
    "def clean_bytes(ibytes):\n",
    "    return str(ibytes)[1:-1].strip()"
   ]
  },
  {
   "cell_type": "markdown",
   "id": "9f5e15d0-a54a-403c-9130-b83634f3fc15",
   "metadata": {},
   "source": [
    "### Setup\n",
    "Initialize the Node Editor instance 'ne' and load a model into it.\n",
    "\n",
    "Use the filepath *sample_test_models/model_trifecta.yml* for a sample model.\n",
    "\n",
    "As a note, the Trifecta sample model consists of three models\n",
    "1. Model RNG - A model which outputs a random number 4 times (1 per line in the input text file)\n",
    "2. Model Reader - Reads said input text file line by line\n",
    "3. Model ROTXX - Rotates each line by the number generated and outputs it encoding in a ROT-XX format (think of ROT13 encoding, where each letter in the alphabet is moved 13 places, but here the number is random)\n",
    "\n",
    "**Make sure you manually right click and add all of your desired components once the editor appears.**\n",
    "\n",
    "While the rest of the notebook only needs 1 tab to run, it is important to notice how your model is loaded.\n",
    "\n",
    "As of March 30th, 2022, there is a bug that does not allow for the components to be linked. We are working on fixing that but for production it will still execute normally."
   ]
  },
  {
   "cell_type": "code",
   "execution_count": null,
   "id": "8bdc024d-5cf7-4602-bf22-53b382ccf8e4",
   "metadata": {},
   "outputs": [],
   "source": [
    "ne = jlne.NodeEditor()\n",
    "\n",
    "# Change this to your model's filepath\n",
    "model_filepath = \"sample_test_models\\model_trifecta.yml\"\n",
    "\n",
    "jlne.load_model(model_filepath, ne)"
   ]
  },
  {
   "cell_type": "markdown",
   "id": "8c75c955-cd4a-40e5-a75b-21dda69332f6",
   "metadata": {},
   "source": [
    "Right click the JLNE instance and open a new view in a seperate tab when you run the YggRunner below."
   ]
  },
  {
   "cell_type": "markdown",
   "id": "162e6c02-5215-45f0-8f8f-245877a87c21",
   "metadata": {},
   "source": [
    "### Callback Classes and Display\n",
    "This is where things get a bit messy **but** is still automated. The explanations may just seem difficult to understand, but I will do my best to simplify things and explain them in detail still.\n",
    "\n",
    "The class name doesn't matter (*VariableDisplay* - Display the variable) so long as it is called properly. The comments in the code will explain each portion to better help the flow of this example.\n",
    "\n",
    "*args[0]* is where the data in the runner is stored (i.e. the data that is being moved around, in the sample model's case, the number, line of text, and the rotated output)"
   ]
  },
  {
   "cell_type": "markdown",
   "id": "99358c60-4ca6-49d8-9f09-ba8a8bceb13a",
   "metadata": {},
   "source": [
    "### Connection Drivers\n",
    "By having a runner on the model path, we can execute the YAML file directly inside the notebook. Please make sure that the variable \"model_filepath\" was changed correctly above."
   ]
  },
  {
   "cell_type": "code",
   "execution_count": null,
   "id": "4778da0a-d199-451c-a3c8-28455d2e316e",
   "metadata": {},
   "outputs": [],
   "source": [
    "# Create a runner for the model, adjust the filepath for wherever the model is located\n",
    "runner = YggRunner(model_filepath)"
   ]
  },
  {
   "cell_type": "markdown",
   "id": "cb23b6e2-6d99-4343-aa86-ea22dd7807b1",
   "metadata": {},
   "source": [
    "Below is the class that will update the JLNE instance in real time.\n",
    "\n",
    "Read the comments for more details but the basic gist is that it will take each parsed component's arguments and output them as they are run in the first tab in the visualization"
   ]
  },
  {
   "cell_type": "code",
   "execution_count": null,
   "id": "c6927599-6113-45c2-a88f-76e9bb2d8291",
   "metadata": {},
   "outputs": [],
   "source": [
    "# Create the callback class and update the first tab with live information\n",
    "\n",
    "class VariableDisplay:\n",
    "    # We add in filler labels to overwrite with actual data later since it is automated\n",
    "    if len(ne.node_editor.nodes[0].display_element.children) <= 5:\n",
    "        for i in range(len(list(runner.connectiondrivers))):\n",
    "            ne.node_editor.nodes[0].display_element.children += (ipywidgets.Label(\"Initializing\"),)\n",
    "    \n",
    "    # The initialization will have the label from ipywidgets but also the name of the variable and it's order in the list\n",
    "    def __init__(self, elem_number, name):\n",
    "        self.label = ipywidgets.Label()\n",
    "        self.elem_number = elem_number\n",
    "        self.name = name\n",
    "    \n",
    "    # Display data will always show the relevant information taken from the dictionary itself and use the default dictionary key as it's name\n",
    "    # As of May 31st, 2022, the timesync bug still exists, so the time.sleep is necessary to see it run in realtime\n",
    "    # Otherwise, it still works as intended\n",
    "    # If you are only processing basic tings, you may opt to use the clean_bytes function with 'args[0].args' though it may be better to not use it as it may convolute the data being processed\n",
    "    def display_data(self, *args, **kwargs):\n",
    "        ne.node_editor.nodes[0].display_element.children[self.elem_number].value = f\"{self.name}: {args[0].args}\"\n",
    "        time.sleep(1)"
   ]
  },
  {
   "cell_type": "markdown",
   "id": "15b3ab3b-5e34-4aa0-87d9-7a45307a5a82",
   "metadata": {},
   "source": [
    "Each connectiondriver dictionary key corresponds to a connection in your model.\n",
    "For the sample model, we have\n",
    "1. The text file connected to the Reader model\n",
    "2. The random number and line of text connected to the ROTXX model\n",
    "3. The output of the ROTXX model (i.e. the rotated string)\n",
    "\n",
    "To utilize realtime updating with a Yggdrasil Runner, we need to add in a 'callbacks' key to each connectiondriver. The value of this key will be the class function corresponding to the data you want to show casted to a list.\n",
    "\n",
    "To break it down further, the value must be the class class with brackets around it so it is recognized by the Runner. This will allow the Runner to call back to that class function whenever the model is run. \n",
    "\n",
    "**This is all automated for you; there is no need to adjust any functions, just run the cells!**"
   ]
  },
  {
   "cell_type": "code",
   "execution_count": null,
   "id": "c345db9f-2d68-4aac-942e-986a34f794a7",
   "metadata": {},
   "outputs": [],
   "source": [
    "# We pull the exact drivers from the dictionary keys from the model itself here\n",
    "for i, v in enumerate(list(runner.connectiondrivers)):\n",
    "    display = VariableDisplay(i + 3, v.split(\":\")[1])\n",
    "    runner.connectiondrivers[v]['callbacks'] = [display.display_data]"
   ]
  },
  {
   "cell_type": "markdown",
   "id": "b269ce17-242c-47aa-9171-fcc5114133ee",
   "metadata": {},
   "source": [
    "Finally we can execute the Runner to watch it all flow"
   ]
  },
  {
   "cell_type": "code",
   "execution_count": null,
   "id": "18186048-3e60-4078-9308-934e6d302759",
   "metadata": {},
   "outputs": [],
   "source": [
    "# Run the runner to see the data update in realtime\n",
    "runner.run()"
   ]
  },
  {
   "cell_type": "markdown",
   "id": "9b7b4c72-f60b-4cdc-9049-f208465584e0",
   "metadata": {},
   "source": [
    "If you need to rerun, you must reload the YggRunner as well as everything after it (All of the Connection Drivers tab minus seeing the actual drivers)"
   ]
  },
  {
   "cell_type": "code",
   "execution_count": null,
   "id": "a582ed70-cbbd-47e3-9b40-125aa36b56c9",
   "metadata": {},
   "outputs": [],
   "source": []
  }
 ],
 "metadata": {
  "kernelspec": {
   "display_name": "yggJLNE",
   "language": "python",
   "name": "yggjlne"
  },
  "language_info": {
   "codemirror_mode": {
    "name": "ipython",
    "version": 3
   },
   "file_extension": ".py",
   "mimetype": "text/x-python",
   "name": "python",
   "nbconvert_exporter": "python",
   "pygments_lexer": "ipython3",
   "version": "3.8.12"
  }
 },
 "nbformat": 4,
 "nbformat_minor": 5
}
