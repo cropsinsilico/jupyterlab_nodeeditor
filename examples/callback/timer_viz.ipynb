{
 "cells": [
  {
   "cell_type": "code",
   "execution_count": null,
   "id": "a25ad9af-727c-47dd-81c1-a05aa8756a1c",
   "metadata": {},
   "outputs": [],
   "source": [
    "import matplotlib.pyplot as plt\n",
    "import numpy as np\n",
    "import ipywidgets as widgets\n",
    "from IPython.display import display, clear_output\n",
    "import time\n",
    "\n",
    "x = [0]\n",
    "y = [np.random.randn()]\n",
    "\n",
    "out = widgets.Output()\n",
    "display(out)\n",
    "\n",
    "def update_plot():\n",
    "    with out:\n",
    "        clear_output(wait=True)\n",
    "        plt.plot(x, y)\n",
    "        plt.show()\n",
    "\n",
    "def generate_and_update_values():\n",
    "    for _ in range(100):\n",
    "        time.sleep(1)\n",
    "        x.append(x[-1] + 1)\n",
    "        y.append(np.random.randn())\n",
    "        update_plot()\n",
    "\n",
    "generate_and_update_values()"
   ]
  },
  {
   "cell_type": "code",
   "execution_count": 1,
   "id": "a1b08453-0ee7-4ddf-9594-84a1bdebeed4",
   "metadata": {},
   "outputs": [
    {
     "data": {
      "application/vnd.jupyter.widget-view+json": {
       "model_id": "9ba03a078b9a4fb0b8b8b04de5aae0d7",
       "version_major": 2,
       "version_minor": 0
      },
      "text/plain": [
       "Output()"
      ]
     },
     "metadata": {},
     "output_type": "display_data"
    },
    {
     "ename": "CancelledError",
     "evalue": "",
     "output_type": "error",
     "traceback": [
      "\u001b[0;31m---------------------------------------------------------------------------\u001b[0m",
      "\u001b[0;31mCancelledError\u001b[0m                            Traceback (most recent call last)",
      "File \u001b[0;32m~/opt/miniconda3/envs/jlne/lib/python3.10/asyncio/tasks.py:605\u001b[0m, in \u001b[0;36msleep\u001b[0;34m(delay, result)\u001b[0m\n\u001b[1;32m    604\u001b[0m \u001b[38;5;28;01mtry\u001b[39;00m:\n\u001b[0;32m--> 605\u001b[0m     \u001b[38;5;28;01mreturn\u001b[39;00m \u001b[38;5;28;01mawait\u001b[39;00m future\n\u001b[1;32m    606\u001b[0m \u001b[38;5;28;01mfinally\u001b[39;00m:\n",
      "\u001b[0;31mCancelledError\u001b[0m: ",
      "\nDuring handling of the above exception, another exception occurred:\n",
      "\u001b[0;31mCancelledError\u001b[0m                            Traceback (most recent call last)",
      "Cell \u001b[0;32mIn[1], line 33\u001b[0m\n\u001b[1;32m     27\u001b[0m \u001b[38;5;28;01masync\u001b[39;00m \u001b[38;5;28;01mdef\u001b[39;00m \u001b[38;5;21mmain\u001b[39m():\n\u001b[1;32m     28\u001b[0m     \u001b[38;5;28;01mawait\u001b[39;00m asyncio\u001b[38;5;241m.\u001b[39mgather(\n\u001b[1;32m     29\u001b[0m         generate_values(),\n\u001b[1;32m     30\u001b[0m         update_plot()\n\u001b[1;32m     31\u001b[0m     )\n\u001b[0;32m---> 33\u001b[0m \u001b[38;5;28;01mawait\u001b[39;00m main()\n",
      "Cell \u001b[0;32mIn[1], line 28\u001b[0m, in \u001b[0;36mmain\u001b[0;34m()\u001b[0m\n\u001b[1;32m     27\u001b[0m \u001b[38;5;28;01masync\u001b[39;00m \u001b[38;5;28;01mdef\u001b[39;00m \u001b[38;5;21mmain\u001b[39m():\n\u001b[0;32m---> 28\u001b[0m     \u001b[38;5;28;01mawait\u001b[39;00m asyncio\u001b[38;5;241m.\u001b[39mgather(\n\u001b[1;32m     29\u001b[0m         generate_values(),\n\u001b[1;32m     30\u001b[0m         update_plot()\n\u001b[1;32m     31\u001b[0m     )\n",
      "\u001b[0;31mCancelledError\u001b[0m: "
     ]
    }
   ],
   "source": [
    "import matplotlib.pyplot as plt\n",
    "import numpy as np\n",
    "import asyncio\n",
    "import ipywidgets as widgets\n",
    "from IPython.display import display, clear_output\n",
    "\n",
    "x = [0]\n",
    "y = [np.random.randn()]\n",
    "\n",
    "out = widgets.Output()\n",
    "display(out)\n",
    "\n",
    "async def update_plot():\n",
    "    while True:\n",
    "        await asyncio.sleep(3)\n",
    "        with out:\n",
    "            clear_output(wait=True)\n",
    "            plt.plot(x, y)\n",
    "            plt.show()\n",
    "\n",
    "async def generate_values():\n",
    "    while True:\n",
    "        await asyncio.sleep(1)\n",
    "        x.append(x[-1] + 1)\n",
    "        y.append(np.random.randn())\n",
    "\n",
    "async def main():\n",
    "    await asyncio.gather(\n",
    "        generate_values(),\n",
    "        update_plot()\n",
    "    )\n",
    "\n",
    "await main()"
   ]
  },
  {
   "cell_type": "code",
   "execution_count": null,
   "id": "76fb249f-51f6-4906-b233-3b0aaaffb5cd",
   "metadata": {},
   "outputs": [],
   "source": []
  }
 ],
 "metadata": {
  "kernelspec": {
   "display_name": "Python 3 (ipykernel)",
   "language": "python",
   "name": "python3"
  },
  "language_info": {
   "codemirror_mode": {
    "name": "ipython",
    "version": 3
   },
   "file_extension": ".py",
   "mimetype": "text/x-python",
   "name": "python",
   "nbconvert_exporter": "python",
   "pygments_lexer": "ipython3",
   "version": "3.10.12"
  }
 },
 "nbformat": 4,
 "nbformat_minor": 5
}
