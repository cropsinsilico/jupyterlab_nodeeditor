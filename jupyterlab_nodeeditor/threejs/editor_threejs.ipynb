{
 "cells": [
  {
   "cell_type": "code",
   "execution_count": 1,
   "id": "d8893d59-724c-435c-878f-389281d27923",
   "metadata": {
    "tags": []
   },
   "outputs": [
    {
     "data": {
      "application/vnd.jupyter.widget-view+json": {
       "model_id": "fbab83b217a444b79a71a99e8d4af216",
       "version_major": 2,
       "version_minor": 0
      },
      "text/plain": [
       "AppLayout(children=(Label(value='Node Editor', layout=Layout(grid_area='header')), Accordion(layout=Layout(gri…"
      ]
     },
     "metadata": {},
     "output_type": "display_data"
    }
   ],
   "source": [
    "import jupyterlab_nodeeditor as jlne\n",
    "coll = jlne.SocketCollection(socket_types = ('Temperature', 'Rainfall', 'Delta Time', 'Results'))\n",
    "editor = jlne.NodeEditor(socket_collection=coll)\n",
    "in1 = jlne.InputSlot(title = \"inputA\", key = \"in_1\", sockets = coll,  multi_connection=True)\n",
    "out1 = jlne.OutputSlot(title = \"outputA\", key = \"out_1\", sockets = coll,multi_connection=True)\n",
    "contrl1=jlne.TextInputControlModel(key = 'my_key', editor = editor.node_editor, value=\"fullSoy_2-12a.ply\")\n",
    "\n",
    "new_comp1=jlne.Component(sockets=coll, inputs=[in1],outputs=[out1], controls=[contrl1],title=\"ModelA\")\n",
    "editor.add_component(new_comp1)\n",
    "editor"
   ]
  },
  {
   "cell_type": "code",
   "execution_count": null,
   "id": "376441f2-50ac-4ae7-a19e-fb88dd25a74a",
   "metadata": {},
   "outputs": [],
   "source": []
  }
 ],
 "metadata": {
  "kernelspec": {
   "display_name": "Python 3 (ipykernel)",
   "language": "python",
   "name": "python3"
  },
  "language_info": {
   "codemirror_mode": {
    "name": "ipython",
    "version": 3
   },
   "file_extension": ".py",
   "mimetype": "text/x-python",
   "name": "python",
   "nbconvert_exporter": "python",
   "pygments_lexer": "ipython3",
   "version": "3.8.13"
  }
 },
 "nbformat": 4,
 "nbformat_minor": 5
}
