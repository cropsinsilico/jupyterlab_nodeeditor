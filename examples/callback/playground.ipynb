{
 "cells": [
  {
   "cell_type": "code",
   "execution_count": 1,
   "id": "158bd058-cff6-4e79-aba3-c3d1e7f02a98",
   "metadata": {},
   "outputs": [],
   "source": [
    "import jupyterlab_nodeeditor as jlne\n",
    "from yggdrasil import tools\n",
    "from yggdrasil.runner import run"
   ]
  },
  {
   "cell_type": "code",
   "execution_count": 2,
   "id": "23aaf5c3-4f5b-4506-8aef-04fec168f4cc",
   "metadata": {},
   "outputs": [],
   "source": [
    "callback=\"./callback_python.yml\""
   ]
  },
  {
   "cell_type": "code",
   "execution_count": 3,
   "id": "bc842c3c-1950-4fd2-a775-d5bbe15488d0",
   "metadata": {},
   "outputs": [
    {
     "name": "stdout",
     "output_type": "stream",
     "text": [
      "INFO:1434:runner.startDrivers[819]:YggRunner(runner): Starting I/O drivers and models on system Yilins-MacBook-Pro-2.local in namespace yggdrasil with rank 0\n",
      "/Users/yilinxia/opt/miniconda3/envs/jlne/bin/python /Users/yilinxia/jupyterlab_nodeeditor/examples/callback/src/ygg_callback_modelA_python_modelA.py\n",
      "/Users/yilinxia/opt/miniconda3/envs/jlne/bin/python /Users/yilinxia/jupyterlab_nodeeditor/examples/callback/src/ygg_callback_modelB_python_modelB.py\n"
     ]
    },
    {
     "data": {
      "application/vnd.jupyter.widget-view+json": {
       "model_id": "f4e2811b78ea4931bee2d029d82f57a9",
       "version_major": 2,
       "version_minor": 0
      },
      "text/plain": [
       "Output()"
      ]
     },
     "metadata": {},
     "output_type": "display_data"
    },
    {
     "data": {
      "application/vnd.jupyter.widget-view+json": {
       "model_id": "7426b23067fd47d6b18c341c83e82ec6",
       "version_major": 2,
       "version_minor": 0
      },
      "text/plain": [
       "Output()"
      ]
     },
     "metadata": {},
     "output_type": "display_data"
    },
    {
     "data": {
      "application/vnd.jupyter.widget-view+json": {
       "model_id": "32fe7039522b4ed6a0ed082d04c7f3fc",
       "version_major": 2,
       "version_minor": 0
      },
      "text/plain": [
       "Output()"
      ]
     },
     "metadata": {},
     "output_type": "display_data"
    },
    {
     "data": {
      "application/vnd.jupyter.widget-view+json": {
       "model_id": "1f2a6a4e21d141c49ae4a21d1f9dc918",
       "version_major": 2,
       "version_minor": 0
      },
      "text/plain": [
       "Output()"
      ]
     },
     "metadata": {},
     "output_type": "display_data"
    },
    {
     "data": {
      "application/vnd.jupyter.widget-view+json": {
       "model_id": "e236f9ef978442459245da651148e6d6",
       "version_major": 2,
       "version_minor": 0
      },
      "text/plain": [
       "Output()"
      ]
     },
     "metadata": {},
     "output_type": "display_data"
    },
    {
     "data": {
      "application/vnd.jupyter.widget-view+json": {
       "model_id": "10e8d1eabfa04a84b1e653aec24bff8b",
       "version_major": 2,
       "version_minor": 0
      },
      "text/plain": [
       "Output()"
      ]
     },
     "metadata": {},
     "output_type": "display_data"
    },
    {
     "data": {
      "application/vnd.jupyter.widget-view+json": {
       "model_id": "d1dc468ec75541d3a46ede35d16afc53",
       "version_major": 2,
       "version_minor": 0
      },
      "text/plain": [
       "Output()"
      ]
     },
     "metadata": {},
     "output_type": "display_data"
    },
    {
     "data": {
      "application/vnd.jupyter.widget-view+json": {
       "model_id": "43622fcd1c2d45be8fc9aa50729f7a82",
       "version_major": 2,
       "version_minor": 0
      },
      "text/plain": [
       "Output()"
      ]
     },
     "metadata": {},
     "output_type": "display_data"
    },
    {
     "data": {
      "application/vnd.jupyter.widget-view+json": {
       "model_id": "7a169e80d159496facfb6eb2d0f51f8c",
       "version_major": 2,
       "version_minor": 0
      },
      "text/plain": [
       "Output()"
      ]
     },
     "metadata": {},
     "output_type": "display_data"
    },
    {
     "data": {
      "application/vnd.jupyter.widget-view+json": {
       "model_id": "fb4106127e2342bc84d5494b89ff1cc8",
       "version_major": 2,
       "version_minor": 0
      },
      "text/plain": [
       "Output()"
      ]
     },
     "metadata": {},
     "output_type": "display_data"
    },
    {
     "data": {
      "application/vnd.jupyter.widget-view+json": {
       "model_id": "c34eae3de1e145d59a79152c38d0c412",
       "version_major": 2,
       "version_minor": 0
      },
      "text/plain": [
       "Output()"
      ]
     },
     "metadata": {},
     "output_type": "display_data"
    },
    {
     "data": {
      "application/vnd.jupyter.widget-view+json": {
       "model_id": "a88feecf5b3748209509fd14d0a57760",
       "version_major": 2,
       "version_minor": 0
      },
      "text/plain": [
       "Output()"
      ]
     },
     "metadata": {},
     "output_type": "display_data"
    },
    {
     "data": {
      "application/vnd.jupyter.widget-view+json": {
       "model_id": "e73c5e47f63c42f7863e9064cafd4595",
       "version_major": 2,
       "version_minor": 0
      },
      "text/plain": [
       "Output()"
      ]
     },
     "metadata": {},
     "output_type": "display_data"
    },
    {
     "data": {
      "application/vnd.jupyter.widget-view+json": {
       "model_id": "1d452672f5b94321876a6d9bf8d7864b",
       "version_major": 2,
       "version_minor": 0
      },
      "text/plain": [
       "Output()"
      ]
     },
     "metadata": {},
     "output_type": "display_data"
    },
    {
     "data": {
      "application/vnd.jupyter.widget-view+json": {
       "model_id": "b267012cdf684496926f1ac2121eeb84",
       "version_major": 2,
       "version_minor": 0
      },
      "text/plain": [
       "Output()"
      ]
     },
     "metadata": {},
     "output_type": "display_data"
    },
    {
     "data": {
      "application/vnd.jupyter.widget-view+json": {
       "model_id": "887c80388aa649d188ac57dbfe5ecfa8",
       "version_major": 2,
       "version_minor": 0
      },
      "text/plain": [
       "Output()"
      ]
     },
     "metadata": {},
     "output_type": "display_data"
    },
    {
     "data": {
      "application/vnd.jupyter.widget-view+json": {
       "model_id": "dc5368305db4496d925cd1bcbd8e4976",
       "version_major": 2,
       "version_minor": 0
      },
      "text/plain": [
       "Output()"
      ]
     },
     "metadata": {},
     "output_type": "display_data"
    },
    {
     "data": {
      "application/vnd.jupyter.widget-view+json": {
       "model_id": "a172984feea74d2fae4b5876534198bf",
       "version_major": 2,
       "version_minor": 0
      },
      "text/plain": [
       "Output()"
      ]
     },
     "metadata": {},
     "output_type": "display_data"
    },
    {
     "data": {
      "application/vnd.jupyter.widget-view+json": {
       "model_id": "6e4f32badf1940318a7185495f70f300",
       "version_major": 2,
       "version_minor": 0
      },
      "text/plain": [
       "Output()"
      ]
     },
     "metadata": {},
     "output_type": "display_data"
    },
    {
     "data": {
      "application/vnd.jupyter.widget-view+json": {
       "model_id": "d813a83bc9b046b6835d344961300dee",
       "version_major": 2,
       "version_minor": 0
      },
      "text/plain": [
       "Output()"
      ]
     },
     "metadata": {},
     "output_type": "display_data"
    },
    {
     "data": {
      "application/vnd.jupyter.widget-view+json": {
       "model_id": "372c88dc67bf4de397d43cb815c876ea",
       "version_major": 2,
       "version_minor": 0
      },
      "text/plain": [
       "Output()"
      ]
     },
     "metadata": {},
     "output_type": "display_data"
    },
    {
     "data": {
      "application/vnd.jupyter.widget-view+json": {
       "model_id": "33b30fc2d61e44e0b012e864a0eb8a40",
       "version_major": 2,
       "version_minor": 0
      },
      "text/plain": [
       "Output()"
      ]
     },
     "metadata": {},
     "output_type": "display_data"
    },
    {
     "data": {
      "application/vnd.jupyter.widget-view+json": {
       "model_id": "212f12fc65344389b7917817f0130493",
       "version_major": 2,
       "version_minor": 0
      },
      "text/plain": [
       "Output()"
      ]
     },
     "metadata": {},
     "output_type": "display_data"
    },
    {
     "data": {
      "application/vnd.jupyter.widget-view+json": {
       "model_id": "8eb1a17a127347ba892a66a781d5dab0",
       "version_major": 2,
       "version_minor": 0
      },
      "text/plain": [
       "Output()"
      ]
     },
     "metadata": {},
     "output_type": "display_data"
    },
    {
     "data": {
      "application/vnd.jupyter.widget-view+json": {
       "model_id": "f16766eb970d4038abe3dbe1d883c9e0",
       "version_major": 2,
       "version_minor": 0
      },
      "text/plain": [
       "Output()"
      ]
     },
     "metadata": {},
     "output_type": "display_data"
    },
    {
     "data": {
      "application/vnd.jupyter.widget-view+json": {
       "model_id": "9ac90e984c8d46248cbc5a20a039c7d0",
       "version_major": 2,
       "version_minor": 0
      },
      "text/plain": [
       "Output()"
      ]
     },
     "metadata": {},
     "output_type": "display_data"
    },
    {
     "data": {
      "application/vnd.jupyter.widget-view+json": {
       "model_id": "c61a81fca04641528d7910a63c10b7b8",
       "version_major": 2,
       "version_minor": 0
      },
      "text/plain": [
       "Output()"
      ]
     },
     "metadata": {},
     "output_type": "display_data"
    },
    {
     "data": {
      "application/vnd.jupyter.widget-view+json": {
       "model_id": "a6f0c4cfd7a142789eec83070ddb2e90",
       "version_major": 2,
       "version_minor": 0
      },
      "text/plain": [
       "Output()"
      ]
     },
     "metadata": {},
     "output_type": "display_data"
    },
    {
     "data": {
      "application/vnd.jupyter.widget-view+json": {
       "model_id": "42b0ad0ae0e84db3a3be8e1a4ca2bf24",
       "version_major": 2,
       "version_minor": 0
      },
      "text/plain": [
       "Output()"
      ]
     },
     "metadata": {},
     "output_type": "display_data"
    },
    {
     "data": {
      "application/vnd.jupyter.widget-view+json": {
       "model_id": "064b5be5cfbd47c09fc6d98d4ca9fdb5",
       "version_major": 2,
       "version_minor": 0
      },
      "text/plain": [
       "Output()"
      ]
     },
     "metadata": {},
     "output_type": "display_data"
    },
    {
     "data": {
      "application/vnd.jupyter.widget-view+json": {
       "model_id": "8cdb2958fdce40e3ada2fdafd4ae89ab",
       "version_major": 2,
       "version_minor": 0
      },
      "text/plain": [
       "Output()"
      ]
     },
     "metadata": {},
     "output_type": "display_data"
    },
    {
     "data": {
      "application/vnd.jupyter.widget-view+json": {
       "model_id": "ee57fa5b9c83414bbb4d5aa4bdb48530",
       "version_major": 2,
       "version_minor": 0
      },
      "text/plain": [
       "Output()"
      ]
     },
     "metadata": {},
     "output_type": "display_data"
    },
    {
     "data": {
      "application/vnd.jupyter.widget-view+json": {
       "model_id": "aa0477ec724c4c6482f05b3b920adcdb",
       "version_major": 2,
       "version_minor": 0
      },
      "text/plain": [
       "Output()"
      ]
     },
     "metadata": {},
     "output_type": "display_data"
    },
    {
     "data": {
      "application/vnd.jupyter.widget-view+json": {
       "model_id": "9f38adf01ee847118063aba60deab2bc",
       "version_major": 2,
       "version_minor": 0
      },
      "text/plain": [
       "Output()"
      ]
     },
     "metadata": {},
     "output_type": "display_data"
    },
    {
     "data": {
      "application/vnd.jupyter.widget-view+json": {
       "model_id": "0f769e0832b545a5be70a74108352747",
       "version_major": 2,
       "version_minor": 0
      },
      "text/plain": [
       "Output()"
      ]
     },
     "metadata": {},
     "output_type": "display_data"
    },
    {
     "data": {
      "application/vnd.jupyter.widget-view+json": {
       "model_id": "e59967839d074dc892c06cee2c403ded",
       "version_major": 2,
       "version_minor": 0
      },
      "text/plain": [
       "Output()"
      ]
     },
     "metadata": {},
     "output_type": "display_data"
    },
    {
     "data": {
      "application/vnd.jupyter.widget-view+json": {
       "model_id": "5a77b4d1fe8d4f068c01aa321fbe7c00",
       "version_major": 2,
       "version_minor": 0
      },
      "text/plain": [
       "Output()"
      ]
     },
     "metadata": {},
     "output_type": "display_data"
    },
    {
     "data": {
      "application/vnd.jupyter.widget-view+json": {
       "model_id": "3bdc919b098c4ca0a376937e0465ac16",
       "version_major": 2,
       "version_minor": 0
      },
      "text/plain": [
       "Output()"
      ]
     },
     "metadata": {},
     "output_type": "display_data"
    },
    {
     "data": {
      "application/vnd.jupyter.widget-view+json": {
       "model_id": "18702b5105e84f3bb41034e876e93162",
       "version_major": 2,
       "version_minor": 0
      },
      "text/plain": [
       "Output()"
      ]
     },
     "metadata": {},
     "output_type": "display_data"
    },
    {
     "data": {
      "application/vnd.jupyter.widget-view+json": {
       "model_id": "828cfbcce00f4dcb9016040a91f18c2b",
       "version_major": 2,
       "version_minor": 0
      },
      "text/plain": [
       "Output()"
      ]
     },
     "metadata": {},
     "output_type": "display_data"
    },
    {
     "data": {
      "application/vnd.jupyter.widget-view+json": {
       "model_id": "1e427b86c1564678b8860e744dbf24f5",
       "version_major": 2,
       "version_minor": 0
      },
      "text/plain": [
       "Output()"
      ]
     },
     "metadata": {},
     "output_type": "display_data"
    },
    {
     "data": {
      "application/vnd.jupyter.widget-view+json": {
       "model_id": "fa9a45cb3533438fa7718bfe46be199d",
       "version_major": 2,
       "version_minor": 0
      },
      "text/plain": [
       "Output()"
      ]
     },
     "metadata": {},
     "output_type": "display_data"
    },
    {
     "data": {
      "application/vnd.jupyter.widget-view+json": {
       "model_id": "617719dd2feb4a75849cf5c1cdaadc37",
       "version_major": 2,
       "version_minor": 0
      },
      "text/plain": [
       "Output()"
      ]
     },
     "metadata": {},
     "output_type": "display_data"
    },
    {
     "data": {
      "application/vnd.jupyter.widget-view+json": {
       "model_id": "94fae58d9d0546e4926ea757cd8adddb",
       "version_major": 2,
       "version_minor": 0
      },
      "text/plain": [
       "Output()"
      ]
     },
     "metadata": {},
     "output_type": "display_data"
    },
    {
     "data": {
      "application/vnd.jupyter.widget-view+json": {
       "model_id": "abd76d6a79084d9fbff644608a123d98",
       "version_major": 2,
       "version_minor": 0
      },
      "text/plain": [
       "Output()"
      ]
     },
     "metadata": {},
     "output_type": "display_data"
    },
    {
     "data": {
      "application/vnd.jupyter.widget-view+json": {
       "model_id": "0148ff8acd144759a1b8dcda12a3d23a",
       "version_major": 2,
       "version_minor": 0
      },
      "text/plain": [
       "Output()"
      ]
     },
     "metadata": {},
     "output_type": "display_data"
    },
    {
     "data": {
      "application/vnd.jupyter.widget-view+json": {
       "model_id": "372681cd75744b26ad8252220df130c8",
       "version_major": 2,
       "version_minor": 0
      },
      "text/plain": [
       "Output()"
      ]
     },
     "metadata": {},
     "output_type": "display_data"
    },
    {
     "data": {
      "application/vnd.jupyter.widget-view+json": {
       "model_id": "6159521d2f704e1787a3e3546cce6fde",
       "version_major": 2,
       "version_minor": 0
      },
      "text/plain": [
       "Output()"
      ]
     },
     "metadata": {},
     "output_type": "display_data"
    },
    {
     "data": {
      "application/vnd.jupyter.widget-view+json": {
       "model_id": "d4279f5d60994b22919470df398edaab",
       "version_major": 2,
       "version_minor": 0
      },
      "text/plain": [
       "Output()"
      ]
     },
     "metadata": {},
     "output_type": "display_data"
    },
    {
     "data": {
      "application/vnd.jupyter.widget-view+json": {
       "model_id": "26d9877bd5be44c9ba91da65fec9a4de",
       "version_major": 2,
       "version_minor": 0
      },
      "text/plain": [
       "Output()"
      ]
     },
     "metadata": {},
     "output_type": "display_data"
    },
    {
     "data": {
      "application/vnd.jupyter.widget-view+json": {
       "model_id": "7f343c28fd794fcd8dbe7269c3af8c26",
       "version_major": 2,
       "version_minor": 0
      },
      "text/plain": [
       "Output()"
      ]
     },
     "metadata": {},
     "output_type": "display_data"
    },
    {
     "data": {
      "application/vnd.jupyter.widget-view+json": {
       "model_id": "ee55b296b83d43979dbb3f34422de274",
       "version_major": 2,
       "version_minor": 0
      },
      "text/plain": [
       "Output()"
      ]
     },
     "metadata": {},
     "output_type": "display_data"
    },
    {
     "data": {
      "application/vnd.jupyter.widget-view+json": {
       "model_id": "8fb4359bfee14f75886e678c88370700",
       "version_major": 2,
       "version_minor": 0
      },
      "text/plain": [
       "Output()"
      ]
     },
     "metadata": {},
     "output_type": "display_data"
    },
    {
     "data": {
      "application/vnd.jupyter.widget-view+json": {
       "model_id": "e54df288a2e74dc08d8c839de0e2f425",
       "version_major": 2,
       "version_minor": 0
      },
      "text/plain": [
       "Output()"
      ]
     },
     "metadata": {},
     "output_type": "display_data"
    },
    {
     "data": {
      "application/vnd.jupyter.widget-view+json": {
       "model_id": "b4bf7d3af43f41b59d8a94c2a46bfa5f",
       "version_major": 2,
       "version_minor": 0
      },
      "text/plain": [
       "Output()"
      ]
     },
     "metadata": {},
     "output_type": "display_data"
    },
    {
     "data": {
      "application/vnd.jupyter.widget-view+json": {
       "model_id": "a0b6e494fc0c460db250bdb4d4e52139",
       "version_major": 2,
       "version_minor": 0
      },
      "text/plain": [
       "Output()"
      ]
     },
     "metadata": {},
     "output_type": "display_data"
    },
    {
     "data": {
      "application/vnd.jupyter.widget-view+json": {
       "model_id": "48380f118bb74d2fab02f8cefbc771d1",
       "version_major": 2,
       "version_minor": 0
      },
      "text/plain": [
       "Output()"
      ]
     },
     "metadata": {},
     "output_type": "display_data"
    },
    {
     "data": {
      "application/vnd.jupyter.widget-view+json": {
       "model_id": "ba55894e95fb45b6aa0f8362b776f7f7",
       "version_major": 2,
       "version_minor": 0
      },
      "text/plain": [
       "Output()"
      ]
     },
     "metadata": {},
     "output_type": "display_data"
    },
    {
     "data": {
      "application/vnd.jupyter.widget-view+json": {
       "model_id": "c17a16ec153a4ab4a4b747bdbcd447a6",
       "version_major": 2,
       "version_minor": 0
      },
      "text/plain": [
       "Output()"
      ]
     },
     "metadata": {},
     "output_type": "display_data"
    },
    {
     "data": {
      "application/vnd.jupyter.widget-view+json": {
       "model_id": "73351bf1d0d94e8181fedb01aaeddc05",
       "version_major": 2,
       "version_minor": 0
      },
      "text/plain": [
       "Output()"
      ]
     },
     "metadata": {},
     "output_type": "display_data"
    },
    {
     "data": {
      "application/vnd.jupyter.widget-view+json": {
       "model_id": "27bf7ffa88c74c22905425f075f05d3c",
       "version_major": 2,
       "version_minor": 0
      },
      "text/plain": [
       "Output()"
      ]
     },
     "metadata": {},
     "output_type": "display_data"
    },
    {
     "data": {
      "application/vnd.jupyter.widget-view+json": {
       "model_id": "a7444a5aea8842648bdecf55127e4f96",
       "version_major": 2,
       "version_minor": 0
      },
      "text/plain": [
       "Output()"
      ]
     },
     "metadata": {},
     "output_type": "display_data"
    },
    {
     "data": {
      "application/vnd.jupyter.widget-view+json": {
       "model_id": "1bbc0f908ab446b6bc972685db88e37f",
       "version_major": 2,
       "version_minor": 0
      },
      "text/plain": [
       "Output()"
      ]
     },
     "metadata": {},
     "output_type": "display_data"
    },
    {
     "data": {
      "application/vnd.jupyter.widget-view+json": {
       "model_id": "442f3d54c14a4946808fd6c9d65dacf0",
       "version_major": 2,
       "version_minor": 0
      },
      "text/plain": [
       "Output()"
      ]
     },
     "metadata": {},
     "output_type": "display_data"
    },
    {
     "data": {
      "application/vnd.jupyter.widget-view+json": {
       "model_id": "ed5fc9adeebe4071a4cc47f2c6818c52",
       "version_major": 2,
       "version_minor": 0
      },
      "text/plain": [
       "Output()"
      ]
     },
     "metadata": {},
     "output_type": "display_data"
    },
    {
     "data": {
      "application/vnd.jupyter.widget-view+json": {
       "model_id": "85805939939d47b3850426a238fd4c50",
       "version_major": 2,
       "version_minor": 0
      },
      "text/plain": [
       "Output()"
      ]
     },
     "metadata": {},
     "output_type": "display_data"
    },
    {
     "data": {
      "application/vnd.jupyter.widget-view+json": {
       "model_id": "0a6e3d6a350340bab50ba966093b6b10",
       "version_major": 2,
       "version_minor": 0
      },
      "text/plain": [
       "Output()"
      ]
     },
     "metadata": {},
     "output_type": "display_data"
    },
    {
     "data": {
      "application/vnd.jupyter.widget-view+json": {
       "model_id": "bcb8eac07bb44a28a3d4048081c19797",
       "version_major": 2,
       "version_minor": 0
      },
      "text/plain": [
       "Output()"
      ]
     },
     "metadata": {},
     "output_type": "display_data"
    },
    {
     "data": {
      "application/vnd.jupyter.widget-view+json": {
       "model_id": "118f6c29cceb4d07a7bfc8352e975d98",
       "version_major": 2,
       "version_minor": 0
      },
      "text/plain": [
       "Output()"
      ]
     },
     "metadata": {},
     "output_type": "display_data"
    },
    {
     "data": {
      "application/vnd.jupyter.widget-view+json": {
       "model_id": "76b75ec8b8df4dbeb89b72ecefa88257",
       "version_major": 2,
       "version_minor": 0
      },
      "text/plain": [
       "Output()"
      ]
     },
     "metadata": {},
     "output_type": "display_data"
    },
    {
     "data": {
      "application/vnd.jupyter.widget-view+json": {
       "model_id": "ffd0b58d336a40ea800f0b92dd9f2256",
       "version_major": 2,
       "version_minor": 0
      },
      "text/plain": [
       "Output()"
      ]
     },
     "metadata": {},
     "output_type": "display_data"
    },
    {
     "data": {
      "application/vnd.jupyter.widget-view+json": {
       "model_id": "197cef8642d04961a0b6ae10886e4ed3",
       "version_major": 2,
       "version_minor": 0
      },
      "text/plain": [
       "Output()"
      ]
     },
     "metadata": {},
     "output_type": "display_data"
    },
    {
     "data": {
      "application/vnd.jupyter.widget-view+json": {
       "model_id": "7f7c0431eb614c58aedc0172bc6a3d6a",
       "version_major": 2,
       "version_minor": 0
      },
      "text/plain": [
       "Output()"
      ]
     },
     "metadata": {},
     "output_type": "display_data"
    },
    {
     "data": {
      "application/vnd.jupyter.widget-view+json": {
       "model_id": "8984ffa660e64225860ec96e9e99f65f",
       "version_major": 2,
       "version_minor": 0
      },
      "text/plain": [
       "Output()"
      ]
     },
     "metadata": {},
     "output_type": "display_data"
    },
    {
     "data": {
      "application/vnd.jupyter.widget-view+json": {
       "model_id": "4dce024585f445b59eaf3bf2c1b5582d",
       "version_major": 2,
       "version_minor": 0
      },
      "text/plain": [
       "Output()"
      ]
     },
     "metadata": {},
     "output_type": "display_data"
    },
    {
     "data": {
      "application/vnd.jupyter.widget-view+json": {
       "model_id": "a1af2294ea684ad6a9234f1f76ce1213",
       "version_major": 2,
       "version_minor": 0
      },
      "text/plain": [
       "Output()"
      ]
     },
     "metadata": {},
     "output_type": "display_data"
    },
    {
     "data": {
      "application/vnd.jupyter.widget-view+json": {
       "model_id": "5437fd79d1374257a16d736483e9d073",
       "version_major": 2,
       "version_minor": 0
      },
      "text/plain": [
       "Output()"
      ]
     },
     "metadata": {},
     "output_type": "display_data"
    },
    {
     "data": {
      "application/vnd.jupyter.widget-view+json": {
       "model_id": "159f50cd1f9449659e4754a81d1018dc",
       "version_major": 2,
       "version_minor": 0
      },
      "text/plain": [
       "Output()"
      ]
     },
     "metadata": {},
     "output_type": "display_data"
    },
    {
     "data": {
      "application/vnd.jupyter.widget-view+json": {
       "model_id": "44de0e188ce442929e3ecff2f48dabba",
       "version_major": 2,
       "version_minor": 0
      },
      "text/plain": [
       "Output()"
      ]
     },
     "metadata": {},
     "output_type": "display_data"
    },
    {
     "data": {
      "application/vnd.jupyter.widget-view+json": {
       "model_id": "290cfc18809a49adb5bf45cccc75794c",
       "version_major": 2,
       "version_minor": 0
      },
      "text/plain": [
       "Output()"
      ]
     },
     "metadata": {},
     "output_type": "display_data"
    },
    {
     "data": {
      "application/vnd.jupyter.widget-view+json": {
       "model_id": "dec570e322b14ff08d75f1aecf3cc45b",
       "version_major": 2,
       "version_minor": 0
      },
      "text/plain": [
       "Output()"
      ]
     },
     "metadata": {},
     "output_type": "display_data"
    },
    {
     "data": {
      "application/vnd.jupyter.widget-view+json": {
       "model_id": "7a600aee12404d49a095acb3b259aae0",
       "version_major": 2,
       "version_minor": 0
      },
      "text/plain": [
       "Output()"
      ]
     },
     "metadata": {},
     "output_type": "display_data"
    },
    {
     "data": {
      "application/vnd.jupyter.widget-view+json": {
       "model_id": "42c494fad4394bc881197c93a5d1c42b",
       "version_major": 2,
       "version_minor": 0
      },
      "text/plain": [
       "Output()"
      ]
     },
     "metadata": {},
     "output_type": "display_data"
    },
    {
     "data": {
      "application/vnd.jupyter.widget-view+json": {
       "model_id": "2142679c081c41d9a819993d51985135",
       "version_major": 2,
       "version_minor": 0
      },
      "text/plain": [
       "Output()"
      ]
     },
     "metadata": {},
     "output_type": "display_data"
    },
    {
     "data": {
      "application/vnd.jupyter.widget-view+json": {
       "model_id": "dcb43bb6bffb4101892fce8ea63329bf",
       "version_major": 2,
       "version_minor": 0
      },
      "text/plain": [
       "Output()"
      ]
     },
     "metadata": {},
     "output_type": "display_data"
    },
    {
     "data": {
      "application/vnd.jupyter.widget-view+json": {
       "model_id": "93a1b982e01b450a9ca54c6e65a8edb9",
       "version_major": 2,
       "version_minor": 0
      },
      "text/plain": [
       "Output()"
      ]
     },
     "metadata": {},
     "output_type": "display_data"
    },
    {
     "data": {
      "application/vnd.jupyter.widget-view+json": {
       "model_id": "66059fd58bc44b91abc5edd1b703caf6",
       "version_major": 2,
       "version_minor": 0
      },
      "text/plain": [
       "Output()"
      ]
     },
     "metadata": {},
     "output_type": "display_data"
    },
    {
     "data": {
      "application/vnd.jupyter.widget-view+json": {
       "model_id": "e2ac825494f24b23aecc672b74a6b72b",
       "version_major": 2,
       "version_minor": 0
      },
      "text/plain": [
       "Output()"
      ]
     },
     "metadata": {},
     "output_type": "display_data"
    },
    {
     "data": {
      "application/vnd.jupyter.widget-view+json": {
       "model_id": "fda5fcaa40fe4e4e9613a58fab68b67d",
       "version_major": 2,
       "version_minor": 0
      },
      "text/plain": [
       "Output()"
      ]
     },
     "metadata": {},
     "output_type": "display_data"
    },
    {
     "data": {
      "application/vnd.jupyter.widget-view+json": {
       "model_id": "18359355d0c347e6af43423652b3a48c",
       "version_major": 2,
       "version_minor": 0
      },
      "text/plain": [
       "Output()"
      ]
     },
     "metadata": {},
     "output_type": "display_data"
    },
    {
     "data": {
      "application/vnd.jupyter.widget-view+json": {
       "model_id": "c63f9d8cd96940268da05741abd7ec83",
       "version_major": 2,
       "version_minor": 0
      },
      "text/plain": [
       "Output()"
      ]
     },
     "metadata": {},
     "output_type": "display_data"
    },
    {
     "data": {
      "application/vnd.jupyter.widget-view+json": {
       "model_id": "76a4892d8f1d403e92504e12b9bd2a2e",
       "version_major": 2,
       "version_minor": 0
      },
      "text/plain": [
       "Output()"
      ]
     },
     "metadata": {},
     "output_type": "display_data"
    },
    {
     "data": {
      "application/vnd.jupyter.widget-view+json": {
       "model_id": "af3880c41da4467188342505d499794b",
       "version_major": 2,
       "version_minor": 0
      },
      "text/plain": [
       "Output()"
      ]
     },
     "metadata": {},
     "output_type": "display_data"
    },
    {
     "data": {
      "application/vnd.jupyter.widget-view+json": {
       "model_id": "15009cd2e55145ae99b5762ee2af32b1",
       "version_major": 2,
       "version_minor": 0
      },
      "text/plain": [
       "Output()"
      ]
     },
     "metadata": {},
     "output_type": "display_data"
    },
    {
     "data": {
      "application/vnd.jupyter.widget-view+json": {
       "model_id": "09d8cb9ac0dd4ac59a986c503f001ba3",
       "version_major": 2,
       "version_minor": 0
      },
      "text/plain": [
       "Output()"
      ]
     },
     "metadata": {},
     "output_type": "display_data"
    },
    {
     "data": {
      "application/vnd.jupyter.widget-view+json": {
       "model_id": "7293bba7661446ea9502956ac3379148",
       "version_major": 2,
       "version_minor": 0
      },
      "text/plain": [
       "Output()"
      ]
     },
     "metadata": {},
     "output_type": "display_data"
    },
    {
     "data": {
      "application/vnd.jupyter.widget-view+json": {
       "model_id": "6bf7caf15cdd415d99bbf35ef312d4eb",
       "version_major": 2,
       "version_minor": 0
      },
      "text/plain": [
       "Output()"
      ]
     },
     "metadata": {},
     "output_type": "display_data"
    },
    {
     "data": {
      "application/vnd.jupyter.widget-view+json": {
       "model_id": "1c8e93f8c38345609ce6313ded7b740b",
       "version_major": 2,
       "version_minor": 0
      },
      "text/plain": [
       "Output()"
      ]
     },
     "metadata": {},
     "output_type": "display_data"
    },
    {
     "data": {
      "application/vnd.jupyter.widget-view+json": {
       "model_id": "efaa75f4c8224800b79e38dd851f1af8",
       "version_major": 2,
       "version_minor": 0
      },
      "text/plain": [
       "Output()"
      ]
     },
     "metadata": {},
     "output_type": "display_data"
    },
    {
     "data": {
      "application/vnd.jupyter.widget-view+json": {
       "model_id": "08490229ebfb474597e8dba3565ffa78",
       "version_major": 2,
       "version_minor": 0
      },
      "text/plain": [
       "Output()"
      ]
     },
     "metadata": {},
     "output_type": "display_data"
    },
    {
     "data": {
      "application/vnd.jupyter.widget-view+json": {
       "model_id": "8a5628f32c714a44b6a68f86d3079f70",
       "version_major": 2,
       "version_minor": 0
      },
      "text/plain": [
       "Output()"
      ]
     },
     "metadata": {},
     "output_type": "display_data"
    },
    {
     "data": {
      "application/vnd.jupyter.widget-view+json": {
       "model_id": "d5551c53696e49dba8060962afab6cb4",
       "version_major": 2,
       "version_minor": 0
      },
      "text/plain": [
       "Output()"
      ]
     },
     "metadata": {},
     "output_type": "display_data"
    },
    {
     "data": {
      "application/vnd.jupyter.widget-view+json": {
       "model_id": "6db14a438b2044b0a6db933256b71d9c",
       "version_major": 2,
       "version_minor": 0
      },
      "text/plain": [
       "Output()"
      ]
     },
     "metadata": {},
     "output_type": "display_data"
    },
    {
     "data": {
      "application/vnd.jupyter.widget-view+json": {
       "model_id": "3c038f29778442ccb4477280353b28e3",
       "version_major": 2,
       "version_minor": 0
      },
      "text/plain": [
       "Output()"
      ]
     },
     "metadata": {},
     "output_type": "display_data"
    },
    {
     "data": {
      "application/vnd.jupyter.widget-view+json": {
       "model_id": "09e6ceb41b114ceda17a2dbc31c0a8ef",
       "version_major": 2,
       "version_minor": 0
      },
      "text/plain": [
       "Output()"
      ]
     },
     "metadata": {},
     "output_type": "display_data"
    },
    {
     "data": {
      "application/vnd.jupyter.widget-view+json": {
       "model_id": "f1e9284e87044f209ea4928d3bfa02f0",
       "version_major": 2,
       "version_minor": 0
      },
      "text/plain": [
       "Output()"
      ]
     },
     "metadata": {},
     "output_type": "display_data"
    },
    {
     "data": {
      "application/vnd.jupyter.widget-view+json": {
       "model_id": "dfabfca0f60943b3a7ad851d678ca08c",
       "version_major": 2,
       "version_minor": 0
      },
      "text/plain": [
       "Output()"
      ]
     },
     "metadata": {},
     "output_type": "display_data"
    },
    {
     "data": {
      "application/vnd.jupyter.widget-view+json": {
       "model_id": "1bea2af01e0345eaaf11fbd99c799a97",
       "version_major": 2,
       "version_minor": 0
      },
      "text/plain": [
       "Output()"
      ]
     },
     "metadata": {},
     "output_type": "display_data"
    },
    {
     "data": {
      "application/vnd.jupyter.widget-view+json": {
       "model_id": "225074af0cf64aa2b95fa4617c783dea",
       "version_major": 2,
       "version_minor": 0
      },
      "text/plain": [
       "Output()"
      ]
     },
     "metadata": {},
     "output_type": "display_data"
    },
    {
     "data": {
      "application/vnd.jupyter.widget-view+json": {
       "model_id": "11161f326cb94027a3c1da9a7f114e6e",
       "version_major": 2,
       "version_minor": 0
      },
      "text/plain": [
       "Output()"
      ]
     },
     "metadata": {},
     "output_type": "display_data"
    },
    {
     "data": {
      "application/vnd.jupyter.widget-view+json": {
       "model_id": "c0402be89c094f318d5083ad5209117c",
       "version_major": 2,
       "version_minor": 0
      },
      "text/plain": [
       "Output()"
      ]
     },
     "metadata": {},
     "output_type": "display_data"
    },
    {
     "data": {
      "application/vnd.jupyter.widget-view+json": {
       "model_id": "d4a023ed0d98433b91a8f3f371d3e0cb",
       "version_major": 2,
       "version_minor": 0
      },
      "text/plain": [
       "Output()"
      ]
     },
     "metadata": {},
     "output_type": "display_data"
    },
    {
     "data": {
      "application/vnd.jupyter.widget-view+json": {
       "model_id": "313a9150c60b44b7af198a5034f9f9dc",
       "version_major": 2,
       "version_minor": 0
      },
      "text/plain": [
       "Output()"
      ]
     },
     "metadata": {},
     "output_type": "display_data"
    },
    {
     "data": {
      "application/vnd.jupyter.widget-view+json": {
       "model_id": "925de68fb198421fbce75fc6f11e7c74",
       "version_major": 2,
       "version_minor": 0
      },
      "text/plain": [
       "Output()"
      ]
     },
     "metadata": {},
     "output_type": "display_data"
    },
    {
     "data": {
      "application/vnd.jupyter.widget-view+json": {
       "model_id": "366e3f6a05a449f5a6951b2f2384604b",
       "version_major": 2,
       "version_minor": 0
      },
      "text/plain": [
       "Output()"
      ]
     },
     "metadata": {},
     "output_type": "display_data"
    },
    {
     "data": {
      "application/vnd.jupyter.widget-view+json": {
       "model_id": "4dc42bc3982544c297a06efd5a88efe7",
       "version_major": 2,
       "version_minor": 0
      },
      "text/plain": [
       "Output()"
      ]
     },
     "metadata": {},
     "output_type": "display_data"
    },
    {
     "name": "stdout",
     "output_type": "stream",
     "text": [
      "modelA_function(0.0 g*(s**-1)) = 0.0 g*(s**-1)\n"
     ]
    },
    {
     "data": {
      "application/vnd.jupyter.widget-view+json": {
       "model_id": "d1e14323372a4ad9ba3ab45766343e08",
       "version_major": 2,
       "version_minor": 0
      },
      "text/plain": [
       "Output()"
      ]
     },
     "metadata": {},
     "output_type": "display_data"
    },
    {
     "name": "stdout",
     "output_type": "stream",
     "text": [
      "modelA_function(1.0 g*(s**-1)) = 1.0 g*(s**-1)\n",
      "modelA_function(2.0 g*(s**-1)) = 2.0 g*(s**-1)\n",
      "modelA_function(3.0 g*(s**-1)) = 3.0 g*(s**-1)\n",
      "modelA_function(4.0 g*(s**-1)) = 4.0 g*(s**-1)\n",
      "modelA_function(5.0 g*(s**-1)) = 5.0 g*(s**-1)\n",
      "modelA_function(0.0 g*(s**-1)) = 0.0 g*(s**-1)\n",
      "modelA_function(1.0 g*(s**-1)) = 1.0 g*(s**-1)\n",
      "modelA_function(2.0 g*(s**-1)) = 2.0 g*(s**-1)\n",
      "modelA_function(3.0 g*(s**-1)) = 3.0 g*(s**-1)\n",
      "modelA_function(4.0 g*(s**-1)) = 4.0 g*(s**-1)\n",
      "modelA_function(5.0 g*(s**-1)) = 5.0 g*(s**-1)\n",
      "modelA_function(0.0 g*(s**-1)) = 0.0 g*(s**-1)\n"
     ]
    },
    {
     "data": {
      "application/vnd.jupyter.widget-view+json": {
       "model_id": "b735b8c4a8b14888a6c5294df0697ae2",
       "version_major": 2,
       "version_minor": 0
      },
      "text/plain": [
       "Output()"
      ]
     },
     "metadata": {},
     "output_type": "display_data"
    },
    {
     "name": "stdout",
     "output_type": "stream",
     "text": [
      "modelA_function(1.0 g*(s**-1)) = 1.0 g*(s**-1)\n",
      "modelA_function(2.0 g*(s**-1)) = 2.0 g*(s**-1)\n",
      "modelA_function(3.0 g*(s**-1)) = 3.0 g*(s**-1)\n",
      "modelA_function(4.0 g*(s**-1)) = 4.0 g*(s**-1)\n",
      "modelA_function(5.0 g*(s**-1)) = 5.0 g*(s**-1)\n",
      "modelA_function(0.0 g*(s**-1)) = 0.0 g*(s**-1)\n",
      "modelA_function(1.0 g*(s**-1)) = 1.0 g*(s**-1)\n",
      "modelA_function(2.0 g*(s**-1)) = 2.0 g*(s**-1)\n",
      "modelA_function(3.0 g*(s**-1)) = 3.0 g*(s**-1)\n",
      "modelA_function(4.0 g*(s**-1)) = 4.0 g*(s**-1)\n",
      "modelA_function(5.0 g*(s**-1)) = 5.0 g*(s**-1)\n",
      "modelA_function(0.0 g*(s**-1)) = 0.0 g*(s**-1)\n",
      "modelA_function(1.0 g*(s**-1)) = 1.0 g*(s**-1)\n",
      "modelA_function(2.0 g*(s**-1)) = 2.0 g*(s**-1)\n",
      "modelA_function(3.0 g*(s**-1)) = 3.0 g*(s**-1)\n",
      "modelA_function(4.0 g*(s**-1)) = 4.0 g*(s**-1)\n",
      "modelA_function(5.0 g*(s**-1)) = 5.0 g*(s**-1)\n"
     ]
    },
    {
     "data": {
      "application/vnd.jupyter.widget-view+json": {
       "model_id": "725dd90a718b4e07991ff72ebdbb603c",
       "version_major": 2,
       "version_minor": 0
      },
      "text/plain": [
       "Output()"
      ]
     },
     "metadata": {},
     "output_type": "display_data"
    },
    {
     "name": "stdout",
     "output_type": "stream",
     "text": [
      "modelA_function(0.0 g*(s**-1)) = 0.0 g*(s**-1)\n",
      "modelA_function(1.0 g*(s**-1)) = 1.0 g*(s**-1)\n",
      "modelA_function(2.0 g*(s**-1)) = 2.0 g*(s**-1)\n",
      "modelA_function(3.0 g*(s**-1)) = 3.0 g*(s**-1)\n",
      "modelA_function(4.0 g*(s**-1)) = 4.0 g*(s**-1)\n",
      "modelA_function(5.0 g*(s**-1)) = 5.0 g*(s**-1)\n",
      "modelA_function(0.0 g*(s**-1)) = 0.0 g*(s**-1)\n",
      "modelA_function(1.0 g*(s**-1)) = 1.0 g*(s**-1)\n"
     ]
    },
    {
     "data": {
      "application/vnd.jupyter.widget-view+json": {
       "model_id": "269f1e18f90e49fa8675201af3ee6a9d",
       "version_major": 2,
       "version_minor": 0
      },
      "text/plain": [
       "Output()"
      ]
     },
     "metadata": {},
     "output_type": "display_data"
    },
    {
     "name": "stdout",
     "output_type": "stream",
     "text": [
      "modelA_function(2.0 g*(s**-1)) = 2.0 g*(s**-1)\n",
      "modelA_function(3.0 g*(s**-1)) = 3.0 g*(s**-1)\n",
      "modelA_function(4.0 g*(s**-1)) = 4.0 g*(s**-1)\n",
      "modelA_function(5.0 g*(s**-1)) = 5.0 g*(s**-1)\n",
      "modelA_function(0.0 g*(s**-1)) = 0.0 g*(s**-1)\n",
      "modelA_function(1.0 g*(s**-1)) = 1.0 g*(s**-1)\n",
      "modelA_function(2.0 g*(s**-1)) = 2.0 g*(s**-1)\n",
      "modelA_function(3.0 g*(s**-1)) = 3.0 g*(s**-1)\n",
      "modelA_function(4.0 g*(s**-1)) = 4.0 g*(s**-1)\n",
      "modelA_function(5.0 g*(s**-1)) = 5.0 g*(s**-1)\n",
      "modelA_function(0.0 g*(s**-1)) = 0.0 g*(s**-1)\n",
      "modelA_function(1.0 g*(s**-1)) = 1.0 g*(s**-1)\n",
      "modelA_function(2.0 g*(s**-1)) = 2.0 g*(s**-1)\n",
      "modelA_function(3.0 g*(s**-1)) = 3.0 g*(s**-1)\n",
      "modelA_function(4.0 g*(s**-1)) = 4.0 g*(s**-1)\n",
      "modelA_function(5.0 g*(s**-1)) = 5.0 g*(s**-1)\n",
      "modelA_function(0.0 g*(s**-1)) = 0.0 g*(s**-1)\n",
      "modelA_function(1.0 g*(s**-1)) = 1.0 g*(s**-1)\n",
      "modelA_function(2.0 g*(s**-1)) = 2.0 g*(s**-1)\n",
      "modelA_function(3.0 g*(s**-1)) = 3.0 g*(s**-1)\n",
      "modelA_function(4.0 g*(s**-1)) = 4.0 g*(s**-1)\n",
      "modelA_function(5.0 g*(s**-1)) = 5.0 g*(s**-1)\n",
      "modelA_function(0.0 g*(s**-1)) = 0.0 g*(s**-1)\n",
      "modelA_function(1.0 g*(s**-1)) = 1.0 g*(s**-1)\n",
      "modelA_function(2.0 g*(s**-1)) = 2.0 g*(s**-1)\n",
      "modelA_function(3.0 g*(s**-1)) = 3.0 g*(s**-1)\n",
      "modelA_function(4.0 g*(s**-1)) = 4.0 g*(s**-1)\n",
      "modelA_function(5.0 g*(s**-1)) = 5.0 g*(s**-1)\n",
      "modelA_function(0.0 g*(s**-1)) = 0.0 g*(s**-1)\n",
      "modelB_function(0.0 g*(s**-1)) = 0.0 g*(s**-1)\n",
      "modelA_function(1.0 g*(s**-1)) = 1.0 g*(s**-1)\n",
      "modelB_function(1.0 g*(s**-1)) = 3.0 g*(s**-1)\n",
      "modelA_function(2.0 g*(s**-1)) = 2.0 g*(s**-1)\n",
      "modelA_function(3.0 g*(s**-1)) = 3.0 g*(s**-1)\n",
      "modelB_function(2.0 g*(s**-1)) = 6.0 g*(s**-1)\n",
      "modelA_function(4.0 g*(s**-1)) = 4.0 g*(s**-1)\n",
      "modelA_function(5.0 g*(s**-1)) = 5.0 g*(s**-1)\n",
      "modelB_function(3.0 g*(s**-1)) = 9.0 g*(s**-1)\n",
      "modelA_function(0.0 g*(s**-1)) = 0.0 g*(s**-1)\n",
      "modelA_function(1.0 g*(s**-1)) = 1.0 g*(s**-1)\n",
      "modelB_function(4.0 g*(s**-1)) = 12.0 g*(s**-1)\n",
      "modelB_function(5.0 g*(s**-1)) = 15.0 g*(s**-1)\n",
      "modelA_function(2.0 g*(s**-1)) = 2.0 g*(s**-1)\n",
      "modelB_function(0.0 g*(s**-1)) = 0.0 g*(s**-1)\n",
      "modelA_function(3.0 g*(s**-1)) = 3.0 g*(s**-1)\n",
      "modelB_function(1.0 g*(s**-1)) = 3.0 g*(s**-1)\n",
      "modelA_function(4.0 g*(s**-1)) = 4.0 g*(s**-1)\n",
      "modelA_function(5.0 g*(s**-1)) = 5.0 g*(s**-1)\n",
      "modelA_function(0.0 g*(s**-1)) = 0.0 g*(s**-1)\n",
      "modelA_function(1.0 g*(s**-1)) = 1.0 g*(s**-1)\n",
      "modelA_function(2.0 g*(s**-1)) = 2.0 g*(s**-1)\n",
      "modelA_function(3.0 g*(s**-1)) = 3.0 g*(s**-1)\n",
      "modelB_function(2.0 g*(s**-1)) = 6.0 g*(s**-1)\n",
      "modelA_function(4.0 g*(s**-1)) = 4.0 g*(s**-1)\n",
      "modelB_function(3.0 g*(s**-1)) = 9.0 g*(s**-1)\n",
      "modelA_function(5.0 g*(s**-1)) = 5.0 g*(s**-1)\n",
      "modelB_function(4.0 g*(s**-1)) = 12.0 g*(s**-1)\n",
      "modelA_function(0.0 g*(s**-1)) = 0.0 g*(s**-1)\n",
      "modelB_function(5.0 g*(s**-1)) = 15.0 g*(s**-1)\n",
      "modelA_function(1.0 g*(s**-1)) = 1.0 g*(s**-1)\n",
      "modelB_function(0.0 g*(s**-1)) = 0.0 g*(s**-1)\n",
      "modelA_function(2.0 g*(s**-1)) = 2.0 g*(s**-1)\n",
      "modelB_function(1.0 g*(s**-1)) = 3.0 g*(s**-1)\n",
      "modelA_function(3.0 g*(s**-1)) = 3.0 g*(s**-1)\n",
      "modelA_function(4.0 g*(s**-1)) = 4.0 g*(s**-1)\n",
      "modelB_function(2.0 g*(s**-1)) = 6.0 g*(s**-1)\n",
      "modelA_function(5.0 g*(s**-1)) = 5.0 g*(s**-1)\n",
      "modelA_function(0.0 g*(s**-1)) = 0.0 g*(s**-1)\n",
      "modelB_function(3.0 g*(s**-1)) = 9.0 g*(s**-1)\n",
      "modelB_function(4.0 g*(s**-1)) = 12.0 g*(s**-1)\n",
      "modelA_function(1.0 g*(s**-1)) = 1.0 g*(s**-1)\n",
      "modelB_function(5.0 g*(s**-1)) = 15.0 g*(s**-1)\n",
      "modelA_function(2.0 g*(s**-1)) = 2.0 g*(s**-1)\n",
      "modelB_function(0.0 g*(s**-1)) = 0.0 g*(s**-1)\n",
      "modelA_function(3.0 g*(s**-1)) = 3.0 g*(s**-1)\n",
      "modelB_function(1.0 g*(s**-1)) = 3.0 g*(s**-1)\n",
      "modelA_function(4.0 g*(s**-1)) = 4.0 g*(s**-1)\n",
      "modelA_function(5.0 g*(s**-1)) = 5.0 g*(s**-1)\n",
      "modelB_function(2.0 g*(s**-1)) = 6.0 g*(s**-1)\n",
      "modelB_function(3.0 g*(s**-1)) = 9.0 g*(s**-1)\n",
      "modelA_function(0.0 g*(s**-1)) = 0.0 g*(s**-1)\n",
      "modelB_function(4.0 g*(s**-1)) = 12.0 g*(s**-1)\n",
      "modelA_function(1.0 g*(s**-1)) = 1.0 g*(s**-1)\n",
      "modelB_function(5.0 g*(s**-1)) = 15.0 g*(s**-1)\n",
      "modelB_function(0.0 g*(s**-1)) = 0.0 g*(s**-1)\n",
      "modelA_function(2.0 g*(s**-1)) = 2.0 g*(s**-1)\n",
      "modelB_function(1.0 g*(s**-1)) = 3.0 g*(s**-1)\n",
      "modelA_function(3.0 g*(s**-1)) = 3.0 g*(s**-1)\n",
      "modelB_function(2.0 g*(s**-1)) = 6.0 g*(s**-1)\n",
      "modelA_function(4.0 g*(s**-1)) = 4.0 g*(s**-1)\n",
      "modelA_function(5.0 g*(s**-1)) = 5.0 g*(s**-1)\n",
      "modelB_function(3.0 g*(s**-1)) = 9.0 g*(s**-1)\n",
      "modelB_function(4.0 g*(s**-1)) = 12.0 g*(s**-1)\n",
      "modelA_function(0.0 g*(s**-1)) = 0.0 g*(s**-1)\n",
      "modelB_function(5.0 g*(s**-1)) = 15.0 g*(s**-1)\n",
      "modelA_function(1.0 g*(s**-1)) = 1.0 g*(s**-1)\n",
      "modelA_function(2.0 g*(s**-1)) = 2.0 g*(s**-1)\n",
      "modelB_function(0.0 g*(s**-1)) = 0.0 g*(s**-1)\n",
      "modelA_function(3.0 g*(s**-1)) = 3.0 g*(s**-1)\n",
      "modelA_function(4.0 g*(s**-1)) = 4.0 g*(s**-1)\n",
      "modelB_function(1.0 g*(s**-1)) = 3.0 g*(s**-1)\n",
      "modelB_function(2.0 g*(s**-1)) = 6.0 g*(s**-1)\n",
      "modelA_function(5.0 g*(s**-1)) = 5.0 g*(s**-1)\n",
      "modelA_function(0.0 g*(s**-1)) = 0.0 g*(s**-1)\n",
      "modelB_function(3.0 g*(s**-1)) = 9.0 g*(s**-1)\n",
      "modelA_function(1.0 g*(s**-1)) = 1.0 g*(s**-1)\n",
      "modelB_function(4.0 g*(s**-1)) = 12.0 g*(s**-1)\n",
      "modelA_function(2.0 g*(s**-1)) = 2.0 g*(s**-1)\n",
      "modelA_function(3.0 g*(s**-1)) = 3.0 g*(s**-1)\n",
      "modelA_function(4.0 g*(s**-1)) = 4.0 g*(s**-1)\n",
      "modelA_function(5.0 g*(s**-1)) = 5.0 g*(s**-1)\n",
      "modelA_function(0.0 g*(s**-1)) = 0.0 g*(s**-1)\n",
      "modelB_function(5.0 g*(s**-1)) = 15.0 g*(s**-1)\n",
      "modelA_function(1.0 g*(s**-1)) = 1.0 g*(s**-1)\n",
      "modelB_function(0.0 g*(s**-1)) = 0.0 g*(s**-1)\n",
      "modelA_function(2.0 g*(s**-1)) = 2.0 g*(s**-1)\n",
      "modelB_function(1.0 g*(s**-1)) = 3.0 g*(s**-1)\n",
      "modelA_function(3.0 g*(s**-1)) = 3.0 g*(s**-1)\n",
      "modelB_function(2.0 g*(s**-1)) = 6.0 g*(s**-1)\n",
      "modelA_function(4.0 g*(s**-1)) = 4.0 g*(s**-1)\n",
      "modelA_function(5.0 g*(s**-1)) = 5.0 g*(s**-1)\n",
      "modelA_function(0.0 g*(s**-1)) = 0.0 g*(s**-1)\n",
      "modelB_function(3.0 g*(s**-1)) = 9.0 g*(s**-1)\n",
      "modelA_function(1.0 g*(s**-1)) = 1.0 g*(s**-1)\n",
      "modelB_function(4.0 g*(s**-1)) = 12.0 g*(s**-1)\n",
      "modelA_function(2.0 g*(s**-1)) = 2.0 g*(s**-1)\n",
      "modelB_function(5.0 g*(s**-1)) = 15.0 g*(s**-1)\n",
      "modelB_function(0.0 g*(s**-1)) = 0.0 g*(s**-1)\n",
      "modelA_function(3.0 g*(s**-1)) = 3.0 g*(s**-1)\n",
      "modelB_function(1.0 g*(s**-1)) = 3.0 g*(s**-1)\n",
      "modelA_function(4.0 g*(s**-1)) = 4.0 g*(s**-1)\n",
      "modelB_function(2.0 g*(s**-1)) = 6.0 g*(s**-1)\n",
      "modelA_function(5.0 g*(s**-1)) = 5.0 g*(s**-1)\n",
      "modelA_function(0.0 g*(s**-1)) = 0.0 g*(s**-1)\n",
      "modelB_function(3.0 g*(s**-1)) = 9.0 g*(s**-1)\n",
      "modelA_function(1.0 g*(s**-1)) = 1.0 g*(s**-1)\n",
      "modelB_function(4.0 g*(s**-1)) = 12.0 g*(s**-1)\n",
      "modelA_function(2.0 g*(s**-1)) = 2.0 g*(s**-1)\n",
      "modelB_function(5.0 g*(s**-1)) = 15.0 g*(s**-1)\n",
      "modelB_function(0.0 g*(s**-1)) = 0.0 g*(s**-1)\n",
      "modelA_function(3.0 g*(s**-1)) = 3.0 g*(s**-1)\n",
      "modelB_function(1.0 g*(s**-1)) = 3.0 g*(s**-1)\n",
      "modelA_function(4.0 g*(s**-1)) = 4.0 g*(s**-1)\n",
      "modelB_function(2.0 g*(s**-1)) = 6.0 g*(s**-1)\n",
      "modelA_function(5.0 g*(s**-1)) = 5.0 g*(s**-1)\n",
      "modelB_function(3.0 g*(s**-1)) = 9.0 g*(s**-1)\n",
      "modelA_function(0.0 g*(s**-1)) = 0.0 g*(s**-1)\n",
      "modelB_function(4.0 g*(s**-1)) = 12.0 g*(s**-1)\n",
      "modelA_function(1.0 g*(s**-1)) = 1.0 g*(s**-1)\n",
      "modelB_function(5.0 g*(s**-1)) = 15.0 g*(s**-1)\n",
      "modelA_function(2.0 g*(s**-1)) = 2.0 g*(s**-1)\n",
      "modelB_function(0.0 g*(s**-1)) = 0.0 g*(s**-1)\n",
      "modelA_function(3.0 g*(s**-1)) = 3.0 g*(s**-1)\n",
      "modelB_function(1.0 g*(s**-1)) = 3.0 g*(s**-1)\n",
      "modelA_function(4.0 g*(s**-1)) = 4.0 g*(s**-1)\n",
      "modelB_function(2.0 g*(s**-1)) = 6.0 g*(s**-1)\n",
      "modelA_function(5.0 g*(s**-1)) = 5.0 g*(s**-1)\n",
      "modelB_function(3.0 g*(s**-1)) = 9.0 g*(s**-1)\n",
      "modelA_function(0.0 g*(s**-1)) = 0.0 g*(s**-1)\n",
      "modelA_function(1.0 g*(s**-1)) = 1.0 g*(s**-1)\n",
      "modelB_function(4.0 g*(s**-1)) = 12.0 g*(s**-1)\n",
      "modelA_function(2.0 g*(s**-1)) = 2.0 g*(s**-1)\n",
      "modelB_function(5.0 g*(s**-1)) = 15.0 g*(s**-1)\n",
      "modelA_function(3.0 g*(s**-1)) = 3.0 g*(s**-1)\n",
      "modelB_function(0.0 g*(s**-1)) = 0.0 g*(s**-1)\n",
      "modelA_function(4.0 g*(s**-1)) = 4.0 g*(s**-1)\n",
      "modelB_function(1.0 g*(s**-1)) = 3.0 g*(s**-1)\n",
      "modelA_function(5.0 g*(s**-1)) = 5.0 g*(s**-1)\n",
      "modelB_function(2.0 g*(s**-1)) = 6.0 g*(s**-1)\n",
      "modelA_function(0.0 g*(s**-1)) = 0.0 g*(s**-1)\n",
      "modelB_function(3.0 g*(s**-1)) = 9.0 g*(s**-1)\n",
      "modelA_function(1.0 g*(s**-1)) = 1.0 g*(s**-1)\n",
      "modelB_function(4.0 g*(s**-1)) = 12.0 g*(s**-1)\n",
      "modelA_function(2.0 g*(s**-1)) = 2.0 g*(s**-1)\n",
      "modelB_function(5.0 g*(s**-1)) = 15.0 g*(s**-1)\n",
      "modelB_function(0.0 g*(s**-1)) = 0.0 g*(s**-1)\n",
      "modelA_function(3.0 g*(s**-1)) = 3.0 g*(s**-1)\n",
      "modelB_function(1.0 g*(s**-1)) = 3.0 g*(s**-1)\n",
      "modelA_function(4.0 g*(s**-1)) = 4.0 g*(s**-1)\n",
      "modelB_function(2.0 g*(s**-1)) = 6.0 g*(s**-1)\n",
      "modelA_function(5.0 g*(s**-1)) = 5.0 g*(s**-1)\n",
      "modelB_function(3.0 g*(s**-1)) = 9.0 g*(s**-1)\n",
      "modelA_function(0.0 g*(s**-1)) = 0.0 g*(s**-1)\n",
      "modelB_function(4.0 g*(s**-1)) = 12.0 g*(s**-1)\n",
      "modelA_function(1.0 g*(s**-1)) = 1.0 g*(s**-1)\n",
      "modelB_function(5.0 g*(s**-1)) = 15.0 g*(s**-1)\n",
      "modelA_function(2.0 g*(s**-1)) = 2.0 g*(s**-1)\n",
      "modelB_function(0.0 g*(s**-1)) = 0.0 g*(s**-1)\n",
      "modelA_function(3.0 g*(s**-1)) = 3.0 g*(s**-1)\n",
      "modelB_function(1.0 g*(s**-1)) = 3.0 g*(s**-1)\n",
      "modelA_function(4.0 g*(s**-1)) = 4.0 g*(s**-1)\n",
      "modelB_function(2.0 g*(s**-1)) = 6.0 g*(s**-1)\n",
      "modelA_function(5.0 g*(s**-1)) = 5.0 g*(s**-1)\n",
      "modelB_function(3.0 g*(s**-1)) = 9.0 g*(s**-1)\n",
      "modelB_function(4.0 g*(s**-1)) = 12.0 g*(s**-1)\n",
      "modelA_function(0.0 g*(s**-1)) = 0.0 g*(s**-1)\n",
      "modelA_function(1.0 g*(s**-1)) = 1.0 g*(s**-1)\n",
      "modelB_function(5.0 g*(s**-1)) = 15.0 g*(s**-1)\n",
      "modelA_function(2.0 g*(s**-1)) = 2.0 g*(s**-1)\n",
      "modelB_function(0.0 g*(s**-1)) = 0.0 g*(s**-1)\n",
      "modelA_function(3.0 g*(s**-1)) = 3.0 g*(s**-1)\n",
      "modelB_function(1.0 g*(s**-1)) = 3.0 g*(s**-1)\n",
      "modelA_function(4.0 g*(s**-1)) = 4.0 g*(s**-1)\n",
      "modelB_function(2.0 g*(s**-1)) = 6.0 g*(s**-1)\n",
      "modelA_function(5.0 g*(s**-1)) = 5.0 g*(s**-1)\n",
      "modelB_function(3.0 g*(s**-1)) = 9.0 g*(s**-1)\n",
      "modelB_function(4.0 g*(s**-1)) = 12.0 g*(s**-1)\n",
      "modelA_function(0.0 g*(s**-1)) = 0.0 g*(s**-1)\n",
      "modelB_function(5.0 g*(s**-1)) = 15.0 g*(s**-1)\n",
      "modelA_function(1.0 g*(s**-1)) = 1.0 g*(s**-1)\n",
      "modelB_function(0.0 g*(s**-1)) = 0.0 g*(s**-1)\n",
      "modelA_function(2.0 g*(s**-1)) = 2.0 g*(s**-1)\n",
      "modelB_function(1.0 g*(s**-1)) = 3.0 g*(s**-1)\n",
      "modelA_function(3.0 g*(s**-1)) = 3.0 g*(s**-1)\n",
      "modelB_function(2.0 g*(s**-1)) = 6.0 g*(s**-1)\n",
      "modelA_function(4.0 g*(s**-1)) = 4.0 g*(s**-1)\n",
      "modelB_function(3.0 g*(s**-1)) = 9.0 g*(s**-1)\n",
      "modelA_function(5.0 g*(s**-1)) = 5.0 g*(s**-1)\n",
      "modelB_function(4.0 g*(s**-1)) = 12.0 g*(s**-1)\n",
      "modelA_function(0.0 g*(s**-1)) = 0.0 g*(s**-1)\n",
      "modelB_function(5.0 g*(s**-1)) = 15.0 g*(s**-1)\n",
      "modelA_function(1.0 g*(s**-1)) = 1.0 g*(s**-1)\n",
      "modelB_function(0.0 g*(s**-1)) = 0.0 g*(s**-1)\n",
      "modelB_function(1.0 g*(s**-1)) = 3.0 g*(s**-1)\n",
      "modelA_function(2.0 g*(s**-1)) = 2.0 g*(s**-1)\n",
      "modelB_function(2.0 g*(s**-1)) = 6.0 g*(s**-1)\n",
      "modelA_function(3.0 g*(s**-1)) = 3.0 g*(s**-1)\n",
      "modelB_function(3.0 g*(s**-1)) = 9.0 g*(s**-1)\n",
      "modelA_function(4.0 g*(s**-1)) = 4.0 g*(s**-1)\n",
      "modelA_function(5.0 g*(s**-1)) = 5.0 g*(s**-1)\n",
      "modelB_function(4.0 g*(s**-1)) = 12.0 g*(s**-1)\n",
      "modelA_function(0.0 g*(s**-1)) = 0.0 g*(s**-1)\n",
      "modelB_function(5.0 g*(s**-1)) = 15.0 g*(s**-1)\n",
      "modelA_function(1.0 g*(s**-1)) = 1.0 g*(s**-1)\n",
      "modelB_function(0.0 g*(s**-1)) = 0.0 g*(s**-1)\n",
      "modelA_function(2.0 g*(s**-1)) = 2.0 g*(s**-1)\n",
      "modelB_function(1.0 g*(s**-1)) = 3.0 g*(s**-1)\n",
      "modelA_function(3.0 g*(s**-1)) = 3.0 g*(s**-1)\n",
      "modelB_function(2.0 g*(s**-1)) = 6.0 g*(s**-1)\n",
      "modelA_function(4.0 g*(s**-1)) = 4.0 g*(s**-1)\n",
      "modelB_function(3.0 g*(s**-1)) = 9.0 g*(s**-1)\n",
      "modelB_function(4.0 g*(s**-1)) = 12.0 g*(s**-1)\n",
      "modelA_function(5.0 g*(s**-1)) = 5.0 g*(s**-1)\n",
      "modelB_function(5.0 g*(s**-1)) = 15.0 g*(s**-1)\n",
      "modelA_function(0.0 g*(s**-1)) = 0.0 g*(s**-1)\n",
      "modelB_function(0.0 g*(s**-1)) = 0.0 g*(s**-1)\n",
      "modelA_function(1.0 g*(s**-1)) = 1.0 g*(s**-1)\n",
      "modelB_function(1.0 g*(s**-1)) = 3.0 g*(s**-1)\n",
      "modelA_function(2.0 g*(s**-1)) = 2.0 g*(s**-1)\n",
      "modelB_function(2.0 g*(s**-1)) = 6.0 g*(s**-1)\n",
      "modelA_function(3.0 g*(s**-1)) = 3.0 g*(s**-1)\n",
      "modelB_function(3.0 g*(s**-1)) = 9.0 g*(s**-1)\n",
      "modelA_function(4.0 g*(s**-1)) = 4.0 g*(s**-1)\n",
      "modelB_function(4.0 g*(s**-1)) = 12.0 g*(s**-1)\n",
      "modelA_function(5.0 g*(s**-1)) = 5.0 g*(s**-1)\n",
      "modelB_function(5.0 g*(s**-1)) = 15.0 g*(s**-1)\n",
      "modelA_function(0.0 g*(s**-1)) = 0.0 g*(s**-1)\n",
      "modelB_function(0.0 g*(s**-1)) = 0.0 g*(s**-1)\n",
      "modelA_function(1.0 g*(s**-1)) = 1.0 g*(s**-1)\n",
      "modelB_function(1.0 g*(s**-1)) = 3.0 g*(s**-1)\n",
      "modelA_function(2.0 g*(s**-1)) = 2.0 g*(s**-1)\n",
      "modelB_function(2.0 g*(s**-1)) = 6.0 g*(s**-1)\n",
      "modelB_function(3.0 g*(s**-1)) = 9.0 g*(s**-1)\n",
      "modelA_function(3.0 g*(s**-1)) = 3.0 g*(s**-1)\n",
      "modelB_function(4.0 g*(s**-1)) = 12.0 g*(s**-1)\n",
      "modelA_function(4.0 g*(s**-1)) = 4.0 g*(s**-1)\n",
      "modelB_function(5.0 g*(s**-1)) = 15.0 g*(s**-1)\n",
      "modelA_function(5.0 g*(s**-1)) = 5.0 g*(s**-1)\n",
      "modelB_function(0.0 g*(s**-1)) = 0.0 g*(s**-1)\n",
      "modelA_function(0.0 g*(s**-1)) = 0.0 g*(s**-1)\n",
      "modelB_function(1.0 g*(s**-1)) = 3.0 g*(s**-1)\n",
      "modelA_function(1.0 g*(s**-1)) = 1.0 g*(s**-1)\n",
      "modelB_function(2.0 g*(s**-1)) = 6.0 g*(s**-1)\n",
      "modelA_function(2.0 g*(s**-1)) = 2.0 g*(s**-1)\n",
      "modelB_function(3.0 g*(s**-1)) = 9.0 g*(s**-1)\n",
      "modelA_function(3.0 g*(s**-1)) = 3.0 g*(s**-1)\n",
      "modelB_function(4.0 g*(s**-1)) = 12.0 g*(s**-1)\n",
      "modelA_function(4.0 g*(s**-1)) = 4.0 g*(s**-1)\n",
      "modelB_function(5.0 g*(s**-1)) = 15.0 g*(s**-1)\n",
      "modelA_function(5.0 g*(s**-1)) = 5.0 g*(s**-1)\n",
      "modelB_function(0.0 g*(s**-1)) = 0.0 g*(s**-1)\n",
      "modelA_function(0.0 g*(s**-1)) = 0.0 g*(s**-1)\n",
      "modelB_function(1.0 g*(s**-1)) = 3.0 g*(s**-1)\n",
      "modelA_function(1.0 g*(s**-1)) = 1.0 g*(s**-1)\n",
      "modelB_function(2.0 g*(s**-1)) = 6.0 g*(s**-1)\n",
      "modelA_function(2.0 g*(s**-1)) = 2.0 g*(s**-1)\n",
      "modelA_function(3.0 g*(s**-1)) = 3.0 g*(s**-1)\n",
      "modelB_function(3.0 g*(s**-1)) = 9.0 g*(s**-1)\n",
      "modelA_function(4.0 g*(s**-1)) = 4.0 g*(s**-1)\n",
      "modelB_function(4.0 g*(s**-1)) = 12.0 g*(s**-1)\n",
      "modelA_function(5.0 g*(s**-1)) = 5.0 g*(s**-1)\n",
      "modelB_function(5.0 g*(s**-1)) = 15.0 g*(s**-1)\n",
      "modelA_function(0.0 g*(s**-1)) = 0.0 g*(s**-1)\n",
      "modelB_function(0.0 g*(s**-1)) = 0.0 g*(s**-1)\n",
      "modelA_function(1.0 g*(s**-1)) = 1.0 g*(s**-1)\n",
      "modelB_function(1.0 g*(s**-1)) = 3.0 g*(s**-1)\n",
      "modelB_function(2.0 g*(s**-1)) = 6.0 g*(s**-1)\n",
      "modelA_function(2.0 g*(s**-1)) = 2.0 g*(s**-1)\n",
      "modelB_function(3.0 g*(s**-1)) = 9.0 g*(s**-1)\n",
      "modelA_function(3.0 g*(s**-1)) = 3.0 g*(s**-1)\n",
      "modelB_function(4.0 g*(s**-1)) = 12.0 g*(s**-1)\n",
      "modelA_function(4.0 g*(s**-1)) = 4.0 g*(s**-1)\n",
      "modelB_function(5.0 g*(s**-1)) = 15.0 g*(s**-1)\n",
      "modelA_function(5.0 g*(s**-1)) = 5.0 g*(s**-1)\n",
      "modelB_function(0.0 g*(s**-1)) = 0.0 g*(s**-1)\n",
      "modelA_function(0.0 g*(s**-1)) = 0.0 g*(s**-1)\n",
      "modelA_function(1.0 g*(s**-1)) = 1.0 g*(s**-1)\n",
      "modelB_function(1.0 g*(s**-1)) = 3.0 g*(s**-1)\n",
      "modelB_function(2.0 g*(s**-1)) = 6.0 g*(s**-1)\n",
      "modelA_function(2.0 g*(s**-1)) = 2.0 g*(s**-1)\n",
      "modelA_function(3.0 g*(s**-1)) = 3.0 g*(s**-1)\n",
      "modelB_function(3.0 g*(s**-1)) = 9.0 g*(s**-1)\n",
      "modelA_function(4.0 g*(s**-1)) = 4.0 g*(s**-1)\n",
      "modelB_function(4.0 g*(s**-1)) = 12.0 g*(s**-1)\n",
      "modelA_function(5.0 g*(s**-1)) = 5.0 g*(s**-1)\n",
      "modelB_function(5.0 g*(s**-1)) = 15.0 g*(s**-1)\n",
      "modelA_function(0.0 g*(s**-1)) = 0.0 g*(s**-1)\n",
      "modelB_function(0.0 g*(s**-1)) = 0.0 g*(s**-1)\n",
      "modelA_function(1.0 g*(s**-1)) = 1.0 g*(s**-1)\n",
      "modelB_function(1.0 g*(s**-1)) = 3.0 g*(s**-1)\n",
      "modelB_function(2.0 g*(s**-1)) = 6.0 g*(s**-1)\n",
      "modelA_function(2.0 g*(s**-1)) = 2.0 g*(s**-1)\n",
      "modelB_function(3.0 g*(s**-1)) = 9.0 g*(s**-1)\n",
      "modelA_function(3.0 g*(s**-1)) = 3.0 g*(s**-1)\n",
      "modelB_function(4.0 g*(s**-1)) = 12.0 g*(s**-1)\n",
      "modelA_function(4.0 g*(s**-1)) = 4.0 g*(s**-1)\n",
      "modelB_function(5.0 g*(s**-1)) = 15.0 g*(s**-1)\n",
      "modelA_function(5.0 g*(s**-1)) = 5.0 g*(s**-1)\n",
      "modelB_function(0.0 g*(s**-1)) = 0.0 g*(s**-1)\n",
      "modelA_function(0.0 g*(s**-1)) = 0.0 g*(s**-1)\n",
      "modelB_function(1.0 g*(s**-1)) = 3.0 g*(s**-1)\n",
      "modelA_function(1.0 g*(s**-1)) = 1.0 g*(s**-1)\n",
      "modelB_function(2.0 g*(s**-1)) = 6.0 g*(s**-1)\n",
      "modelA_function(2.0 g*(s**-1)) = 2.0 g*(s**-1)\n",
      "modelB_function(3.0 g*(s**-1)) = 9.0 g*(s**-1)\n",
      "modelA_function(3.0 g*(s**-1)) = 3.0 g*(s**-1)\n",
      "modelB_function(4.0 g*(s**-1)) = 12.0 g*(s**-1)\n",
      "modelA_function(4.0 g*(s**-1)) = 4.0 g*(s**-1)\n",
      "modelB_function(5.0 g*(s**-1)) = 15.0 g*(s**-1)\n",
      "modelA_function(5.0 g*(s**-1)) = 5.0 g*(s**-1)\n",
      "modelB_function(0.0 g*(s**-1)) = 0.0 g*(s**-1)\n",
      "modelA_function(0.0 g*(s**-1)) = 0.0 g*(s**-1)\n",
      "modelB_function(1.0 g*(s**-1)) = 3.0 g*(s**-1)\n",
      "modelA_function(1.0 g*(s**-1)) = 1.0 g*(s**-1)\n",
      "modelB_function(2.0 g*(s**-1)) = 6.0 g*(s**-1)\n",
      "modelB_function(3.0 g*(s**-1)) = 9.0 g*(s**-1)\n",
      "modelA_function(2.0 g*(s**-1)) = 2.0 g*(s**-1)\n",
      "modelB_function(4.0 g*(s**-1)) = 12.0 g*(s**-1)\n",
      "modelA_function(3.0 g*(s**-1)) = 3.0 g*(s**-1)\n",
      "modelA_function(4.0 g*(s**-1)) = 4.0 g*(s**-1)\n",
      "modelB_function(5.0 g*(s**-1)) = 15.0 g*(s**-1)\n",
      "modelA_function(5.0 g*(s**-1)) = 5.0 g*(s**-1)\n",
      "modelB_function(0.0 g*(s**-1)) = 0.0 g*(s**-1)\n",
      "modelB_function(1.0 g*(s**-1)) = 3.0 g*(s**-1)\n",
      "modelA_function(0.0 g*(s**-1)) = 0.0 g*(s**-1)\n",
      "modelB_function(2.0 g*(s**-1)) = 6.0 g*(s**-1)\n",
      "modelA_function(1.0 g*(s**-1)) = 1.0 g*(s**-1)\n",
      "modelB_function(3.0 g*(s**-1)) = 9.0 g*(s**-1)\n",
      "modelB_function(4.0 g*(s**-1)) = 12.0 g*(s**-1)\n",
      "modelA_function(2.0 g*(s**-1)) = 2.0 g*(s**-1)\n",
      "modelB_function(5.0 g*(s**-1)) = 15.0 g*(s**-1)\n",
      "modelA_function(3.0 g*(s**-1)) = 3.0 g*(s**-1)\n",
      "modelB_function(0.0 g*(s**-1)) = 0.0 g*(s**-1)\n",
      "modelA_function(4.0 g*(s**-1)) = 4.0 g*(s**-1)\n",
      "modelA_function(5.0 g*(s**-1)) = 5.0 g*(s**-1)\n",
      "modelB_function(1.0 g*(s**-1)) = 3.0 g*(s**-1)\n",
      "modelB_function(2.0 g*(s**-1)) = 6.0 g*(s**-1)\n",
      "End of input from in_val.\n",
      "modelB_function(3.0 g*(s**-1)) = 9.0 g*(s**-1)\n",
      "modelB_function(4.0 g*(s**-1)) = 12.0 g*(s**-1)\n",
      "modelB_function(5.0 g*(s**-1)) = 15.0 g*(s**-1)\n",
      "modelB_function(0.0 g*(s**-1)) = 0.0 g*(s**-1)\n",
      "modelB_function(1.0 g*(s**-1)) = 3.0 g*(s**-1)\n",
      "modelB_function(2.0 g*(s**-1)) = 6.0 g*(s**-1)\n",
      "modelB_function(3.0 g*(s**-1)) = 9.0 g*(s**-1)\n",
      "modelB_function(4.0 g*(s**-1)) = 12.0 g*(s**-1)\n",
      "modelB_function(5.0 g*(s**-1)) = 15.0 g*(s**-1)\n",
      "modelB_function(0.0 g*(s**-1)) = 0.0 g*(s**-1)\n",
      "modelB_function(1.0 g*(s**-1)) = 3.0 g*(s**-1)\n",
      "modelB_function(2.0 g*(s**-1)) = 6.0 g*(s**-1)\n",
      "modelB_function(3.0 g*(s**-1)) = 9.0 g*(s**-1)\n",
      "modelB_function(4.0 g*(s**-1)) = 12.0 g*(s**-1)\n",
      "modelB_function(5.0 g*(s**-1)) = 15.0 g*(s**-1)\n",
      "modelB_function(0.0 g*(s**-1)) = 0.0 g*(s**-1)\n",
      "modelB_function(1.0 g*(s**-1)) = 3.0 g*(s**-1)\n",
      "modelB_function(2.0 g*(s**-1)) = 6.0 g*(s**-1)\n",
      "modelB_function(3.0 g*(s**-1)) = 9.0 g*(s**-1)\n",
      "modelB_function(4.0 g*(s**-1)) = 12.0 g*(s**-1)\n",
      "modelB_function(5.0 g*(s**-1)) = 15.0 g*(s**-1)\n",
      "modelB_function(0.0 g*(s**-1)) = 0.0 g*(s**-1)\n",
      "modelB_function(1.0 g*(s**-1)) = 3.0 g*(s**-1)\n",
      "modelB_function(2.0 g*(s**-1)) = 6.0 g*(s**-1)\n",
      "modelB_function(3.0 g*(s**-1)) = 9.0 g*(s**-1)\n",
      "modelB_function(4.0 g*(s**-1)) = 12.0 g*(s**-1)\n",
      "modelB_function(5.0 g*(s**-1)) = 15.0 g*(s**-1)\n",
      "modelB_function(0.0 g*(s**-1)) = 0.0 g*(s**-1)\n",
      "modelB_function(1.0 g*(s**-1)) = 3.0 g*(s**-1)\n",
      "modelB_function(2.0 g*(s**-1)) = 6.0 g*(s**-1)\n",
      "modelB_function(3.0 g*(s**-1)) = 9.0 g*(s**-1)\n",
      "modelB_function(4.0 g*(s**-1)) = 12.0 g*(s**-1)\n",
      "modelB_function(5.0 g*(s**-1)) = 15.0 g*(s**-1)\n",
      "modelB_function(0.0 g*(s**-1)) = 0.0 g*(s**-1)\n",
      "modelB_function(1.0 g*(s**-1)) = 3.0 g*(s**-1)\n",
      "modelB_function(2.0 g*(s**-1)) = 6.0 g*(s**-1)\n",
      "modelB_function(3.0 g*(s**-1)) = 9.0 g*(s**-1)\n",
      "modelB_function(4.0 g*(s**-1)) = 12.0 g*(s**-1)\n",
      "modelB_function(5.0 g*(s**-1)) = 15.0 g*(s**-1)\n",
      "modelB_function(0.0 g*(s**-1)) = 0.0 g*(s**-1)\n",
      "modelB_function(1.0 g*(s**-1)) = 3.0 g*(s**-1)\n",
      "modelB_function(2.0 g*(s**-1)) = 6.0 g*(s**-1)\n",
      "modelB_function(3.0 g*(s**-1)) = 9.0 g*(s**-1)\n",
      "modelB_function(4.0 g*(s**-1)) = 12.0 g*(s**-1)\n",
      "modelB_function(5.0 g*(s**-1)) = 15.0 g*(s**-1)\n",
      "modelB_function(0.0 g*(s**-1)) = 0.0 g*(s**-1)\n",
      "modelB_function(1.0 g*(s**-1)) = 3.0 g*(s**-1)\n",
      "modelB_function(2.0 g*(s**-1)) = 6.0 g*(s**-1)\n",
      "modelB_function(3.0 g*(s**-1)) = 9.0 g*(s**-1)\n",
      "modelB_function(4.0 g*(s**-1)) = 12.0 g*(s**-1)\n",
      "modelB_function(5.0 g*(s**-1)) = 15.0 g*(s**-1)\n",
      "modelB_function(0.0 g*(s**-1)) = 0.0 g*(s**-1)\n",
      "modelB_function(1.0 g*(s**-1)) = 3.0 g*(s**-1)\n",
      "modelB_function(2.0 g*(s**-1)) = 6.0 g*(s**-1)\n",
      "modelB_function(3.0 g*(s**-1)) = 9.0 g*(s**-1)\n",
      "modelB_function(4.0 g*(s**-1)) = 12.0 g*(s**-1)\n",
      "modelB_function(5.0 g*(s**-1)) = 15.0 g*(s**-1)\n",
      "modelB_function(0.0 g*(s**-1)) = 0.0 g*(s**-1)\n",
      "modelB_function(1.0 g*(s**-1)) = 3.0 g*(s**-1)\n",
      "modelB_function(2.0 g*(s**-1)) = 6.0 g*(s**-1)\n",
      "modelB_function(3.0 g*(s**-1)) = 9.0 g*(s**-1)\n",
      "modelB_function(4.0 g*(s**-1)) = 12.0 g*(s**-1)\n",
      "modelB_function(5.0 g*(s**-1)) = 15.0 g*(s**-1)\n",
      "modelB_function(0.0 g*(s**-1)) = 0.0 g*(s**-1)\n",
      "modelB_function(1.0 g*(s**-1)) = 3.0 g*(s**-1)\n",
      "modelB_function(2.0 g*(s**-1)) = 6.0 g*(s**-1)\n",
      "modelB_function(3.0 g*(s**-1)) = 9.0 g*(s**-1)\n",
      "modelB_function(4.0 g*(s**-1)) = 12.0 g*(s**-1)\n",
      "modelB_function(5.0 g*(s**-1)) = 15.0 g*(s**-1)\n",
      "modelB_function(0.0 g*(s**-1)) = 0.0 g*(s**-1)\n",
      "modelB_function(1.0 g*(s**-1)) = 3.0 g*(s**-1)\n",
      "modelB_function(2.0 g*(s**-1)) = 6.0 g*(s**-1)\n",
      "modelB_function(3.0 g*(s**-1)) = 9.0 g*(s**-1)\n",
      "modelB_function(4.0 g*(s**-1)) = 12.0 g*(s**-1)\n",
      "modelB_function(5.0 g*(s**-1)) = 15.0 g*(s**-1)\n",
      "End of input from in_val.\n",
      "INFO:1434:runner.waitModels[886]:YggRunner(runner): python_modelA finished running.\n",
      "INFO:1434:runner.waitModels[892]:YggRunner(runner): python_modelA finished exiting.\n",
      "INFO:1434:runner.waitModels[886]:YggRunner(runner): python_modelB finished running.\n",
      "INFO:1434:runner.waitModels[892]:YggRunner(runner): python_modelB finished exiting.\n",
      "INFO:1434:runner.waitModels[906]:YggRunner(runner): All models completed\n",
      "INFO:1434:runner.run[465]:YggRunner(runner):                 init\t0.000001\n",
      "INFO:1434:runner.run[465]:YggRunner(runner):         load drivers\t1.003217\n",
      "INFO:1434:runner.run[465]:YggRunner(runner):        start drivers\t0.079260\n",
      "INFO:1434:runner.run[465]:YggRunner(runner):           run models\t4.584613\n",
      "INFO:1434:runner.run[465]:YggRunner(runner):              at exit\t0.045160\n",
      "INFO:1434:runner.run[467]:YggRunner(runner): ========================================\n",
      "INFO:1434:runner.run[468]:YggRunner(runner):                Total\t5.712251\n"
     ]
    }
   ],
   "source": [
    "run(callback)"
   ]
  }
 ],
 "metadata": {
  "kernelspec": {
   "display_name": "Python 3 (ipykernel)",
   "language": "python",
   "name": "python3"
  },
  "language_info": {
   "codemirror_mode": {
    "name": "ipython",
    "version": 3
   },
   "file_extension": ".py",
   "mimetype": "text/x-python",
   "name": "python",
   "nbconvert_exporter": "python",
   "pygments_lexer": "ipython3",
   "version": "3.10.12"
  }
 },
 "nbformat": 4,
 "nbformat_minor": 5
}
