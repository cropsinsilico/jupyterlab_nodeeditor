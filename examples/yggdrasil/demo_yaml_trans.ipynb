{
 "cells": [
  {
   "cell_type": "markdown",
   "id": "039f2b58-2572-46f2-af6c-579f82636243",
   "metadata": {},
   "source": [
    "## Preparation"
   ]
  },
  {
   "cell_type": "markdown",
   "id": "2c6a3cab-8a21-4016-897f-ab4a80c9f641",
   "metadata": {},
   "source": [
    "To run this notebook, you need to download all required files from https://github.com/cropsinsilico/yggdrasil/tree/main/yggdrasil/examples/fakeplant. \n",
    "```\n",
    ".\n",
    "├── Input\n",
    "│   ├── ambient_light.txt\n",
    "│   ├── canopy_structure.txt\n",
    "│   ├── co2.txt\n",
    "│   ├── growth_rate.txt\n",
    "│   ├── light_intensity.txt\n",
    "│   ├── photosynthesis_rate.txt\n",
    "│   ├── plant_layout.txt\n",
    "│   ├── temperature.txt\n",
    "│   └── time.txt\n",
    "├── Output\n",
    "│   ├── canopy_structure.txt\n",
    "│   ├── co2.txt\n",
    "│   ├── growth_rate.txt\n",
    "│   ├── light_intensity.txt\n",
    "│   └── photosynthesis_rate.txt\n",
    "├── src\n",
    "│   ├── canopy.cpp\n",
    "│   ├── growth.py\n",
    "│   ├── light.c\n",
    "│   └── photosynthesis.py\n",
    "└── yamls\n",
    "    ├── canopy.yml\n",
    "    ├── growth.yml\n",
    "    ├── light.yml\n",
    "    └── photosynthesis.yml"
   ]
  },
  {
   "cell_type": "code",
   "execution_count": 1,
   "id": "89bf320b-3577-4652-a6ce-0f522c1ada51",
   "metadata": {},
   "outputs": [],
   "source": [
    "import jupyterlab_nodeeditor as jlne"
   ]
  },
  {
   "cell_type": "code",
   "execution_count": 2,
   "id": "80fae6c8-bae0-47b6-9d68-2ca678f3d8f9",
   "metadata": {},
   "outputs": [],
   "source": [
    "growth = \"./yamls/growth.yml\"\n",
    "light = \"./yamls/light.yml\"\n",
    "canopy = \"./yamls/canopy.yml\"\n",
    "photosynthesis = \"./yamls/photosynthesis.yml\""
   ]
  },
  {
   "cell_type": "markdown",
   "id": "14981871-443b-4df9-aad0-639176d14b8d",
   "metadata": {},
   "source": [
    "## Workspace"
   ]
  },
  {
   "cell_type": "code",
   "execution_count": 3,
   "id": "3c12c8a2-010c-4497-8a7a-7006a14c4c96",
   "metadata": {
    "tags": []
   },
   "outputs": [
    {
     "data": {
      "application/vnd.jupyter.widget-view+json": {
       "model_id": "f9d8a68bea8d40c39cb515fbe39f738b",
       "version_major": 2,
       "version_minor": 0
      },
      "text/plain": [
       "AppLayout(children=(Label(value='Node Editor', layout=Layout(grid_area='header')), Accordion(layout=Layout(gri…"
      ]
     },
     "metadata": {},
     "output_type": "display_data"
    }
   ],
   "source": [
    "editor = jlne.yml_trans([growth, canopy,light,photosynthesis])\n",
    "editor"
   ]
  },
  {
   "cell_type": "markdown",
   "id": "527041fc-f938-439d-a106-158bd23a568b",
   "metadata": {
    "tags": []
   },
   "source": [
    "## Export the YAML file"
   ]
  },
  {
   "cell_type": "code",
   "execution_count": 4,
   "id": "e8dc9715-80bf-4321-bf7d-655f02e59bd0",
   "metadata": {},
   "outputs": [],
   "source": [
    "jlne.editor_yaml(editor, \"./export_test.yml\")"
   ]
  },
  {
   "cell_type": "markdown",
   "id": "c0058cf8-ac27-4ff9-974c-c90fdf580b1e",
   "metadata": {},
   "source": [
    "## Import Test"
   ]
  },
  {
   "cell_type": "code",
   "execution_count": 5,
   "id": "262c374a-9963-41b5-aebc-39d1dedf059f",
   "metadata": {},
   "outputs": [],
   "source": [
    "export_test = \"./export_test.yml\""
   ]
  },
  {
   "cell_type": "code",
   "execution_count": 6,
   "id": "903cb0b8-dc8d-4b3a-bee1-3af4d2296771",
   "metadata": {},
   "outputs": [
    {
     "data": {
      "application/vnd.jupyter.widget-view+json": {
       "model_id": "ee0c7b5531d0483995aa3b2e281085ba",
       "version_major": 2,
       "version_minor": 0
      },
      "text/plain": [
       "AppLayout(children=(Label(value='Node Editor', layout=Layout(grid_area='header')), Accordion(children=(VBox(ch…"
      ]
     },
     "metadata": {},
     "output_type": "display_data"
    }
   ],
   "source": [
    "editor_test = jlne.yml_trans(export_test, show_instance=True)\n",
    "editor_test"
   ]
  },
  {
   "cell_type": "code",
   "execution_count": 7,
   "id": "4ad226c1-1f25-4d85-81b9-b008ab0d6f74",
   "metadata": {},
   "outputs": [],
   "source": [
    "editor_test.node_editor.send({\"name\": \"arrangeNodes\"})"
   ]
  },
  {
   "cell_type": "markdown",
   "id": "c999d0b2-1504-4ec2-bc02-4c50e98bfc62",
   "metadata": {},
   "source": [
    "## Run the Generate YAML"
   ]
  },
  {
   "cell_type": "code",
   "execution_count": 8,
   "id": "6c78b56a-8759-48d2-b758-5731addb6032",
   "metadata": {},
   "outputs": [],
   "source": [
    "from yggdrasil import tools\n",
    "from yggdrasil.runner import run"
   ]
  },
  {
   "cell_type": "code",
   "execution_count": 9,
   "id": "091fea36-5597-45d4-b48f-f90f183b67eb",
   "metadata": {},
   "outputs": [
    {
     "name": "stdout",
     "output_type": "stream",
     "text": [
      "INFO:27939:runner.startDrivers[816]:YggRunner(runner): Starting I/O drivers and models on system wirelessprv-10-194-203-147.near.illinois.edu in namespace yggdrasil with rank 0\n",
      "/Users/yilinxia/opt/miniconda3/envs/jlne_threejs/bin/python /Users/yilinxia/jupyterlab_nodeeditor/examples/yggdrasil/src/growth.py\n",
      "/Users/yilinxia/jupyterlab_nodeeditor/examples/yggdrasil/src/canopy_cpp_CanopyModel_clang++x_clang++x.out\n",
      "/Users/yilinxia/jupyterlab_nodeeditor/examples/yggdrasil/src/light_c_LightModel_clangx_clang++x.out\n",
      "/Users/yilinxia/opt/miniconda3/envs/jlne_threejs/bin/python /Users/yilinxia/jupyterlab_nodeeditor/examples/yggdrasil/src/photosynthesis.py\n",
      "photosynthesis: T = 35.000000\n",
      "photosynthesis: CO2 = 50.000000\n",
      "photosynthesis: light intensity = 2.475000 --> photosynthesis rate = 3.535714\n",
      "photosynthesis: light intensity = 2.525000 --> photosynthesis rate = 3.607143\n",
      "photosynthesis: light intensity = 2.450000 --> photosynthesis rate = 3.500000\n",
      "photosynthesis: light intensity = 12.193627 --> photosynthesis rate = 17.419467\n",
      "photosynthesis: light intensity = 13.111410 --> photosynthesis rate = 18.730585\n",
      "photosynthesis: light intensity = 11.752085 --> photosynthesis rate = 16.788693\n",
      "photosynthesis: light intensity = 495.610433 --> photosynthesis rate = 708.014905\n",
      "photosynthesis: light intensity = 892.395133 --> photosynthesis rate = 1274.850190\n",
      "photosynthesis: light intensity = 346.817518 --> photosynthesis rate = 495.453597\n",
      "photosynthesis: light intensity = -2411258038.776343 --> photosynthesis rate = -3444654341.109062\n",
      "photosynthesis: light intensity = 17940968045.177750 --> photosynthesis rate = 25629954350.253925\n",
      "photosynthesis: light intensity = -1489545769.031900 --> photosynthesis rate = -2127922527.188429\n",
      "photosynthesis: No more input.\n",
      "growth: photosynthesis rate = 3.535714 ---> growth rate = 1.767857\n",
      "growth: photosynthesis rate = 3.607143 ---> growth rate = 1.803571\n",
      "growth: photosynthesis rate = 3.500000 ---> growth rate = 1.750000\n",
      "growth: photosynthesis rate = 17.419467 ---> growth rate = 8.709733\n",
      "growth: photosynthesis rate = 18.730585 ---> growth rate = 9.365293\n",
      "growth: photosynthesis rate = 16.788693 ---> growth rate = 8.394347\n",
      "growth: photosynthesis rate = 708.014905 ---> growth rate = 354.007452\n",
      "growth: photosynthesis rate = 1274.850190 ---> growth rate = 637.425095\n",
      "growth: photosynthesis rate = 495.453597 ---> growth rate = 247.726798\n",
      "growth: photosynthesis rate = -3444654341.109062 ---> growth rate = -1722327170.554531\n",
      "growth: photosynthesis rate = 25629954350.253925 ---> growth rate = 12814977175.126963\n",
      "canopy: layout = 1.400000, 1.300000, 1.700000\n",
      "canopy: 3 patches in initial structure:\n",
      "growth: photosynthesis rate = -2127922527.188429 ---> growth rate = -1063961263.594215\n",
      "\t\t0.000000\t0.000000\t0.000000\n",
      "growth: No more input.\n",
      "\t\t1.000000\t0.000000\t0.100000\n",
      "\t\t0.000000\t1.000000\t0.200000...\n",
      "canopy: patch 0: growth rate = 1.767857 --> \t0.000000\t0.000000\t0.000000\n",
      "\t\t\t\t\t\t2.237500\t0.000000\t0.250268\n",
      "\t\t\t\t\t\t0.000000\t2.149107\t0.500536...\n",
      "canopy: patch 1: growth rate = 1.803571 --> \t0.000000\t0.000000\t-0.506607\n",
      "\t\t\t\t\t\t2.262500\t0.000000\t0.000000\n",
      "\t\t\t\t\t\t0.000000\t2.172321\t-0.253304...\n",
      "canopy: patch 2: growth rate = 1.750000 --> \t0.000000\t0.000000\t0.497500\n",
      "\t\t\t\t\t\t2.225000\t0.000000\t0.248750\n",
      "\t\t\t\t\t\t0.000000\t2.137500\t0.746250...\n",
      "canopy: patch 0: growth rate = 8.709733 --> \t0.000000\t0.000000\t0.000000\n",
      "\t\t\t\t\t\t15.879120\t0.000000\t2.103069\n",
      "\t\t\t\t\t\t0.000000\t14.315905\t4.206138...\n",
      "canopy: patch 1: growth rate = 9.365293 --> \t0.000000\t0.000000\t-4.539453\n",
      "\t\t\t\t\t\t17.094782\t0.000000\t0.000000\n",
      "\t\t\t\t\t\t0.000000\t15.396198\t-2.269726...\n",
      "canopy: patch 2: growth rate = 8.394347 --> \t0.000000\t0.000000\t4.047259\n",
      "\t\t\t\t\t\t15.299195\t0.000000\t2.023630\n",
      "\t\t\t\t\t\t0.000000\t13.800395\t6.070889...\n",
      "canopy: patch 0: growth rate = 354.007452 --> \t0.000000\t0.000000\t0.000000\n",
      "\t\t\t\t\t\t3950.807892\t0.000000\t634.929923\n",
      "\t\t\t\t\t\t0.000000\t3308.474962\t1269.859847...\n",
      "canopy: patch 1: growth rate = 637.425095 --> \t0.000000\t0.000000\t-2464.066343\n",
      "\t\t\t\t\t\t7644.745006\t0.000000\t0.000000\n",
      "\t\t\t\t\t\t0.000000\t6394.446235\t-1232.033171...\n",
      "canopy: patch 2: growth rate = 247.726798 --> \t0.000000\t0.000000\t856.269661\n",
      "\t\t\t\t\t\t2668.313573\t0.000000\t428.134830\n",
      "\t\t\t\t\t\t0.000000\t2235.973423\t1284.404491...\n",
      "canopy: No more input.\n",
      "INFO:27939:runner.waitModels[883]:YggRunner(runner): PhotosynthesisModel finished running.\n",
      "INFO:27939:runner.waitModels[889]:YggRunner(runner): PhotosynthesisModel finished exiting.\n",
      "light: ambient light = 5.000000\n",
      "light: structure = \t0.000000\t0.000000\t0.000000 --> light_intensity = 2.475000\n",
      "\t\t\t1.000000\t0.000000\t0.100000\n",
      "\t\t\t0.000000\t1.000000\t0.200000\n",
      "light: structure = \t0.000000\t0.000000\t-0.200000 --> light_intensity = 2.525000\n",
      "\t\t\t1.000000\t0.000000\t0.000000\n",
      "\t\t\t0.000000\t1.000000\t-0.100000\n",
      "light: structure = \t0.000000\t0.000000\t0.200000 --> light_intensity = 2.450000\n",
      "\t\t\t1.000000\t0.000000\t0.100000\n",
      "\t\t\t0.000000\t1.000000\t0.300000\n",
      "light: structure = \t0.000000\t0.000000\t0.000000 --> light_intensity = 12.193627\n",
      "\t\t\t2.237500\t0.000000\t0.250268\n",
      "\t\t\t0.000000\t2.149107\t0.500536\n",
      "light: structure = \t0.000000\t0.000000\t-0.506607 --> light_intensity = 13.111410\n",
      "\t\t\t2.262500\t0.000000\t0.000000\n",
      "\t\t\t0.000000\t2.172321\t-0.253304\n",
      "light: structure = \t0.000000\t0.000000\t0.497500 --> light_intensity = 11.752085\n",
      "\t\t\t2.225000\t0.000000\t0.248750\n",
      "\t\t\t0.000000\t2.137500\t0.746250\n",
      "light: structure = \t0.000000\t0.000000\t0.000000 --> light_intensity = 495.610433\n",
      "\t\t\t15.879120\t0.000000\t2.103069\n",
      "\t\t\t0.000000\t14.315905\t4.206138\n",
      "light: structure = \t0.000000\t0.000000\t-4.539453 --> light_intensity = 892.395133\n",
      "\t\t\t17.094782\t0.000000\t0.000000\n",
      "\t\t\t0.000000\t15.396198\t-2.269726\n",
      "light: structure = \t0.000000\t0.000000\t4.047259 --> light_intensity = 346.817518\n",
      "\t\t\t15.299195\t0.000000\t2.023630\n",
      "\t\t\t0.000000\t13.800395\t6.070889\n",
      "light: structure = \t0.000000\t0.000000\t0.000000 --> light_intensity = -2411258038.776343\n",
      "\t\t\t3950.807892\t0.000000\t634.929923\n",
      "\t\t\t0.000000\t3308.474962\t1269.859847\n",
      "light: structure = \t0.000000\t0.000000\t-2464.066343 --> light_intensity = 17940968045.177750\n",
      "\t\t\t7644.745006\t0.000000\t0.000000\n",
      "\t\t\t0.000000\t6394.446235\t-1232.033171\n",
      "light: structure = \t0.000000\t0.000000\t856.269661 --> light_intensity = -1489545769.031900\n",
      "\t\t\t2668.313573\t0.000000\t428.134830\n",
      "\t\t\t0.000000\t2235.973423\t1284.404491\n",
      "light: End of input.\n",
      "INFO:27939:runner.waitModels[883]:YggRunner(runner): GrowthModel finished running.\n",
      "INFO:27939:runner.waitModels[889]:YggRunner(runner): GrowthModel finished exiting.\n",
      "INFO:27939:runner.waitModels[883]:YggRunner(runner): LightModel finished running.\n",
      "INFO:27939:runner.waitModels[889]:YggRunner(runner): LightModel finished exiting.\n",
      "INFO:27939:runner.waitModels[883]:YggRunner(runner): CanopyModel finished running.\n",
      "INFO:27939:runner.waitModels[889]:YggRunner(runner): CanopyModel finished exiting.\n",
      "INFO:27939:runner.waitModels[903]:YggRunner(runner): All models completed\n",
      "INFO:27939:runner.run[462]:YggRunner(runner):                 init\t0.000001\n",
      "INFO:27939:runner.run[462]:YggRunner(runner):         load drivers\t19.622217\n",
      "INFO:27939:runner.run[462]:YggRunner(runner):        start drivers\t0.385738\n",
      "INFO:27939:runner.run[462]:YggRunner(runner):           run models\t3.123328\n",
      "INFO:27939:runner.run[462]:YggRunner(runner):              at exit\t0.043157\n",
      "INFO:27939:runner.run[464]:YggRunner(runner): ========================================\n",
      "INFO:27939:runner.run[465]:YggRunner(runner):                Total\t23.174441\n"
     ]
    }
   ],
   "source": [
    "run(export_test)"
   ]
  }
 ],
 "metadata": {
  "kernelspec": {
   "display_name": "Python 3 (ipykernel)",
   "language": "python",
   "name": "python3"
  },
  "language_info": {
   "codemirror_mode": {
    "name": "ipython",
    "version": 3
   },
   "file_extension": ".py",
   "mimetype": "text/x-python",
   "name": "python",
   "nbconvert_exporter": "python",
   "pygments_lexer": "ipython3",
   "version": "3.10.12"
  }
 },
 "nbformat": 4,
 "nbformat_minor": 5
}
