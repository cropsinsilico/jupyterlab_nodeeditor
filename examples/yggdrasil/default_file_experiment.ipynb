{
 "cells": [
  {
   "cell_type": "code",
   "execution_count": 1,
   "id": "68260137-8efe-4631-8778-70fbfa44234f",
   "metadata": {
    "tags": []
   },
   "outputs": [],
   "source": [
    "import jupyterlab_nodeeditor as jlne"
   ]
  },
  {
   "cell_type": "code",
   "execution_count": 2,
   "id": "c7273b6c-d6b4-48d1-bf68-09924c4d057b",
   "metadata": {
    "tags": []
   },
   "outputs": [],
   "source": [
    "# create a NodeEditor instance\n",
    "ne = jlne.NodeEditor()\n",
    "\n",
    "# specify the socket_types\n",
    "coll = jlne.SocketCollection(socket_types = ('song', 'number', 'string'))\n",
    "\n",
    "# define input ports\n",
    "in1 = jlne.InputSlot(title = \"Number 1\", key = \"num1\", socket_type = \"number\", sockets = coll, default_file=\"../input/height.txt\")\n",
    "\n",
    "# define output ports\n",
    "out1 = jlne.OutputSlot(title = \"Number 2\", key = \"num2\", socket_type=\"number\", sockets = coll, default_file=\"../output/co2.txt\")\n",
    "\n",
    "# define controls\n",
    "ctrl_num = jlne.NumberInputControlModel(key = 'num_key', editor = ne.node_editor)\n",
    "\n",
    "comp_num = jlne.Component(title = \"NumberInput\", sockets=coll, inputs = [in1], outputs = [out1],\n",
    "                   controls = [ctrl_num])\n",
    "\n",
    "# add component to the editor\n",
    "ne.node_editor.add_component(comp_num)"
   ]
  },
  {
   "cell_type": "code",
   "execution_count": 3,
   "id": "0ce4cacf-7449-40c0-94cc-19d85e936199",
   "metadata": {},
   "outputs": [
    {
     "data": {
      "application/vnd.jupyter.widget-view+json": {
       "model_id": "a290fb1616824deaa209d7f396b68c1d",
       "version_major": 2,
       "version_minor": 0
      },
      "text/plain": [
       "AppLayout(children=(Label(value='Node Editor', layout=Layout(grid_area='header')), Accordion(layout=Layout(gri…"
      ]
     },
     "metadata": {},
     "output_type": "display_data"
    }
   ],
   "source": [
    "ne"
   ]
  },
  {
   "cell_type": "code",
   "execution_count": 4,
   "id": "df84ad51-1c2a-4544-b6a0-5a4afa302eb5",
   "metadata": {},
   "outputs": [],
   "source": [
    "ne.node_editor.sync_config()\n",
    "editor_json = ne.node_editor.editorConfig"
   ]
  },
  {
   "cell_type": "code",
   "execution_count": 5,
   "id": "348436b2-8bab-49c6-a97f-7122569c8422",
   "metadata": {},
   "outputs": [
    {
     "data": {
      "text/plain": [
       "{'id': 'jupyterlab_nodeeditor@0.2.0',\n",
       " 'nodes': {'3': {'id': 3,\n",
       "   'data': {},\n",
       "   'inputs': {'num1': {'connections': []}},\n",
       "   'outputs': {'num2': {'connections': []}},\n",
       "   'position': [0, 0],\n",
       "   'name': 'NumberInput'}}}"
      ]
     },
     "execution_count": 5,
     "metadata": {},
     "output_type": "execute_result"
    }
   ],
   "source": [
    "editor_json"
   ]
  },
  {
   "cell_type": "code",
   "execution_count": 6,
   "id": "e5faf056-bf0a-45d2-8b10-88e9964fb865",
   "metadata": {},
   "outputs": [],
   "source": [
    "editor_py = ne.node_editor.nodes"
   ]
  },
  {
   "cell_type": "code",
   "execution_count": 7,
   "id": "5769cba5-028a-4866-9c22-8a043046d547",
   "metadata": {},
   "outputs": [
    {
     "data": {
      "text/plain": [
       "[InputSlot(default_file='../input/height.txt', key='num1', socket_type='number', sockets=SocketCollection(socket_types=('song', 'number', 'string')), title='Number 1')]"
      ]
     },
     "execution_count": 7,
     "metadata": {},
     "output_type": "execute_result"
    }
   ],
   "source": [
    "editor_py[0].inputs"
   ]
  }
 ],
 "metadata": {
  "kernelspec": {
   "display_name": "Python 3 (ipykernel)",
   "language": "python",
   "name": "python3"
  },
  "language_info": {
   "codemirror_mode": {
    "name": "ipython",
    "version": 3
   },
   "file_extension": ".py",
   "mimetype": "text/x-python",
   "name": "python",
   "nbconvert_exporter": "python",
   "pygments_lexer": "ipython3",
   "version": "3.10.12"
  }
 },
 "nbformat": 4,
 "nbformat_minor": 5
}
