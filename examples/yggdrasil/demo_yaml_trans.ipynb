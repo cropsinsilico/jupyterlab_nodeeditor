{
 "cells": [
  {
   "cell_type": "markdown",
   "id": "039f2b58-2572-46f2-af6c-579f82636243",
   "metadata": {},
   "source": [
    "## Preparation"
   ]
  },
  {
   "cell_type": "markdown",
   "id": "ddfae637-a2e2-459f-8482-a219d7f37103",
   "metadata": {},
   "source": [
    "users need to first import the jupyterlab_nodeeditor and specify the address of the YAML files"
   ]
  },
  {
   "cell_type": "code",
   "execution_count": 1,
   "id": "89bf320b-3577-4652-a6ce-0f522c1ada51",
   "metadata": {},
   "outputs": [],
   "source": [
    "import jupyterlab_nodeeditor as jlne"
   ]
  },
  {
   "cell_type": "code",
   "execution_count": 2,
   "id": "80fae6c8-bae0-47b6-9d68-2ca678f3d8f9",
   "metadata": {},
   "outputs": [],
   "source": [
    "growth = \"./yamls/growth.yml\"\n",
    "light = \"./yamls/light.yml\"\n",
    "canopy = \"./yamls/canopy.yml\"\n",
    "photosynthesis = \"./yamls/photosynthesis.yml\""
   ]
  },
  {
   "cell_type": "markdown",
   "id": "14981871-443b-4df9-aad0-639176d14b8d",
   "metadata": {},
   "source": [
    "## Workspace"
   ]
  },
  {
   "cell_type": "code",
   "execution_count": 3,
   "id": "3c12c8a2-010c-4497-8a7a-7006a14c4c96",
   "metadata": {
    "tags": []
   },
   "outputs": [
    {
     "data": {
      "application/vnd.jupyter.widget-view+json": {
       "model_id": "2bb71028084e4a3685fe6a6948086d60",
       "version_major": 2,
       "version_minor": 0
      },
      "text/plain": [
       "AppLayout(children=(Label(value='Node Editor', layout=Layout(grid_area='header')), Accordion(layout=Layout(gri…"
      ]
     },
     "metadata": {},
     "output_type": "display_data"
    }
   ],
   "source": [
    "editor = jlne.yml_trans([light, growth, canopy, photosynthesis])\n",
    "# editor = jlne.yml_trans([photosynthesis])\n",
    "editor"
   ]
  },
  {
   "cell_type": "markdown",
   "id": "527041fc-f938-439d-a106-158bd23a568b",
   "metadata": {
    "tags": []
   },
   "source": [
    "## Export the YAML file"
   ]
  },
  {
   "cell_type": "code",
   "execution_count": 4,
   "id": "e8dc9715-80bf-4321-bf7d-655f02e59bd0",
   "metadata": {},
   "outputs": [],
   "source": [
    "jlne.editor_yaml(editor, \"./export_test.yml\")"
   ]
  },
  {
   "cell_type": "markdown",
   "id": "c0058cf8-ac27-4ff9-974c-c90fdf580b1e",
   "metadata": {},
   "source": [
    "## Import Test"
   ]
  },
  {
   "cell_type": "code",
   "execution_count": null,
   "id": "262c374a-9963-41b5-aebc-39d1dedf059f",
   "metadata": {},
   "outputs": [],
   "source": [
    "export_test = \"./export_test.yml\""
   ]
  },
  {
   "cell_type": "code",
   "execution_count": null,
   "id": "903cb0b8-dc8d-4b3a-bee1-3af4d2296771",
   "metadata": {},
   "outputs": [],
   "source": [
    "editor_test = jlne.yml_trans(export_test, show_instance=True)\n",
    "editor_test"
   ]
  },
  {
   "cell_type": "code",
   "execution_count": null,
   "id": "4ad226c1-1f25-4d85-81b9-b008ab0d6f74",
   "metadata": {},
   "outputs": [],
   "source": [
    "editor_test.node_editor.send({\"name\": \"arrangeNodes\"})"
   ]
  },
  {
   "cell_type": "markdown",
   "id": "c999d0b2-1504-4ec2-bc02-4c50e98bfc62",
   "metadata": {},
   "source": [
    "## Run the Generate YAML"
   ]
  },
  {
   "cell_type": "code",
   "execution_count": null,
   "id": "6c78b56a-8759-48d2-b758-5731addb6032",
   "metadata": {},
   "outputs": [],
   "source": [
    "from yggdrasil import tools\n",
    "from yggdrasil.runner import run"
   ]
  },
  {
   "cell_type": "code",
   "execution_count": null,
   "id": "b04facc3-48c5-4c8e-982c-57ff6ba36d9e",
   "metadata": {},
   "outputs": [],
   "source": [
    "run(\"./export_test.yml\")"
   ]
  }
 ],
 "metadata": {
  "kernelspec": {
   "display_name": "Python 3 (ipykernel)",
   "language": "python",
   "name": "python3"
  },
  "language_info": {
   "codemirror_mode": {
    "name": "ipython",
    "version": 3
   },
   "file_extension": ".py",
   "mimetype": "text/x-python",
   "name": "python",
   "nbconvert_exporter": "python",
   "pygments_lexer": "ipython3",
   "version": "3.10.12"
  }
 },
 "nbformat": 4,
 "nbformat_minor": 5
}
