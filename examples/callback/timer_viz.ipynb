{
 "cells": [
  {
   "cell_type": "code",
   "execution_count": null,
   "id": "a25ad9af-727c-47dd-81c1-a05aa8756a1c",
   "metadata": {},
   "outputs": [],
   "source": [
    "import matplotlib.pyplot as plt\n",
    "import numpy as np\n",
    "import ipywidgets as widgets\n",
    "from IPython.display import display, clear_output\n",
    "import time\n",
    "\n",
    "x = [0]\n",
    "y = [np.random.randn()]\n",
    "\n",
    "out = widgets.Output()\n",
    "display(out)\n",
    "\n",
    "def update_plot():\n",
    "    with out:\n",
    "        clear_output(wait=True)\n",
    "        plt.plot(x, y)\n",
    "        plt.show()\n",
    "\n",
    "def generate_and_update_values():\n",
    "    for _ in range(100):\n",
    "        time.sleep(1)\n",
    "        x.append(x[-1] + 1)\n",
    "        y.append(np.random.randn())\n",
    "        update_plot()\n",
    "\n",
    "generate_and_update_values()"
   ]
  },
  {
   "cell_type": "code",
   "execution_count": null,
   "id": "a1b08453-0ee7-4ddf-9594-84a1bdebeed4",
   "metadata": {},
   "outputs": [],
   "source": [
    "import matplotlib.pyplot as plt\n",
    "import numpy as np\n",
    "import asyncio\n",
    "import ipywidgets as widgets\n",
    "from IPython.display import display, clear_output\n",
    "\n",
    "x = [0]\n",
    "y = [np.random.randn()]\n",
    "\n",
    "out = widgets.Output()\n",
    "display(out)\n",
    "\n",
    "async def update_plot():\n",
    "    while True:\n",
    "        await asyncio.sleep(3)\n",
    "        with out:\n",
    "            clear_output(wait=True)\n",
    "            plt.plot(x, y)\n",
    "            plt.show()\n",
    "\n",
    "async def generate_values():\n",
    "    while True:\n",
    "        await asyncio.sleep(1)\n",
    "        x.append(x[-1] + 1)\n",
    "        y.append(np.random.randn())\n",
    "\n",
    "async def main():\n",
    "    await asyncio.gather(\n",
    "        generate_values(),\n",
    "        update_plot()\n",
    "    )\n",
    "\n",
    "await main()"
   ]
  }
 ],
 "metadata": {
  "kernelspec": {
   "display_name": "Python 3 (ipykernel)",
   "language": "python",
   "name": "python3"
  },
  "language_info": {
   "codemirror_mode": {
    "name": "ipython",
    "version": 3
   },
   "file_extension": ".py",
   "mimetype": "text/x-python",
   "name": "python",
   "nbconvert_exporter": "python",
   "pygments_lexer": "ipython3",
   "version": "3.10.12"
  }
 },
 "nbformat": 4,
 "nbformat_minor": 5
}
