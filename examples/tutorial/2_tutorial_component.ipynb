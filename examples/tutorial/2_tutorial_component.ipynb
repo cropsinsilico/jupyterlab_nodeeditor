{
 "cells": [
  {
   "cell_type": "markdown",
   "id": "73d8cbd2-ebd6-4d98-831e-1dc7795668ce",
   "metadata": {},
   "source": [
    "## Component Introduction"
   ]
  },
  {
   "cell_type": "markdown",
   "id": "8142651d-1f66-4c16-9b6d-b8fec7ce268e",
   "metadata": {},
   "source": [
    "As we mentioned, component is the key object in JLNE, which contains four parts\n",
    "- **component name**: what you can identify from the toolbox \n",
    "- **input socket**: represents the input elements of the component, which could range from none, one, to several.\n",
    "- **output Socket**: this refers to the outputs of the component, which can range from none to one or even multiple outputs for a single component.\n",
    "- **control object**: store additional information, such as the execution file, the number need for further aggregation and etc,."
   ]
  },
  {
   "cell_type": "markdown",
   "id": "028cd15d-48b6-49c2-9a08-1bad1a69916a",
   "metadata": {},
   "source": [
    "![](./img/component.png)"
   ]
  },
  {
   "cell_type": "markdown",
   "id": "09654687-4be5-46f4-91d1-d7ea7acfbb22",
   "metadata": {},
   "source": [
    "As we become familiar with different parts of the component, we can use code to define it"
   ]
  },
  {
   "cell_type": "code",
   "execution_count": 1,
   "id": "3f53d451-7605-4bea-b636-7c7fef82252e",
   "metadata": {},
   "outputs": [],
   "source": [
    "import jupyterlab_nodeeditor as jlne"
   ]
  },
  {
   "cell_type": "markdown",
   "id": "74446988-ebe5-465e-a20b-42cee3fc1483",
   "metadata": {},
   "source": [
    "### SocketCollection"
   ]
  },
  {
   "cell_type": "markdown",
   "id": "95f74f3d-0407-4cb9-8e69-44b532d945fe",
   "metadata": {},
   "source": [
    "`SocketCollection` is essential to clarify what type of the socket you want to include when building a component <br>\n",
    "Usually, the name you included in the collection doesn't matter, but you have to utilize them to further define socket (either input socket or output socket)<br>\n",
    "Here we defined three socket_types including `song`, `number` and `string`"
   ]
  },
  {
   "cell_type": "code",
   "execution_count": 2,
   "id": "e533d652-07d7-43cc-9e31-45bc96e9ec69",
   "metadata": {},
   "outputs": [],
   "source": [
    "coll = jlne.SocketCollection(socket_types=(\"song\", \"number\", \"string\"))\n",
    "\n",
    "# create a NodeEditor\n",
    "ne = jlne.NodeEditor(socket_collection=coll)"
   ]
  },
  {
   "cell_type": "markdown",
   "id": "153b5c7f-dc52-44cc-802a-56b6aadccbcf",
   "metadata": {},
   "source": [
    "### Input Socket"
   ]
  },
  {
   "cell_type": "markdown",
   "id": "0c8d08f4-3324-40be-9c4f-2e43fd4b6cf5",
   "metadata": {},
   "source": [
    "Every socket requires its own variables. For example, if we aim to generate three sockets such as `in1`, `in2`, and `in3`. Each of these input sockets must have a `socket_type` from the `SocketCollection` and a `title` defined, which will be displayed in the workspace, as well as a unique `key` for its distinct identification."
   ]
  },
  {
   "cell_type": "code",
   "execution_count": 3,
   "id": "7aea9adf-6294-48ff-a7d0-6624fc368bd1",
   "metadata": {},
   "outputs": [],
   "source": [
    "in1 = jlne.InputSlot(\n",
    "    title=\"Number 1\", key=\"num1\", socket_type=\"number\", sockets=coll\n",
    ")\n",
    "in2 = jlne.InputSlot(\n",
    "    title=\"Song 1\", key=\"song1\", socket_type=\"song\", sockets=coll\n",
    ")\n",
    "in3 = jlne.InputSlot(\n",
    "    title=\"String 1\", key=\"str1\", socket_type=\"string\", sockets=coll\n",
    ")"
   ]
  },
  {
   "cell_type": "markdown",
   "id": "d24260d6-dbbb-41a9-93c2-8af1246a2596",
   "metadata": {},
   "source": [
    "### Output Socket"
   ]
  },
  {
   "cell_type": "markdown",
   "id": "5a524d1e-a749-4a87-a538-cd31718bc511",
   "metadata": {},
   "source": [
    "Different from Input Socket, you need to use `jlne.OutputSlot` to create the output socket"
   ]
  },
  {
   "cell_type": "code",
   "execution_count": 4,
   "id": "41a04202-9b8a-4fa1-aa46-c2f51a29acfa",
   "metadata": {},
   "outputs": [],
   "source": [
    "out1 = jlne.OutputSlot(\n",
    "    title=\"Number 2\", key=\"num2\", socket_type=\"number\", sockets=coll\n",
    ")\n",
    "out2 = jlne.OutputSlot(\n",
    "    title=\"Song 2\", key=\"song2\", socket_type=\"song\", sockets=coll\n",
    ")\n",
    "out3 = jlne.OutputSlot(\n",
    "    title=\"String 2\", key=\"str2\", socket_type=\"string\", sockets=coll\n",
    ")"
   ]
  },
  {
   "cell_type": "markdown",
   "id": "2ad17d65-0d33-423b-8c7f-bf647367edcc",
   "metadata": {},
   "source": [
    "### Control Object"
   ]
  },
  {
   "cell_type": "markdown",
   "id": "56ed745f-2200-4233-8705-fe60b0919874",
   "metadata": {},
   "source": [
    "At present, JLNE provides support for three types of control objects: `NumberInputControl`,`TextInputControl` and `DropdownInputControl`. Additional types of control objects are planned for future implementation. The code used to establish various control objects differs slightly."
   ]
  },
  {
   "cell_type": "markdown",
   "id": "16f309b6-2196-4db3-beb5-02c9a90e2fa6",
   "metadata": {},
   "source": [
    "**NumberInput**"
   ]
  },
  {
   "cell_type": "markdown",
   "id": "195e40e9-b1bc-47d8-aa45-62fcba15bc63",
   "metadata": {},
   "source": [
    "`NumberInput` is one control object you can pass numerical number to the node component"
   ]
  },
  {
   "cell_type": "code",
   "execution_count": 5,
   "id": "3fcdd158-4d68-4f63-94b6-ef2a1a10c7a0",
   "metadata": {},
   "outputs": [],
   "source": [
    "ctrl_num = jlne.NumberInputControlModel(key=\"num_key\", editor=ne.node_editor)"
   ]
  },
  {
   "cell_type": "markdown",
   "id": "5e6a7c07-bd83-406d-92f6-3ada20f0537f",
   "metadata": {},
   "source": [
    "**TextInput**"
   ]
  },
  {
   "cell_type": "markdown",
   "id": "5a343987-d5d0-4a1b-9f5c-2faa21f993b3",
   "metadata": {},
   "source": [
    "We usually use `TextInput` to store the file path information"
   ]
  },
  {
   "cell_type": "code",
   "execution_count": 6,
   "id": "977b292a-ca37-4e38-9195-545aa49e6f63",
   "metadata": {},
   "outputs": [],
   "source": [
    "ctrl_text = jlne.TextInputControlModel(\n",
    "    key=\"text_key\", editor=ne.node_editor, value=\"demonstration\"\n",
    ")"
   ]
  },
  {
   "cell_type": "markdown",
   "id": "408eb8e9-f6fb-4e84-8a27-c345c9f7bca5",
   "metadata": {},
   "source": [
    "**DropDownInput**"
   ]
  },
  {
   "cell_type": "markdown",
   "id": "769bb469-dfa9-4bc4-b8fc-3321b9acc3dd",
   "metadata": {},
   "source": [
    "You can assign a list of dictionaries to the `options` to construct a `DropDownInputControl`"
   ]
  },
  {
   "cell_type": "code",
   "execution_count": 7,
   "id": "4e2edd2b-8a40-42a9-9832-52bf4fcd07de",
   "metadata": {},
   "outputs": [],
   "source": [
    "ctrl_dropdown = jlne.DropDownInputControlModel(\n",
    "    key=\"dropdown_key\",\n",
    "    editor=ne.node_editor,\n",
    "    options=[\n",
    "        {\n",
    "            \"text\": \"apple\",\n",
    "            \"value\": \"apple\",\n",
    "        },\n",
    "        {\"text\": \"orange\", \"value\": \"orange\"},\n",
    "        {\"text\": \"kiwi\", \"value\": \"orange\"},\n",
    "    ],\n",
    ")"
   ]
  },
  {
   "cell_type": "markdown",
   "id": "5e0d606a-8f02-41d8-8590-c5abef3463b0",
   "metadata": {},
   "source": [
    "## Component Define"
   ]
  },
  {
   "cell_type": "markdown",
   "id": "6775e00b-ef19-4792-bc63-3b2a12916654",
   "metadata": {},
   "source": [
    "Once all necessary elements are defined, we can assemble the component using the component name (`title`), `sockets`, `inputs`, `outputs`, and `controls`. \n",
    "> **Note**: A defined socket e.g., `in1` can be reused multiple times to build diverse components."
   ]
  },
  {
   "cell_type": "code",
   "execution_count": 8,
   "id": "a174f53e-31ef-415b-a779-12285f70716a",
   "metadata": {},
   "outputs": [],
   "source": [
    "# construct the component\n",
    "comp_num = jlne.Component(\n",
    "    title=\"NumberInput\",\n",
    "    sockets=coll,\n",
    "    inputs=[in1, in2, in3],\n",
    "    outputs=[out1, out2, out3],\n",
    "    controls=[ctrl_num],\n",
    ")\n",
    "\n",
    "comp_text = jlne.Component(\n",
    "    title=\"TextInput\",\n",
    "    sockets=coll,\n",
    "    inputs=[in1],\n",
    "    outputs=[out1],\n",
    "    controls=[ctrl_text],\n",
    ")\n",
    "\n",
    "comp_dropdown = jlne.Component(\n",
    "    title=\"DropDownInput\",\n",
    "    sockets=coll,\n",
    "    outputs=[out1, out2],\n",
    "    controls=[ctrl_dropdown],\n",
    ")"
   ]
  },
  {
   "cell_type": "markdown",
   "id": "ae8925ec-4f07-43af-9a91-3300b0a3b84f",
   "metadata": {},
   "source": [
    "## Add Components to Editor"
   ]
  },
  {
   "cell_type": "code",
   "execution_count": 9,
   "id": "c2ebf736-28bf-4ccb-8b38-4d8ebffb4da7",
   "metadata": {},
   "outputs": [
    {
     "data": {
      "application/vnd.jupyter.widget-view+json": {
       "model_id": "34a0538f3d3f4678ad701e3b00024cdf",
       "version_major": 2,
       "version_minor": 0
      },
      "text/plain": [
       "AppLayout(children=(Label(value='Node Editor', layout=Layout(grid_area='header')), Accordion(layout=Layout(gri…"
      ]
     },
     "metadata": {},
     "output_type": "display_data"
    }
   ],
   "source": [
    "# add component to the editor\n",
    "ne.node_editor.add_component(comp_num)\n",
    "ne.node_editor.add_component(comp_text)\n",
    "ne.node_editor.add_component(comp_dropdown)\n",
    "ne"
   ]
  },
  {
   "cell_type": "markdown",
   "id": "db5e0f59-bc12-4eec-b205-f91f8a3cdce2",
   "metadata": {},
   "source": [
    "## Adding Instances by Scripts"
   ]
  },
  {
   "cell_type": "markdown",
   "id": "9e11a554-18d2-4693-ae0a-b84eef7e9688",
   "metadata": {},
   "source": [
    "Users have the ability to incorporate instances by initially adding components to the toolbox, followed by adding them to the workspace. Nevertheless, to expedite this process, we've offered a method that allows the direct addition of instances to the editor via scripting, which has been proved to be a substantial time saver.\n",
    "> **Note**: 1) Please make sure that the title of the NodeInstanceModel is similar to the component, otherwise it wont show up in the workspace 2) do not run the following cell if you want to run all cells at once"
   ]
  },
  {
   "cell_type": "code",
   "execution_count": 10,
   "id": "726a46a1-9d75-4f65-8aa4-e686de78587b",
   "metadata": {},
   "outputs": [],
   "source": [
    "instance = jlne.node_editor.NodeInstanceModel(\n",
    "    title=\"NumberInput\",\n",
    "    inputs=[in1, in2, in3],\n",
    "    outputs=[out1, out2, out3],\n",
    "    controls=[ctrl_num],\n",
    ")"
   ]
  },
  {
   "cell_type": "code",
   "execution_count": 11,
   "id": "24225d12-294d-4cd6-a5f6-3a5516afe23a",
   "metadata": {},
   "outputs": [],
   "source": [
    "ne.node_editor.nodes = ne.node_editor.nodes + [instance]"
   ]
  }
 ],
 "metadata": {
  "kernelspec": {
   "display_name": "Python 3 (ipykernel)",
   "language": "python",
   "name": "python3"
  },
  "language_info": {
   "codemirror_mode": {
    "name": "ipython",
    "version": 3
   },
   "file_extension": ".py",
   "mimetype": "text/x-python",
   "name": "python",
   "nbconvert_exporter": "python",
   "pygments_lexer": "ipython3",
   "version": "3.10.12"
  }
 },
 "nbformat": 4,
 "nbformat_minor": 5
}
